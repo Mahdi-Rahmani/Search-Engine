{
 "cells": [
  {
   "cell_type": "markdown",
   "id": "aa9c38a2",
   "metadata": {},
   "source": [
    "<div class=\"alert alert-block alert-success\">\n",
    "    <h1 align=\"center\">Information Retrival Systems</h1>\n",
    "    <h2 align=\"center\">Simple search engine project</h2>\n",
    "    <h3 align=\"center\">Phase 1</h3>\n",
    "</div>"
   ]
  },
  {
   "cell_type": "markdown",
   "id": "3c771a4d",
   "metadata": {},
   "source": [
    "<div>\n",
    "<img src=\"./images/search2.jpg\" width=\"1000\" height=\"100\"/>\n",
    "</div>"
   ]
  },
  {
   "cell_type": "markdown",
   "id": "f4c1d789",
   "metadata": {},
   "source": [
    "## Loading Libraries"
   ]
  },
  {
   "cell_type": "markdown",
   "id": "16d0bd88",
   "metadata": {},
   "source": [
    "- We need Two important libraries for this project:\n",
    "- [ ] hazm\n",
    "- [ ] parsivar\n",
    "- I use parsivar for Normalization, Tokenization and Stemming and use hazm for find stopwords and remove them\n",
    "- Also we use pandas for working with dataframe and also numpy for working with arrays"
   ]
  },
  {
   "cell_type": "code",
   "execution_count": 1,
   "id": "aab0b925",
   "metadata": {},
   "outputs": [],
   "source": [
    "from parsivar import Normalizer, Tokenizer, FindStems\n",
    "from hazm import stopwords_list\n",
    "import numpy as np\n",
    "import pandas as pd\n",
    "import matplotlib.pyplot as plt\n",
    "import os\n",
    "import json\n",
    "import pickle\n",
    "import re\n",
    "import math\n",
    "import numpy as np\n",
    "import matplotlib.pyplot as plt\n",
    "from string import punctuation\n",
    "from sklearn.linear_model import LinearRegression\n",
    "import string\n",
    "import pandas as pd"
   ]
  },
  {
   "cell_type": "markdown",
   "id": "8c613f3f",
   "metadata": {},
   "source": [
    "## Loading Dataset"
   ]
  },
  {
   "cell_type": "code",
   "execution_count": 2,
   "id": "1540f710",
   "metadata": {},
   "outputs": [],
   "source": [
    "# If we work with google colab\n",
    "\"\"\"\n",
    "from google.colab import drive\n",
    "drive.mount('/content/drive')\n",
    "data_path = '/content/drive/MyDrive/IR_data_news_12k.json'\n",
    "df = pd.read_json(data_path)\n",
    "\"\"\"\n",
    "# If we work on local system\n",
    "df = pd.read_json('./Data/IR_data_news_12k.json')"
   ]
  },
  {
   "cell_type": "markdown",
   "id": "89276015",
   "metadata": {},
   "source": [
    "## EDA"
   ]
  },
  {
   "cell_type": "markdown",
   "id": "699f3073",
   "metadata": {},
   "source": [
    "- First We should get some information about our dataset. If we konw it well we can do better"
   ]
  },
  {
   "cell_type": "code",
   "execution_count": 3,
   "id": "38ee5e1e",
   "metadata": {},
   "outputs": [
    {
     "data": {
      "text/html": [
       "<div>\n",
       "<style scoped>\n",
       "    .dataframe tbody tr th:only-of-type {\n",
       "        vertical-align: middle;\n",
       "    }\n",
       "\n",
       "    .dataframe tbody tr th {\n",
       "        vertical-align: top;\n",
       "    }\n",
       "\n",
       "    .dataframe thead th {\n",
       "        text-align: right;\n",
       "    }\n",
       "</style>\n",
       "<table border=\"1\" class=\"dataframe\">\n",
       "  <thead>\n",
       "    <tr style=\"text-align: right;\">\n",
       "      <th></th>\n",
       "      <th>0</th>\n",
       "      <th>1</th>\n",
       "      <th>2</th>\n",
       "      <th>3</th>\n",
       "      <th>4</th>\n",
       "      <th>5</th>\n",
       "      <th>6</th>\n",
       "      <th>7</th>\n",
       "      <th>8</th>\n",
       "      <th>9</th>\n",
       "      <th>...</th>\n",
       "      <th>12192</th>\n",
       "      <th>12193</th>\n",
       "      <th>12194</th>\n",
       "      <th>12195</th>\n",
       "      <th>12196</th>\n",
       "      <th>12197</th>\n",
       "      <th>12198</th>\n",
       "      <th>12199</th>\n",
       "      <th>12200</th>\n",
       "      <th>12201</th>\n",
       "    </tr>\n",
       "  </thead>\n",
       "  <tbody>\n",
       "    <tr>\n",
       "      <th>title</th>\n",
       "      <td>اعلام زمان قرعه کشی جام باشگاه های فوتسال آسیا</td>\n",
       "      <td>سجادی :حضور تماشاگران در  لیگ برتر فوتبال تابع...</td>\n",
       "      <td>محل برگزاری نشست‌های خبری سرخابی‌ها؛ مجیدی در ...</td>\n",
       "      <td>ماجدی در نشست با صالحی امیری: امیدوارم در این ...</td>\n",
       "      <td>لیگ‌برتر بسکتبال|‌ نخستین پیروزی شهرداری گرگان...</td>\n",
       "      <td>مسابقات تنیس روی میز فیدر قطر| هر4 بانوی ملی پ...</td>\n",
       "      <td>اعلام برنامه نشست خبری گل محمدی/ مجیدی هم باید...</td>\n",
       "      <td>احضار مدیران پرسپولیس به کمیته انضباطی  پیش از...</td>\n",
       "      <td>مدیر بی‌دستاورد، رئیس شد/ روزگار تلخ‌تر از تلخ...</td>\n",
       "      <td>خبر خوب برای استقلال؛ دانشگر با تیم تمرین کرد</td>\n",
       "      <td>...</td>\n",
       "      <td>کمیته ویژه‌ای از سوی رئیس جمهور مسئول پیگیری م...</td>\n",
       "      <td>مصری: با سفرهای استانی، کُلاه سر رئیس‌جمهور نم...</td>\n",
       "      <td>رئیسی به اردبیل سفر می‌کند/ توضیحاتی درباره مق...</td>\n",
       "      <td>رئیس دفتر رئیس جمهور وضعیت زلزله زرند را بررسی...</td>\n",
       "      <td>جزئیات گزارش سفر نظارتی اعضای کمیسیون فرهنگی م...</td>\n",
       "      <td>دفع حمله دزدان دریایی به دو نفتکش ایرانی توسط ...</td>\n",
       "      <td>نقدی بر یادداشت «مرزبندی گفتمانی با طالبان»/ و...</td>\n",
       "      <td>روند تحقیق و تفحص از سازمان سنجش با جدیت ادامه...</td>\n",
       "      <td>محسن اسلامی مدیرکل دفتر امور سیاسی وزارت کشور شد</td>\n",
       "      <td>جلسه سران قوا به‌ میزبانی رئیس مجلس برگزار شد</td>\n",
       "    </tr>\n",
       "    <tr>\n",
       "      <th>content</th>\n",
       "      <td>\\nبه گزارش خبرگزاری فارس، کنفدراسیون فوتبال آس...</td>\n",
       "      <td>\\nبه گزارش خبرگزاری فارس، سید حمید سجادی در حا...</td>\n",
       "      <td>\\nبه گزارش خبرگزاری فارس، نشست خبری پیش از مسا...</td>\n",
       "      <td>\\nبه گزارش خبرگزاری فارس،  سید رضا صالحی امیری...</td>\n",
       "      <td>\\nبه گزارش خبرنگار ورزشی خبرگزاری فارس، در نخس...</td>\n",
       "      <td>\\nبه گزارش خبرگزاری فارس، چهار بانوی تنیس روی ...</td>\n",
       "      <td>\\nبه گزارش خبرگزاری فارس و به نقل از  سایت باش...</td>\n",
       "      <td>\\nبه گزارش خبرنگار ورزشی خبرگزاری فارس، کمیته ...</td>\n",
       "      <td>\\nبه گزارش خبرنگار ورزشی خبرگزاری فارس، مجمع ا...</td>\n",
       "      <td>\\nبه گزارش خبرنگار ورزشی خبرگزاری فارس، تمرین ...</td>\n",
       "      <td>...</td>\n",
       "      <td>\\nاسماعیلی حسین زهی نماینده مردم خاش در مجلس ش...</td>\n",
       "      <td>\\nعبدالرضا مصری نایب رئیس مجلس شورای اسلامی در...</td>\n",
       "      <td>\\nبه گزارش گروه سیاسی خبرگزاری فارس، سیّد صولت...</td>\n",
       "      <td>\\nبه گزارش گروه سیاسی خبرگزاری فارس غلامحسین ا...</td>\n",
       "      <td>\\nغلامرضا منتظری نماینده مردم گرگان در مجلس شو...</td>\n",
       "      <td>\\nبه گزارش گروه دفاعی خبرگزاری فارس، دریادار ش...</td>\n",
       "      <td>\\nخبرگزاری فارس ـ یادداشت میهمان ـ مسعود مرادی...</td>\n",
       "      <td>\\nبه گزارش خبرنگار پارلمانی خبرگزاری فارس، هیا...</td>\n",
       "      <td>\\nبه گزارش خبرگزاری فارس به نقل از پایگاه اطلا...</td>\n",
       "      <td>\\nبه گزارش خبرنگار پارلمانی خبرگزاری فارس، جلس...</td>\n",
       "    </tr>\n",
       "    <tr>\n",
       "      <th>tags</th>\n",
       "      <td>[اعلام زمان, قرعه‌کشی, قرعه‌کشی جام, قرعه‌کشی ...</td>\n",
       "      <td>[سجادی, لیگ, فدراسیون, وزیر ورزش]</td>\n",
       "      <td>[دربی 94, محل برگزاری, خبری سرخابی‌ها, مجیدی, ...</td>\n",
       "      <td>[کمیته امداد امام خمینی (ره), کمیته ملی المپیک...</td>\n",
       "      <td>[بسکتبال, لیگ برتر بسکتبال, شهرداری گرگان, تیم...</td>\n",
       "      <td>[مهشید اشتری, تنیس روی میز, ملی پوشان تنیس روی...</td>\n",
       "      <td>[باشگاه استقلال, یحیی گل محمدی, فرهاد مجیدی, ن...</td>\n",
       "      <td>[باشگاه پرسپولیس, احضار مدیران پرسپولیس به کمی...</td>\n",
       "      <td>[والیبال, پیمان رضایی, تیم والیبال شهرداری ارو...</td>\n",
       "      <td>[دانشگر با تیم تمرین کرد, محمد دانشگر, استقلال]</td>\n",
       "      <td>...</td>\n",
       "      <td>[مجلس شورای اسلامی, کمیسیون عمران, اسماعیل حسی...</td>\n",
       "      <td>[سید ابراهیم رئیسی, مجلس شورای اسلامی, رئیس‌جم...</td>\n",
       "      <td>[سید ابراهیم رئیسی, صولت مرتضوی, سفر رئیسی به ...</td>\n",
       "      <td>[غلامحسین اسماعیلی, رئیس دفتر رئیس جمهور, زلزل...</td>\n",
       "      <td>[مجلس شورای اسلامی, غلامرضا منتظری, نایب رئیس ...</td>\n",
       "      <td>[ارتش جمهوری اسلامی ایران, شهرام ایرانی, نیروی...</td>\n",
       "      <td>[طالبان, یادداشت, گفتمان, جمهوری اسلامی ایران,...</td>\n",
       "      <td>[مجلس شورای اسلامی, سازمان سنجش و آموزش کشور, ...</td>\n",
       "      <td>[وزارت کشور, احمد وحیدی, وزیر کشور, وزارت علوم...</td>\n",
       "      <td>[سران قوا, رئیس مجلس, رئیس جمهور, رئیس قوه قضا...</td>\n",
       "    </tr>\n",
       "    <tr>\n",
       "      <th>date</th>\n",
       "      <td>3/15/2022 5:59:27 PM</td>\n",
       "      <td>3/15/2022 5:30:07 PM</td>\n",
       "      <td>3/15/2022 5:20:01 PM</td>\n",
       "      <td>3/15/2022 5:18:00 PM</td>\n",
       "      <td>3/15/2022 5:16:41 PM</td>\n",
       "      <td>3/15/2022 5:15:34 PM</td>\n",
       "      <td>3/15/2022 3:57:47 PM</td>\n",
       "      <td>3/15/2022 3:43:18 PM</td>\n",
       "      <td>3/15/2022 3:35:21 PM</td>\n",
       "      <td>3/15/2022 3:21:04 PM</td>\n",
       "      <td>...</td>\n",
       "      <td>10/17/2021 7:17:00 AM</td>\n",
       "      <td>10/17/2021 6:05:00 AM</td>\n",
       "      <td>10/16/2021 8:58:18 PM</td>\n",
       "      <td>10/16/2021 8:47:20 PM</td>\n",
       "      <td>10/16/2021 7:38:13 PM</td>\n",
       "      <td>10/16/2021 6:25:36 PM</td>\n",
       "      <td>10/16/2021 5:03:39 PM</td>\n",
       "      <td>10/16/2021 4:54:47 PM</td>\n",
       "      <td>10/16/2021 4:14:30 PM</td>\n",
       "      <td>10/16/2021 4:05:31 PM</td>\n",
       "    </tr>\n",
       "    <tr>\n",
       "      <th>url</th>\n",
       "      <td>https://www.farsnews.ir/news/14001224001005/اع...</td>\n",
       "      <td>https://www.farsnews.ir/news/14001224000982/سج...</td>\n",
       "      <td>https://www.farsnews.ir/news/14001224000971/مح...</td>\n",
       "      <td>https://www.farsnews.ir/news/14001224000964/ما...</td>\n",
       "      <td>https://www.farsnews.ir/news/14001224000947/لی...</td>\n",
       "      <td>https://www.farsnews.ir/news/14001224000916/مس...</td>\n",
       "      <td>https://www.farsnews.ir/news/14001224000865/اع...</td>\n",
       "      <td>https://www.farsnews.ir/news/14001224000842/اح...</td>\n",
       "      <td>https://www.farsnews.ir/news/14001224000811/مد...</td>\n",
       "      <td>https://www.farsnews.ir/news/14001224000819/خب...</td>\n",
       "      <td>...</td>\n",
       "      <td>https://www.farsnews.ir/news/14000724000586/کم...</td>\n",
       "      <td>https://www.farsnews.ir/news/14000724000679/مص...</td>\n",
       "      <td>https://www.farsnews.ir/news/14000724000905/رئ...</td>\n",
       "      <td>https://www.farsnews.ir/news/14000724000899/رئ...</td>\n",
       "      <td>https://www.farsnews.ir/news/14000724000826/جز...</td>\n",
       "      <td>https://www.farsnews.ir/news/14000724000790/دف...</td>\n",
       "      <td>https://www.farsnews.ir/news/14000724000611/نق...</td>\n",
       "      <td>https://www.farsnews.ir/news/14000724000694/رو...</td>\n",
       "      <td>https://www.farsnews.ir/news/14000724000651/مح...</td>\n",
       "      <td>https://www.farsnews.ir/news/14000724000639/جل...</td>\n",
       "    </tr>\n",
       "    <tr>\n",
       "      <th>category</th>\n",
       "      <td>sports</td>\n",
       "      <td>sports</td>\n",
       "      <td>sports</td>\n",
       "      <td>sports</td>\n",
       "      <td>sports</td>\n",
       "      <td>sports</td>\n",
       "      <td>sports</td>\n",
       "      <td>sports</td>\n",
       "      <td>sports</td>\n",
       "      <td>sports</td>\n",
       "      <td>...</td>\n",
       "      <td>politics</td>\n",
       "      <td>politics</td>\n",
       "      <td>politics</td>\n",
       "      <td>politics</td>\n",
       "      <td>politics</td>\n",
       "      <td>politics</td>\n",
       "      <td>politics</td>\n",
       "      <td>politics</td>\n",
       "      <td>politics</td>\n",
       "      <td>politics</td>\n",
       "    </tr>\n",
       "  </tbody>\n",
       "</table>\n",
       "<p>6 rows × 12202 columns</p>\n",
       "</div>"
      ],
      "text/plain": [
       "                                                      0      \\\n",
       "title        اعلام زمان قرعه کشی جام باشگاه های فوتسال آسیا   \n",
       "content   \\nبه گزارش خبرگزاری فارس، کنفدراسیون فوتبال آس...   \n",
       "tags      [اعلام زمان, قرعه‌کشی, قرعه‌کشی جام, قرعه‌کشی ...   \n",
       "date                                   3/15/2022 5:59:27 PM   \n",
       "url       https://www.farsnews.ir/news/14001224001005/اع...   \n",
       "category                                             sports   \n",
       "\n",
       "                                                      1      \\\n",
       "title     سجادی :حضور تماشاگران در  لیگ برتر فوتبال تابع...   \n",
       "content   \\nبه گزارش خبرگزاری فارس، سید حمید سجادی در حا...   \n",
       "tags                      [سجادی, لیگ, فدراسیون, وزیر ورزش]   \n",
       "date                                   3/15/2022 5:30:07 PM   \n",
       "url       https://www.farsnews.ir/news/14001224000982/سج...   \n",
       "category                                             sports   \n",
       "\n",
       "                                                      2      \\\n",
       "title     محل برگزاری نشست‌های خبری سرخابی‌ها؛ مجیدی در ...   \n",
       "content   \\nبه گزارش خبرگزاری فارس، نشست خبری پیش از مسا...   \n",
       "tags      [دربی 94, محل برگزاری, خبری سرخابی‌ها, مجیدی, ...   \n",
       "date                                   3/15/2022 5:20:01 PM   \n",
       "url       https://www.farsnews.ir/news/14001224000971/مح...   \n",
       "category                                             sports   \n",
       "\n",
       "                                                      3      \\\n",
       "title     ماجدی در نشست با صالحی امیری: امیدوارم در این ...   \n",
       "content   \\nبه گزارش خبرگزاری فارس،  سید رضا صالحی امیری...   \n",
       "tags      [کمیته امداد امام خمینی (ره), کمیته ملی المپیک...   \n",
       "date                                   3/15/2022 5:18:00 PM   \n",
       "url       https://www.farsnews.ir/news/14001224000964/ما...   \n",
       "category                                             sports   \n",
       "\n",
       "                                                      4      \\\n",
       "title     لیگ‌برتر بسکتبال|‌ نخستین پیروزی شهرداری گرگان...   \n",
       "content   \\nبه گزارش خبرنگار ورزشی خبرگزاری فارس، در نخس...   \n",
       "tags      [بسکتبال, لیگ برتر بسکتبال, شهرداری گرگان, تیم...   \n",
       "date                                   3/15/2022 5:16:41 PM   \n",
       "url       https://www.farsnews.ir/news/14001224000947/لی...   \n",
       "category                                             sports   \n",
       "\n",
       "                                                      5      \\\n",
       "title     مسابقات تنیس روی میز فیدر قطر| هر4 بانوی ملی پ...   \n",
       "content   \\nبه گزارش خبرگزاری فارس، چهار بانوی تنیس روی ...   \n",
       "tags      [مهشید اشتری, تنیس روی میز, ملی پوشان تنیس روی...   \n",
       "date                                   3/15/2022 5:15:34 PM   \n",
       "url       https://www.farsnews.ir/news/14001224000916/مس...   \n",
       "category                                             sports   \n",
       "\n",
       "                                                      6      \\\n",
       "title     اعلام برنامه نشست خبری گل محمدی/ مجیدی هم باید...   \n",
       "content   \\nبه گزارش خبرگزاری فارس و به نقل از  سایت باش...   \n",
       "tags      [باشگاه استقلال, یحیی گل محمدی, فرهاد مجیدی, ن...   \n",
       "date                                   3/15/2022 3:57:47 PM   \n",
       "url       https://www.farsnews.ir/news/14001224000865/اع...   \n",
       "category                                             sports   \n",
       "\n",
       "                                                      7      \\\n",
       "title     احضار مدیران پرسپولیس به کمیته انضباطی  پیش از...   \n",
       "content   \\nبه گزارش خبرنگار ورزشی خبرگزاری فارس، کمیته ...   \n",
       "tags      [باشگاه پرسپولیس, احضار مدیران پرسپولیس به کمی...   \n",
       "date                                   3/15/2022 3:43:18 PM   \n",
       "url       https://www.farsnews.ir/news/14001224000842/اح...   \n",
       "category                                             sports   \n",
       "\n",
       "                                                      8      \\\n",
       "title     مدیر بی‌دستاورد، رئیس شد/ روزگار تلخ‌تر از تلخ...   \n",
       "content   \\nبه گزارش خبرنگار ورزشی خبرگزاری فارس، مجمع ا...   \n",
       "tags      [والیبال, پیمان رضایی, تیم والیبال شهرداری ارو...   \n",
       "date                                   3/15/2022 3:35:21 PM   \n",
       "url       https://www.farsnews.ir/news/14001224000811/مد...   \n",
       "category                                             sports   \n",
       "\n",
       "                                                      9      ...  \\\n",
       "title         خبر خوب برای استقلال؛ دانشگر با تیم تمرین کرد  ...   \n",
       "content   \\nبه گزارش خبرنگار ورزشی خبرگزاری فارس، تمرین ...  ...   \n",
       "tags        [دانشگر با تیم تمرین کرد, محمد دانشگر, استقلال]  ...   \n",
       "date                                   3/15/2022 3:21:04 PM  ...   \n",
       "url       https://www.farsnews.ir/news/14001224000819/خب...  ...   \n",
       "category                                             sports  ...   \n",
       "\n",
       "                                                      12192  \\\n",
       "title     کمیته ویژه‌ای از سوی رئیس جمهور مسئول پیگیری م...   \n",
       "content   \\nاسماعیلی حسین زهی نماینده مردم خاش در مجلس ش...   \n",
       "tags      [مجلس شورای اسلامی, کمیسیون عمران, اسماعیل حسی...   \n",
       "date                                  10/17/2021 7:17:00 AM   \n",
       "url       https://www.farsnews.ir/news/14000724000586/کم...   \n",
       "category                                           politics   \n",
       "\n",
       "                                                      12193  \\\n",
       "title     مصری: با سفرهای استانی، کُلاه سر رئیس‌جمهور نم...   \n",
       "content   \\nعبدالرضا مصری نایب رئیس مجلس شورای اسلامی در...   \n",
       "tags      [سید ابراهیم رئیسی, مجلس شورای اسلامی, رئیس‌جم...   \n",
       "date                                  10/17/2021 6:05:00 AM   \n",
       "url       https://www.farsnews.ir/news/14000724000679/مص...   \n",
       "category                                           politics   \n",
       "\n",
       "                                                      12194  \\\n",
       "title     رئیسی به اردبیل سفر می‌کند/ توضیحاتی درباره مق...   \n",
       "content   \\nبه گزارش گروه سیاسی خبرگزاری فارس، سیّد صولت...   \n",
       "tags      [سید ابراهیم رئیسی, صولت مرتضوی, سفر رئیسی به ...   \n",
       "date                                  10/16/2021 8:58:18 PM   \n",
       "url       https://www.farsnews.ir/news/14000724000905/رئ...   \n",
       "category                                           politics   \n",
       "\n",
       "                                                      12195  \\\n",
       "title     رئیس دفتر رئیس جمهور وضعیت زلزله زرند را بررسی...   \n",
       "content   \\nبه گزارش گروه سیاسی خبرگزاری فارس غلامحسین ا...   \n",
       "tags      [غلامحسین اسماعیلی, رئیس دفتر رئیس جمهور, زلزل...   \n",
       "date                                  10/16/2021 8:47:20 PM   \n",
       "url       https://www.farsnews.ir/news/14000724000899/رئ...   \n",
       "category                                           politics   \n",
       "\n",
       "                                                      12196  \\\n",
       "title     جزئیات گزارش سفر نظارتی اعضای کمیسیون فرهنگی م...   \n",
       "content   \\nغلامرضا منتظری نماینده مردم گرگان در مجلس شو...   \n",
       "tags      [مجلس شورای اسلامی, غلامرضا منتظری, نایب رئیس ...   \n",
       "date                                  10/16/2021 7:38:13 PM   \n",
       "url       https://www.farsnews.ir/news/14000724000826/جز...   \n",
       "category                                           politics   \n",
       "\n",
       "                                                      12197  \\\n",
       "title     دفع حمله دزدان دریایی به دو نفتکش ایرانی توسط ...   \n",
       "content   \\nبه گزارش گروه دفاعی خبرگزاری فارس، دریادار ش...   \n",
       "tags      [ارتش جمهوری اسلامی ایران, شهرام ایرانی, نیروی...   \n",
       "date                                  10/16/2021 6:25:36 PM   \n",
       "url       https://www.farsnews.ir/news/14000724000790/دف...   \n",
       "category                                           politics   \n",
       "\n",
       "                                                      12198  \\\n",
       "title     نقدی بر یادداشت «مرزبندی گفتمانی با طالبان»/ و...   \n",
       "content   \\nخبرگزاری فارس ـ یادداشت میهمان ـ مسعود مرادی...   \n",
       "tags      [طالبان, یادداشت, گفتمان, جمهوری اسلامی ایران,...   \n",
       "date                                  10/16/2021 5:03:39 PM   \n",
       "url       https://www.farsnews.ir/news/14000724000611/نق...   \n",
       "category                                           politics   \n",
       "\n",
       "                                                      12199  \\\n",
       "title     روند تحقیق و تفحص از سازمان سنجش با جدیت ادامه...   \n",
       "content   \\nبه گزارش خبرنگار پارلمانی خبرگزاری فارس، هیا...   \n",
       "tags      [مجلس شورای اسلامی, سازمان سنجش و آموزش کشور, ...   \n",
       "date                                  10/16/2021 4:54:47 PM   \n",
       "url       https://www.farsnews.ir/news/14000724000694/رو...   \n",
       "category                                           politics   \n",
       "\n",
       "                                                      12200  \\\n",
       "title      محسن اسلامی مدیرکل دفتر امور سیاسی وزارت کشور شد   \n",
       "content   \\nبه گزارش خبرگزاری فارس به نقل از پایگاه اطلا...   \n",
       "tags      [وزارت کشور, احمد وحیدی, وزیر کشور, وزارت علوم...   \n",
       "date                                  10/16/2021 4:14:30 PM   \n",
       "url       https://www.farsnews.ir/news/14000724000651/مح...   \n",
       "category                                           politics   \n",
       "\n",
       "                                                      12201  \n",
       "title         جلسه سران قوا به‌ میزبانی رئیس مجلس برگزار شد  \n",
       "content   \\nبه گزارش خبرنگار پارلمانی خبرگزاری فارس، جلس...  \n",
       "tags      [سران قوا, رئیس مجلس, رئیس جمهور, رئیس قوه قضا...  \n",
       "date                                  10/16/2021 4:05:31 PM  \n",
       "url       https://www.farsnews.ir/news/14000724000639/جل...  \n",
       "category                                           politics  \n",
       "\n",
       "[6 rows x 12202 columns]"
      ]
     },
     "execution_count": 3,
     "metadata": {},
     "output_type": "execute_result"
    }
   ],
   "source": [
    "df.head(10)"
   ]
  },
  {
   "cell_type": "markdown",
   "id": "f6908401",
   "metadata": {},
   "source": [
    "So it has 6 rows and 12202 columns. but this is unusual and we should transpose it."
   ]
  },
  {
   "cell_type": "code",
   "execution_count": 4,
   "id": "9a6ffe89",
   "metadata": {},
   "outputs": [
    {
     "data": {
      "text/html": [
       "<div>\n",
       "<style scoped>\n",
       "    .dataframe tbody tr th:only-of-type {\n",
       "        vertical-align: middle;\n",
       "    }\n",
       "\n",
       "    .dataframe tbody tr th {\n",
       "        vertical-align: top;\n",
       "    }\n",
       "\n",
       "    .dataframe thead th {\n",
       "        text-align: right;\n",
       "    }\n",
       "</style>\n",
       "<table border=\"1\" class=\"dataframe\">\n",
       "  <thead>\n",
       "    <tr style=\"text-align: right;\">\n",
       "      <th></th>\n",
       "      <th>title</th>\n",
       "      <th>content</th>\n",
       "      <th>tags</th>\n",
       "      <th>date</th>\n",
       "      <th>url</th>\n",
       "      <th>category</th>\n",
       "    </tr>\n",
       "  </thead>\n",
       "  <tbody>\n",
       "    <tr>\n",
       "      <th>0</th>\n",
       "      <td>اعلام زمان قرعه کشی جام باشگاه های فوتسال آسیا</td>\n",
       "      <td>\\nبه گزارش خبرگزاری فارس، کنفدراسیون فوتبال آس...</td>\n",
       "      <td>[اعلام زمان, قرعه‌کشی, قرعه‌کشی جام, قرعه‌کشی ...</td>\n",
       "      <td>3/15/2022 5:59:27 PM</td>\n",
       "      <td>https://www.farsnews.ir/news/14001224001005/اع...</td>\n",
       "      <td>sports</td>\n",
       "    </tr>\n",
       "    <tr>\n",
       "      <th>1</th>\n",
       "      <td>سجادی :حضور تماشاگران در  لیگ برتر فوتبال تابع...</td>\n",
       "      <td>\\nبه گزارش خبرگزاری فارس، سید حمید سجادی در حا...</td>\n",
       "      <td>[سجادی, لیگ, فدراسیون, وزیر ورزش]</td>\n",
       "      <td>3/15/2022 5:30:07 PM</td>\n",
       "      <td>https://www.farsnews.ir/news/14001224000982/سج...</td>\n",
       "      <td>sports</td>\n",
       "    </tr>\n",
       "    <tr>\n",
       "      <th>2</th>\n",
       "      <td>محل برگزاری نشست‌های خبری سرخابی‌ها؛ مجیدی در ...</td>\n",
       "      <td>\\nبه گزارش خبرگزاری فارس، نشست خبری پیش از مسا...</td>\n",
       "      <td>[دربی 94, محل برگزاری, خبری سرخابی‌ها, مجیدی, ...</td>\n",
       "      <td>3/15/2022 5:20:01 PM</td>\n",
       "      <td>https://www.farsnews.ir/news/14001224000971/مح...</td>\n",
       "      <td>sports</td>\n",
       "    </tr>\n",
       "    <tr>\n",
       "      <th>3</th>\n",
       "      <td>ماجدی در نشست با صالحی امیری: امیدوارم در این ...</td>\n",
       "      <td>\\nبه گزارش خبرگزاری فارس،  سید رضا صالحی امیری...</td>\n",
       "      <td>[کمیته امداد امام خمینی (ره), کمیته ملی المپیک...</td>\n",
       "      <td>3/15/2022 5:18:00 PM</td>\n",
       "      <td>https://www.farsnews.ir/news/14001224000964/ما...</td>\n",
       "      <td>sports</td>\n",
       "    </tr>\n",
       "    <tr>\n",
       "      <th>4</th>\n",
       "      <td>لیگ‌برتر بسکتبال|‌ نخستین پیروزی شهرداری گرگان...</td>\n",
       "      <td>\\nبه گزارش خبرنگار ورزشی خبرگزاری فارس، در نخس...</td>\n",
       "      <td>[بسکتبال, لیگ برتر بسکتبال, شهرداری گرگان, تیم...</td>\n",
       "      <td>3/15/2022 5:16:41 PM</td>\n",
       "      <td>https://www.farsnews.ir/news/14001224000947/لی...</td>\n",
       "      <td>sports</td>\n",
       "    </tr>\n",
       "  </tbody>\n",
       "</table>\n",
       "</div>"
      ],
      "text/plain": [
       "                                               title  \\\n",
       "0     اعلام زمان قرعه کشی جام باشگاه های فوتسال آسیا   \n",
       "1  سجادی :حضور تماشاگران در  لیگ برتر فوتبال تابع...   \n",
       "2  محل برگزاری نشست‌های خبری سرخابی‌ها؛ مجیدی در ...   \n",
       "3  ماجدی در نشست با صالحی امیری: امیدوارم در این ...   \n",
       "4  لیگ‌برتر بسکتبال|‌ نخستین پیروزی شهرداری گرگان...   \n",
       "\n",
       "                                             content  \\\n",
       "0  \\nبه گزارش خبرگزاری فارس، کنفدراسیون فوتبال آس...   \n",
       "1  \\nبه گزارش خبرگزاری فارس، سید حمید سجادی در حا...   \n",
       "2  \\nبه گزارش خبرگزاری فارس، نشست خبری پیش از مسا...   \n",
       "3  \\nبه گزارش خبرگزاری فارس،  سید رضا صالحی امیری...   \n",
       "4  \\nبه گزارش خبرنگار ورزشی خبرگزاری فارس، در نخس...   \n",
       "\n",
       "                                                tags                  date  \\\n",
       "0  [اعلام زمان, قرعه‌کشی, قرعه‌کشی جام, قرعه‌کشی ...  3/15/2022 5:59:27 PM   \n",
       "1                  [سجادی, لیگ, فدراسیون, وزیر ورزش]  3/15/2022 5:30:07 PM   \n",
       "2  [دربی 94, محل برگزاری, خبری سرخابی‌ها, مجیدی, ...  3/15/2022 5:20:01 PM   \n",
       "3  [کمیته امداد امام خمینی (ره), کمیته ملی المپیک...  3/15/2022 5:18:00 PM   \n",
       "4  [بسکتبال, لیگ برتر بسکتبال, شهرداری گرگان, تیم...  3/15/2022 5:16:41 PM   \n",
       "\n",
       "                                                 url category  \n",
       "0  https://www.farsnews.ir/news/14001224001005/اع...   sports  \n",
       "1  https://www.farsnews.ir/news/14001224000982/سج...   sports  \n",
       "2  https://www.farsnews.ir/news/14001224000971/مح...   sports  \n",
       "3  https://www.farsnews.ir/news/14001224000964/ما...   sports  \n",
       "4  https://www.farsnews.ir/news/14001224000947/لی...   sports  "
      ]
     },
     "execution_count": 4,
     "metadata": {},
     "output_type": "execute_result"
    }
   ],
   "source": [
    "df = df.transpose()\n",
    "df.head(5)"
   ]
  },
  {
   "cell_type": "code",
   "execution_count": 5,
   "id": "64d1b459",
   "metadata": {},
   "outputs": [
    {
     "name": "stdout",
     "output_type": "stream",
     "text": [
      "<class 'pandas.core.frame.DataFrame'>\n",
      "Int64Index: 12202 entries, 0 to 12201\n",
      "Data columns (total 6 columns):\n",
      " #   Column    Non-Null Count  Dtype \n",
      "---  ------    --------------  ----- \n",
      " 0   title     12202 non-null  object\n",
      " 1   content   12202 non-null  object\n",
      " 2   tags      12202 non-null  object\n",
      " 3   date      12202 non-null  object\n",
      " 4   url       12202 non-null  object\n",
      " 5   category  12202 non-null  object\n",
      "dtypes: object(6)\n",
      "memory usage: 925.3+ KB\n"
     ]
    }
   ],
   "source": [
    "df.info()"
   ]
  },
  {
   "cell_type": "markdown",
   "id": "1a334b17",
   "metadata": {},
   "source": [
    "Thats very good. we dont have any null object. "
   ]
  },
  {
   "cell_type": "code",
   "execution_count": 6,
   "id": "3c88ab59",
   "metadata": {},
   "outputs": [
    {
     "data": {
      "text/plain": [
       "array(['sports', 'politics'], dtype=object)"
      ]
     },
     "execution_count": 6,
     "metadata": {},
     "output_type": "execute_result"
    }
   ],
   "source": [
    "df['category'].unique()"
   ]
  },
  {
   "cell_type": "markdown",
   "id": "72c0de08",
   "metadata": {},
   "source": [
    "According to category column we only have two class of news : Sports and politics"
   ]
  },
  {
   "cell_type": "code",
   "execution_count": 7,
   "id": "8685b498",
   "metadata": {},
   "outputs": [
    {
     "data": {
      "text/plain": [
       "12183"
      ]
     },
     "execution_count": 7,
     "metadata": {},
     "output_type": "execute_result"
    }
   ],
   "source": [
    "len(df['date'].unique())"
   ]
  },
  {
   "cell_type": "markdown",
   "id": "d47cea19",
   "metadata": {},
   "source": [
    "## Utils\n",
    "- Some functions that we use in next steps. we define them here."
   ]
  },
  {
   "cell_type": "code",
   "execution_count": 8,
   "id": "94942bfa",
   "metadata": {},
   "outputs": [],
   "source": [
    "def save_in_file(myinput, filename):\n",
    "    with open(filename, 'wb') as outp: \n",
    "        pickle.dump(myinput, outp, pickle.HIGHEST_PROTOCOL)\n",
    "        print(f'your input saved in {filename}')\n",
    "    \n",
    "def load_file(filename):\n",
    "    my_file = None\n",
    "    with open(filename, 'rb') as inp:\n",
    "        my_file = pickle.load(inp)\n",
    "    return my_file"
   ]
  },
  {
   "cell_type": "markdown",
   "id": "73e9aac3",
   "metadata": {},
   "source": [
    "# Step1)\n",
    "## Data Preprocessing"
   ]
  },
  {
   "cell_type": "markdown",
   "id": "f7ac754e",
   "metadata": {},
   "source": [
    "- First we should define some functions for removing punctuations and stemming and removing stopwords. because for doing these preprocessing jobs we dont have a straightforward function in library."
   ]
  },
  {
   "cell_type": "code",
   "execution_count": 9,
   "id": "ab3ead6e",
   "metadata": {},
   "outputs": [],
   "source": [
    "def remove_punc (input_content):\n",
    "    return re.sub(r'[^\\w\\s]','',input_content)\n",
    "\n",
    "def stemmer (tokens):\n",
    "    stemmed = []\n",
    "    st = FindStems()\n",
    "    for i in tokens:\n",
    "        stemmed_token = st.convert_to_stem(i)\n",
    "        stemmed.append(stemmed_token)\n",
    "    return stemmed\n",
    "\n",
    "def stopwords_remover(stemmed):\n",
    "    stop_words = stopwords_list()\n",
    "    \n",
    "    for i in stemmed:\n",
    "        if i in stop_words:\n",
    "            stemmed.remove(i)\n",
    "    return stemmed"
   ]
  },
  {
   "cell_type": "markdown",
   "id": "a96e4e33",
   "metadata": {},
   "source": [
    "- Now we define a function for single news preprocessing and showing each steps"
   ]
  },
  {
   "cell_type": "code",
   "execution_count": 10,
   "id": "05064a0d",
   "metadata": {},
   "outputs": [],
   "source": [
    "def single_preprocess (input_content):\n",
    "    print(\"Original content:\")\n",
    "    print(input_content+\"\\n\")\n",
    "    # 1) first we remove punctuations\n",
    "    punc_removed = remove_punc(input_content)\n",
    "    print(\"After removing puncs:\")\n",
    "    print(punc_removed+\"\\n\")\n",
    "    # 2) second we Normalize it\n",
    "    normal_content = Normalizer().normalize(punc_removed)\n",
    "    print(\"After normalizing:\")\n",
    "    print(normal_content+\"\\n\")\n",
    "    # 3) then we can tokenize content\n",
    "    tokened_content = Tokenizer().tokenize_words(normal_content)\n",
    "    print(\"After tokenizing:\")\n",
    "    print(tokened_content,'\\n')\n",
    "    # 4) then we remove stopwords\n",
    "    # (Attention: in the parsivar library there isn't any functions to remove stopwords. so we use hazm for this part)\n",
    "    removed_content = stopwords_remover(tokened_content)\n",
    "    print(\"After removing stopwords:\")\n",
    "    print(removed_content,\"\\n\")\n",
    "    # 5) then we stemming\n",
    "    stemmed_content = stemmer(removed_content)\n",
    "    print(\"After stemming:\")\n",
    "    print(stemmed_content,\"\\n\")"
   ]
  },
  {
   "cell_type": "code",
   "execution_count": 11,
   "id": "cfe81372",
   "metadata": {
    "scrolled": false
   },
   "outputs": [
    {
     "name": "stdout",
     "output_type": "stream",
     "text": [
      "Original content:\n",
      "\n",
      "سعید احمدوند در گفت‌وکو با خبرنگار ورزشی خبرگزاری فارس، در مورد تغییر و تحولات در فدراسیون تنیس و برخی استعفاها در این فدراسیون اظهار داشت: این حق هر رئیس فدراسیون است که در مجموعه کاری خود تغییر و تحول بدهد و با هر کس که دوست دارد کار کند. در همه فدراسیون‌ها به این شکل است و در گذشته هم از این دست اتفاقات افتاده است. بارها دبیران فدراسیون تغییر کرده‌اند، اما به نظرم شکل اعتراضی که از سوی برخی صورت گرفت، می‌توانست منطقی‌تر باشد. از آن مهم‌تر اینکه وقتی اعتراض گروهی است،‌‌ بهتر است تا آخر همه پای آن بایستند نه اینکه وسط کار نظر خود را تغییر دهند. به هر حال رفتارهای انسانها با یکدیگر متفاوت است. در مجموع من با این شکل اعتراض موافق نبودم و بهتر بود تصمیم دیگری گرفته می‌شد. سرمربی سابق تیم ملی تنیس عنوان کرد: عزیزی رئیس فدراسیون بهتر است تغییر را در جاهایی که الزامی‌تر است صورت دهد، مثلاً ما در بخش آموزش واقعا ضعیف هستیم و هر چه سریع‌تر باید در مورد آن اقدام جدی صورت بگیرد. ما در سطح بسیار پائینی هستیم و اگر فکر می‌کنند صمت‌های آسیایی مسئول آموزش فدراسیون می‌تواند به این رشته کمک کند، باید گفت این سمت‌ها هم سال گذشته از دست رفت. وی ادامه داد: رئیس کمیته آموزش در همه جای فدراسیون هست و نمی‌دانم چه اصراری است که یک نفر تا این حد همه کارها را انجام دهد. وقتی به این شرایط اعتراض می‌کنم دلیلم این است که بازیکنی پیش من آمده که بک‌هند و فورهند را بلد نیست، این نشان می‌دهد که ما در آموزش ضعیف هستیم. به نظر من، رئیس فدراسیون باید توضیح دهد که چرا این فرد در همه بخش‌های تنیس دخالت می‌کند؟ استانی که او خودش تنیس بازی کرده یک بازیکن شاخصی ندارد. من دوست داشتم عزیزی در این بخش هم تغییراتی را ایجاد کند.     وی در مورد اینکه ظاهراً نامه استعفا قبل از رسیدن به دست رئیس فدراسیون در رسانه‌ها پخش شده است، گفت: این هم یک کار اشتباه بود. من چون خودم تجربه این کار را داشتم می‌گویم که بهتر بود ابتدا نامه به دست رئیس فدراسیون می‌رسید و بعداً اگر ترتیب اثری داده نمی‌شد، به رسانه‌ها می‌دادند. احمدوند در مورد تغییر سرمربی تیم ملی بانوان، گفت: فرناز فصیحی با اختلاف، بهترین مربی ایران است و هیچ‌کس به سطح او نمی‌تواند نزدیک هم بشود. او شاگردان زیادی را پرورش داده. به نظرم باید در مورد کنار گذاشتن او یک مقدار تجدیدنظر می‌شد. انتهای پیام/\n",
      "\n",
      "\n",
      "\n",
      "\n",
      "After removing puncs:\n",
      "\n",
      "سعید احمدوند در گفتوکو با خبرنگار ورزشی خبرگزاری فارس در مورد تغییر و تحولات در فدراسیون تنیس و برخی استعفاها در این فدراسیون اظهار داشت این حق هر رئیس فدراسیون است که در مجموعه کاری خود تغییر و تحول بدهد و با هر کس که دوست دارد کار کند در همه فدراسیونها به این شکل است و در گذشته هم از این دست اتفاقات افتاده است بارها دبیران فدراسیون تغییر کردهاند اما به نظرم شکل اعتراضی که از سوی برخی صورت گرفت میتوانست منطقیتر باشد از آن مهمتر اینکه وقتی اعتراض گروهی است بهتر است تا آخر همه پای آن بایستند نه اینکه وسط کار نظر خود را تغییر دهند به هر حال رفتارهای انسانها با یکدیگر متفاوت است در مجموع من با این شکل اعتراض موافق نبودم و بهتر بود تصمیم دیگری گرفته میشد سرمربی سابق تیم ملی تنیس عنوان کرد عزیزی رئیس فدراسیون بهتر است تغییر را در جاهایی که الزامیتر است صورت دهد مثلا ما در بخش آموزش واقعا ضعیف هستیم و هر چه سریعتر باید در مورد آن اقدام جدی صورت بگیرد ما در سطح بسیار پائینی هستیم و اگر فکر میکنند صمتهای آسیایی مسئول آموزش فدراسیون میتواند به این رشته کمک کند باید گفت این سمتها هم سال گذشته از دست رفت وی ادامه داد رئیس کمیته آموزش در همه جای فدراسیون هست و نمیدانم چه اصراری است که یک نفر تا این حد همه کارها را انجام دهد وقتی به این شرایط اعتراض میکنم دلیلم این است که بازیکنی پیش من آمده که بکهند و فورهند را بلد نیست این نشان میدهد که ما در آموزش ضعیف هستیم به نظر من رئیس فدراسیون باید توضیح دهد که چرا این فرد در همه بخشهای تنیس دخالت میکند استانی که او خودش تنیس بازی کرده یک بازیکن شاخصی ندارد من دوست داشتم عزیزی در این بخش هم تغییراتی را ایجاد کند     وی در مورد اینکه ظاهرا نامه استعفا قبل از رسیدن به دست رئیس فدراسیون در رسانهها پخش شده است گفت این هم یک کار اشتباه بود من چون خودم تجربه این کار را داشتم میگویم که بهتر بود ابتدا نامه به دست رئیس فدراسیون میرسید و بعدا اگر ترتیب اثری داده نمیشد به رسانهها میدادند احمدوند در مورد تغییر سرمربی تیم ملی بانوان گفت فرناز فصیحی با اختلاف بهترین مربی ایران است و هیچکس به سطح او نمیتواند نزدیک هم بشود او شاگردان زیادی را پرورش داده به نظرم باید در مورد کنار گذاشتن او یک مقدار تجدیدنظر میشد انتهای پیام\n",
      "\n",
      "\n",
      "\n",
      "\n",
      "After normalizing:\n",
      "سعید احمدوند در گفتوکو با خبرنگار ورزشی خبرگزاری فارس در مورد تغییر و تحولات در فدراسیون تنیس و برخی استعفاها در این فدراسیون اظهار داشت این حق هر رئیس فدراسیون است که در مجموعه کاری خود تغییر و تحول بدهد و با هر کس که دوست دارد کار کند در همه فدراسیونها به این شکل است و در گذشته هم از این دست اتفاقات افتاده است بارها دبیران فدراسیون تغییر کردهاند اما به نظرم شکل اعتراضی که از سوی برخی صورت گرفت میتوانست منطقیتر باشد از آن مهمتر اینکه وقتی اعتراض گروهی است بهتر است تا آخر همه پای آن بایستند نه اینکه وسط کار نظر خود را تغییر دهند به هر حال رفتارهای انسانها با یکدیگر متفاوت است در مجموع من با این شکل اعتراض موافق نبودم و بهتر‌بود تصمیم دیگری گرفته میشد سرمربی سابق تیم ملی تنیس عنوان کرد عزیزی رئیس فدراسیون بهتر است تغییر را در جاهایی که الزامیتر است صورت دهد مثلا ما در بخش آموزش واقعا ضعیف هستیم و هر چه سریعتر باید در مورد آن اقدام جدی صورت بگیرد ما در سطح بسیار پائینی هستیم و اگر فکر می‌کنند صمتهای آسیایی مسئول آموزش فدراسیون می‌تواند به این رشته کمک کند باید گفت این سمتها هم سال گذشته از دست رفت وی ادامه داد رئیس کمیته آموزش در همه جای فدراسیون هست و نمیدانم چه اصراری است که یک نفر تا این حد همه کارها را انجام دهد وقتی به این شرایط اعتراض میکنم دلیلم این است که بازیکنی پیش من آمده که بکهند و فورهند را بلد نیست این نشان می‌دهد که ما در آموزش ضعیف هستیم به نظر من رئیس فدراسیون باید توضیح دهد که چرا این فرد در همه بخشهای تنیس دخالت می‌کند استانی که او خودش تنیس بازی کرده یک بازیکن شاخصی ندارد من دوست داشتم عزیزی در این بخش هم تغییراتی را ایجاد کند    وی در مورد اینکه ظاهرا نامه استعفا قبل از رسیدن به دست رئیس فدراسیون در رسانهها پخش‌شده‌است گفت این هم یک کار اشتباه‌بود من چون خودم تجربه این کار را داشتم میگویم که بهتر‌بود ابتدا نامه به دست رئیس فدراسیون میرسید و بعدا اگر ترتیب اثری داده نمیشد به رسانهها می‌دادند احمدوند در مورد تغییر سرمربی تیم ملی بانوان گفت فرناز فصیحی با اختلاف بهترین مربی ایران است و هیچکس به سطح او نمیتواند نزدیک هم بشود او شاگردان زیادی را پرورش داده به نظرم باید در مورد کنار گذاشتن او یک مقدار تجدیدنظر میشد انتهای پیام\n",
      "\n",
      "After tokenizing:\n",
      "['سعید', 'احمدوند', 'در', 'گفتوکو', 'با', 'خبرنگار', 'ورزشی', 'خبرگزاری', 'فارس', 'در', 'مورد', 'تغییر', 'و', 'تحولات', 'در', 'فدراسیون', 'تنیس', 'و', 'برخی', 'استعفاها', 'در', 'این', 'فدراسیون', 'اظهار', 'داشت', 'این', 'حق', 'هر', 'رئیس', 'فدراسیون', 'است', 'که', 'در', 'مجموعه', 'کاری', 'خود', 'تغییر', 'و', 'تحول', 'بدهد', 'و', 'با', 'هر', 'کس', 'که', 'دوست', 'دارد', 'کار', 'کند', 'در', 'همه', 'فدراسیونها', 'به', 'این', 'شکل', 'است', 'و', 'در', 'گذشته', 'هم', 'از', 'این', 'دست', 'اتفاقات', 'افتاده', 'است', 'بارها', 'دبیران', 'فدراسیون', 'تغییر', 'کردهاند', 'اما', 'به', 'نظرم', 'شکل', 'اعتراضی', 'که', 'از', 'سوی', 'برخی', 'صورت', 'گرفت', 'میتوانست', 'منطقیتر', 'باشد', 'از', 'آن', 'مهمتر', 'اینکه', 'وقتی', 'اعتراض', 'گروهی', 'است', 'بهتر', 'است', 'تا', 'آخر', 'همه', 'پای', 'آن', 'بایستند', 'نه', 'اینکه', 'وسط', 'کار', 'نظر', 'خود', 'را', 'تغییر', 'دهند', 'به', 'هر', 'حال', 'رفتارهای', 'انسانها', 'با', 'یکدیگر', 'متفاوت', 'است', 'در', 'مجموع', 'من', 'با', 'این', 'شکل', 'اعتراض', 'موافق', 'نبودم', 'و', 'بهتر\\u200cبود', 'تصمیم', 'دیگری', 'گرفته', 'میشد', 'سرمربی', 'سابق', 'تیم', 'ملی', 'تنیس', 'عنوان', 'کرد', 'عزیزی', 'رئیس', 'فدراسیون', 'بهتر', 'است', 'تغییر', 'را', 'در', 'جاهایی', 'که', 'الزامیتر', 'است', 'صورت', 'دهد', 'مثلا', 'ما', 'در', 'بخش', 'آموزش', 'واقعا', 'ضعیف', 'هستیم', 'و', 'هر', 'چه', 'سریعتر', 'باید', 'در', 'مورد', 'آن', 'اقدام', 'جدی', 'صورت', 'بگیرد', 'ما', 'در', 'سطح', 'بسیار', 'پائینی', 'هستیم', 'و', 'اگر', 'فکر', 'می\\u200cکنند', 'صمتهای', 'آسیایی', 'مسئول', 'آموزش', 'فدراسیون', 'می\\u200cتواند', 'به', 'این', 'رشته', 'کمک', 'کند', 'باید', 'گفت', 'این', 'سمتها', 'هم', 'سال', 'گذشته', 'از', 'دست', 'رفت', 'وی', 'ادامه', 'داد', 'رئیس', 'کمیته', 'آموزش', 'در', 'همه', 'جای', 'فدراسیون', 'هست', 'و', 'نمیدانم', 'چه', 'اصراری', 'است', 'که', 'یک', 'نفر', 'تا', 'این', 'حد', 'همه', 'کارها', 'را', 'انجام', 'دهد', 'وقتی', 'به', 'این', 'شرایط', 'اعتراض', 'میکنم', 'دلیلم', 'این', 'است', 'که', 'بازیکنی', 'پیش', 'من', 'آمده', 'که', 'بکهند', 'و', 'فورهند', 'را', 'بلد', 'نیست', 'این', 'نشان', 'می\\u200cدهد', 'که', 'ما', 'در', 'آموزش', 'ضعیف', 'هستیم', 'به', 'نظر', 'من', 'رئیس', 'فدراسیون', 'باید', 'توضیح', 'دهد', 'که', 'چرا', 'این', 'فرد', 'در', 'همه', 'بخشهای', 'تنیس', 'دخالت', 'می\\u200cکند', 'استانی', 'که', 'او', 'خودش', 'تنیس', 'بازی', 'کرده', 'یک', 'بازیکن', 'شاخصی', 'ندارد', 'من', 'دوست', 'داشتم', 'عزیزی', 'در', 'این', 'بخش', 'هم', 'تغییراتی', 'را', 'ایجاد', 'کند', 'وی', 'در', 'مورد', 'اینکه', 'ظاهرا', 'نامه', 'استعفا', 'قبل', 'از', 'رسیدن', 'به', 'دست', 'رئیس', 'فدراسیون', 'در', 'رسانهها', 'پخش\\u200cشده\\u200cاست', 'گفت', 'این', 'هم', 'یک', 'کار', 'اشتباه\\u200cبود', 'من', 'چون', 'خودم', 'تجربه', 'این', 'کار', 'را', 'داشتم', 'میگویم', 'که', 'بهتر\\u200cبود', 'ابتدا', 'نامه', 'به', 'دست', 'رئیس', 'فدراسیون', 'میرسید', 'و', 'بعدا', 'اگر', 'ترتیب', 'اثری', 'داده', 'نمیشد', 'به', 'رسانهها', 'می\\u200cدادند', 'احمدوند', 'در', 'مورد', 'تغییر', 'سرمربی', 'تیم', 'ملی', 'بانوان', 'گفت', 'فرناز', 'فصیحی', 'با', 'اختلاف', 'بهترین', 'مربی', 'ایران', 'است', 'و', 'هیچکس', 'به', 'سطح', 'او', 'نمیتواند', 'نزدیک', 'هم', 'بشود', 'او', 'شاگردان', 'زیادی', 'را', 'پرورش', 'داده', 'به', 'نظرم', 'باید', 'در', 'مورد', 'کنار', 'گذاشتن', 'او', 'یک', 'مقدار', 'تجدیدنظر', 'میشد', 'انتهای', 'پیام'] \n",
      "\n",
      "After removing stopwords:\n",
      "['سعید', 'احمدوند', 'گفتوکو', 'خبرنگار', 'ورزشی', 'خبرگزاری', 'فارس', 'تحولات', 'فدراسیون', 'تنیس', 'برخی', 'استعفاها', 'فدراسیون', 'اظهار', 'حق', 'رئیس', 'فدراسیون', 'مجموعه', 'کاری', 'تحول', 'بدهد', 'کس', 'دوست', 'کار', 'فدراسیونها', 'شکل', 'گذشته', 'دست', 'اتفاقات', 'افتاده', 'بارها', 'دبیران', 'فدراسیون', 'کردهاند', 'نظرم', 'شکل', 'اعتراضی', 'از', 'برخی', 'صورت', 'میتوانست', 'منطقیتر', 'از', 'مهمتر', 'وقتی', 'اعتراض', 'آخر', 'پای', 'بایستند', 'وسط', 'کار', 'خود', 'حال', 'رفتارهای', 'انسانها', 'یکدیگر', 'مجموع', 'با', 'شکل', 'اعتراض', 'موافق', 'نبودم', 'بهتر\\u200cبود', 'تصمیم', 'گرفته', 'میشد', 'سرمربی', 'سابق', 'تیم', 'ملی', 'تنیس', 'عنوان', 'عزیزی', 'رئیس', 'فدراسیون', 'است', 'تغییر', 'جاهایی', 'الزامیتر', 'است', 'صورت', 'مثلا', 'آموزش', 'واقعا', 'ضعیف', 'سریعتر', 'آن', 'اقدام', 'صورت', 'بگیرد', 'سطح', 'پائینی', 'و', 'فکر', 'صمتهای', 'آسیایی', 'مسئول', 'آموزش', 'فدراسیون', 'این', 'رشته', 'کمک', 'این', 'سمتها', 'سال', 'گذشته', 'از', 'دست', 'وی', 'ادامه', 'رئیس', 'کمیته', 'آموزش', 'فدراسیون', 'هست', 'و', 'نمیدانم', 'چه', 'اصراری', 'است', 'نفر', 'این', 'همه', 'کارها', 'انجام', 'وقتی', 'این', 'شرایط', 'اعتراض', 'میکنم', 'دلیلم', 'این', 'است', 'بازیکنی', 'که', 'بکهند', 'و', 'فورهند', 'بلد', 'این', 'نشان', 'که', 'در', 'آموزش', 'ضعیف', 'به', 'من', 'رئیس', 'فدراسیون', 'توضیح', 'که', 'این', 'در', 'همه', 'بخشهای', 'تنیس', 'دخالت', 'استانی', 'که', 'تنیس', 'بازی', 'یک', 'بازیکن', 'شاخصی', 'من', 'دوست', 'داشتم', 'عزیزی', 'در', 'این', 'تغییراتی', 'ایجاد', 'وی', 'در', 'مورد', 'اینکه', 'ظاهرا', 'نامه', 'استعفا', 'از', 'به', 'دست', 'رئیس', 'فدراسیون', 'در', 'رسانهها', 'پخش\\u200cشده\\u200cاست', 'این', 'هم', 'یک', 'کار', 'اشتباه\\u200cبود', 'من', 'چون', 'خودم', 'تجربه', 'این', 'کار', 'را', 'داشتم', 'میگویم', 'که', 'بهتر\\u200cبود', 'نامه', 'به', 'دست', 'رئیس', 'فدراسیون', 'میرسید', 'و', 'بعدا', 'ترتیب', 'اثری', 'نمیشد', 'به', 'رسانهها', 'می\\u200cدادند', 'احمدوند', 'در', 'مورد', 'تغییر', 'سرمربی', 'تیم', 'ملی', 'بانوان', 'فرناز', 'فصیحی', 'با', 'اختلاف', 'مربی', 'ایران', 'است', 'و', 'هیچکس', 'به', 'سطح', 'نمیتواند', 'هم', 'بشود', 'شاگردان', 'را', 'پرورش', 'به', 'نظرم', 'باید', 'در', 'مورد', 'کنار', 'گذاشتن', 'او', 'یک', 'مقدار', 'تجدیدنظر', 'میشد', 'انتهای', 'پیام'] \n",
      "\n",
      "After stemming:\n",
      "['سعید', 'احمدوند', 'گفتوکو', 'خبرنگار', 'ورزشی', 'خبرگزاری', 'فارس', 'تحولات', 'فدراسیون', 'تنیس', 'برخی', 'استعفا', 'فدراسیون', 'اظهار', 'حق', 'رئیس', 'فدراسیون', 'مجموعه', 'کاری', 'تحول', 'داد&ده', 'کس', 'دوست', 'کار', 'فدراسیون', 'شکل', 'گذشته', 'دست', 'اتفاقا', 'افتاده', 'بار', 'دبیر', 'فدراسیون', 'کرد&کن', 'نظر', 'شکل', 'اعتراضی', 'از', 'برخی', 'صورت', 'توانست&توان', 'منطقی', 'از', 'مهم', 'وقتی', 'اعتراض', 'آخر', 'پای', 'ایستاد&ایست', 'وسط', 'کار', 'خود', 'حال', 'رفتار', 'انسان', 'یکدیگر', 'مجموع', 'با', 'شکل', 'اعتراض', 'موافق', 'بود&باش', 'بهتر\\u200cبود', 'تصمیم', 'گرفته', 'شد&شو', 'سرمربی', 'سابق', 'تیم', 'ملی', 'تنیس', 'عنوان', 'عزیزی', 'رئیس', 'فدراسیون', 'اس', 'تغییر', 'جا', 'الزامی', 'اس', 'صورت', 'مثلا', 'آموزش', 'واقعا', 'ضعیف', 'سریع', 'آن', 'اقدام', 'صورت', 'گرفت&گیر', 'سطح', 'پائین', 'و', 'فکر', 'صمتهای', 'آسیایی', 'مسئول', 'آموزش', 'فدراسیون', 'این', 'رشته', 'کمک', 'این', 'سمت', 'سال', 'گذشته', 'از', 'دست', 'وی', 'ادامه', 'رئیس', 'کمیته', 'آموزش', 'فدراسیون', 'هست', 'و', 'دانست&دان', 'چه', 'اصرار', 'اس', 'نفر', 'این', 'همه', 'کارها', 'انجام', 'وقتی', 'این', 'شرایط', 'اعتراض', 'کرد&کن', 'دلیل', 'این', 'اس', 'بازیکن', 'که', 'بکهند', 'و', 'فورهند', 'بلد', 'این', 'نشان', 'که', 'در', 'آموزش', 'ضعیف', 'به', 'من', 'رئیس', 'فدراسیون', 'توضیح', 'که', 'این', 'در', 'همه', 'بخش', 'تنیس', 'دخالت', 'استانی', 'که', 'تنیس', 'بازی', 'یک', 'بازیکن', 'شاخص', 'من', 'دوست', 'داشت&دار', 'عزیزی', 'در', 'این', 'تغییراتی', 'ایجاد', 'وی', 'در', 'مورد', 'اینکه', 'ظاهرا', 'نامه', 'استعفا', 'از', 'به', 'دست', 'رئیس', 'فدراسیون', 'در', 'رسانه', 'پخش\\u200cشده\\u200cاست', 'این', 'هم', 'یک', 'کار', 'اشتباه\\u200cبود', 'من', 'چون', 'خودم', 'تجربه', 'این', 'کار', 'را', 'داشت&دار', 'گفت&گو', 'که', 'بهتر\\u200cبود', 'نامه', 'به', 'دست', 'رئیس', 'فدراسیون', 'رسید&رس', 'و', 'بعدا', 'ترتیب', 'اثر', 'شد&شو', 'به', 'رسانه', 'داد&ده', 'احمدوند', 'در', 'مورد', 'تغییر', 'سرمربی', 'تیم', 'ملی', 'بانو', 'فرناز', 'فصیح', 'با', 'اختلاف', 'مربی', 'ایران', 'اس', 'و', 'هیچکس', 'به', 'سطح', 'توانست&توان', 'هم', 'بشود', 'شاگرد', 'را', 'پرورش', 'به', 'نظر', 'باید', 'در', 'مورد', 'کنار', 'گذاشتن', 'او', 'یک', 'مقدار', 'تجدیدنظر', 'شد&شو', 'انتهای', 'پیام'] \n",
      "\n"
     ]
    }
   ],
   "source": [
    "content_temp = df.iloc[27]['content']\n",
    "single_preprocess(content_temp)"
   ]
  },
  {
   "cell_type": "markdown",
   "id": "2768e971",
   "metadata": {},
   "source": [
    "- I define a function for do preprocessing step on all of data. It has three input arguments:  \n",
    "1- **input_content**: The input text like content column in dataset or query text  \n",
    "2- **is_stopwords_remove**: Its specify we can removing stop words or not ( we use in zipf law section)  \n",
    "3- **is_stemming**: Its specify we can do stemming words or not ( we use in heaps law section)  "
   ]
  },
  {
   "cell_type": "code",
   "execution_count": 12,
   "id": "41d01bf9",
   "metadata": {},
   "outputs": [],
   "source": [
    "def total_preprocess (input_content, is_stopwords_remove=True, is_stemming=True):\n",
    "  \n",
    "    # 1) first we remove punctuations\n",
    "    punc_removed = remove_punc(input_content)\n",
    "\n",
    "    # 2) second we Normalize it\n",
    "    normal_content = Normalizer().normalize(punc_removed)\n",
    "      \n",
    "    # 3) then we can tokenize content\n",
    "    updated_content = Tokenizer().tokenize_words(normal_content)\n",
    "      \n",
    "    # 4) then we remove stopwords\n",
    "    # (Attention: in the parsivar library there isn't any functions to remove stopwords. so we use hazm for this part)\n",
    "    if is_stopwords_remove:\n",
    "        updated_content = stopwords_remover(updated_content)\n",
    "      \n",
    "    # 5) then we stemming\n",
    "    if is_stemming:\n",
    "        updated_content = stemmer(updated_content)\n",
    "      \n",
    "    return updated_content"
   ]
  },
  {
   "cell_type": "code",
   "execution_count": 13,
   "id": "24a9ed57",
   "metadata": {},
   "outputs": [
    {
     "name": "stdout",
     "output_type": "stream",
     "text": [
      "0\n",
      "2000\n",
      "4000\n",
      "6000\n",
      "8000\n",
      "10000\n",
      "12000\n"
     ]
    }
   ],
   "source": [
    "preprocessed_content = []\n",
    "for i in range(len(df)):\n",
    "    if ( i % 2000 ==0):\n",
    "        print(i)\n",
    "    input_content = df.iloc[i]['content']\n",
    "    preprocessed_content.append(total_preprocess(input_content))"
   ]
  },
  {
   "cell_type": "markdown",
   "id": "8877dd3a",
   "metadata": {},
   "source": [
    "- Because the last process is time consuming so we can save the preprocessed content in a file and when we restart the kernel of jupyter then we can load it from that file. for do it we can use the functions defined in Utils section."
   ]
  },
  {
   "cell_type": "code",
   "execution_count": 14,
   "id": "d9ede41b",
   "metadata": {},
   "outputs": [
    {
     "name": "stdout",
     "output_type": "stream",
     "text": [
      "your input saved in ./Processed data/preprocessed_content.pkl\n"
     ]
    }
   ],
   "source": [
    "save_in_file(preprocessed_content, './Processed data/preprocessed_content.pkl')"
   ]
  },
  {
   "cell_type": "code",
   "execution_count": 15,
   "id": "e87719ee",
   "metadata": {},
   "outputs": [],
   "source": [
    "# preprocessed_content = load_file('./Processed data/preprocessed_content.pkl')"
   ]
  },
  {
   "cell_type": "markdown",
   "id": "1c90ad05",
   "metadata": {},
   "source": [
    "# Step2)\n",
    "## Creating Positional Inverted Index"
   ]
  },
  {
   "cell_type": "markdown",
   "id": "562976b4",
   "metadata": {},
   "source": [
    "- According to slides we need implementing dictionary and postings list for our inverted index. In python we can use dict datastructure for do this job. with using this accessing to each token and its postings list will become much easier."
   ]
  },
  {
   "cell_type": "code",
   "execution_count": 16,
   "id": "cc632485",
   "metadata": {},
   "outputs": [],
   "source": [
    "def inverted_index_creator(preprocessed_content):\n",
    "    \n",
    "    inverted_index = {}\n",
    "    \n",
    "    for doc_id in range(len(preprocessed_content)):\n",
    "        \n",
    "        # for checking progress\n",
    "        if doc_id%2000 == 0: print(doc_id)\n",
    "            \n",
    "        for token_pos in range(len(preprocessed_content[doc_id])):\n",
    "            \n",
    "            token = preprocessed_content[doc_id][token_pos]\n",
    "            \n",
    "            if token not in inverted_index:\n",
    "                inverted_index[token]={\n",
    "                    'doc_frequency': 1,\n",
    "                    'posting_list': [\n",
    "                        {\n",
    "                            doc_id:{\n",
    "                                'term_frequency': 1,\n",
    "                                'positions': [token_pos,]\n",
    "                            }\n",
    "                        }\n",
    "                    ]\n",
    "                }\n",
    "                \n",
    "            else:\n",
    "                doc_id_list = []\n",
    "                for doc in inverted_index[token]['posting_list']:\n",
    "                    doc_id_list.append(list(doc.keys())[0])\n",
    "    \n",
    "                if doc_id in doc_id_list:\n",
    "            \n",
    "                    doc_index = doc_id_list.index(doc_id)\n",
    "                    inverted_index[token]['posting_list'][doc_index][doc_id]['term_frequency'] += 1\n",
    "                    inverted_index[token]['posting_list'][doc_index][doc_id]['positions'].append(token_pos)\n",
    "                    \n",
    "                else:\n",
    "                    \n",
    "                    inverted_index[token]['doc_frequency'] += 1\n",
    "                    inverted_index[token]['posting_list'].append({\n",
    "                        doc_id:{\n",
    "                            'term_frequency': 1,\n",
    "                            'positions': [token_pos,]\n",
    "                        }\n",
    "                    })\n",
    "    return inverted_index"
   ]
  },
  {
   "cell_type": "markdown",
   "id": "a12b1464",
   "metadata": {},
   "source": [
    "- Now we can give preprocessed data from step1 to above function for creating the inverted index."
   ]
  },
  {
   "cell_type": "code",
   "execution_count": 17,
   "id": "485e0ff2",
   "metadata": {},
   "outputs": [
    {
     "name": "stdout",
     "output_type": "stream",
     "text": [
      "0\n",
      "2000\n",
      "4000\n",
      "6000\n",
      "8000\n",
      "10000\n",
      "12000\n"
     ]
    }
   ],
   "source": [
    "inverted_index = inverted_index_creator(preprocessed_content)"
   ]
  },
  {
   "cell_type": "markdown",
   "id": "b502bdfb",
   "metadata": {},
   "source": [
    "- Because the last process is time consuming (like step1) so we can save the inverted index in a file and when we restart the kernel of jupyter then we can load it from that file. for do it we can use the functions defined in Utils section."
   ]
  },
  {
   "cell_type": "code",
   "execution_count": 18,
   "id": "a696048c",
   "metadata": {},
   "outputs": [
    {
     "name": "stdout",
     "output_type": "stream",
     "text": [
      "your input saved in ./Processed data/inverted_index.pkl\n"
     ]
    }
   ],
   "source": [
    "save_in_file(inverted_index, './Processed data/inverted_index.pkl')"
   ]
  },
  {
   "cell_type": "code",
   "execution_count": 19,
   "id": "76b3102c",
   "metadata": {},
   "outputs": [],
   "source": [
    "# inverted_index = load_file('./Processed data/inverted_index.pkl')"
   ]
  },
  {
   "cell_type": "markdown",
   "id": "c6e8a836",
   "metadata": {},
   "source": [
    "- Also we can save dictionary part of our inverted index seperately in a variable to access it easier."
   ]
  },
  {
   "cell_type": "code",
   "execution_count": 20,
   "id": "9fe7a2cc",
   "metadata": {},
   "outputs": [],
   "source": [
    "dictionary = list(inverted_index.keys())"
   ]
  },
  {
   "cell_type": "markdown",
   "id": "ab9cffb6",
   "metadata": {},
   "source": [
    "# Step3&4)\n",
    "## Query Processing & Showing results"
   ]
  },
  {
   "cell_type": "markdown",
   "id": "e8c867fe",
   "metadata": {},
   "source": [
    "- For doing this section I create a Query class. When we create a query object it should automatically find relevant contetns and return it. We can say this is a boolean query processing but we compute a rank for each doc and implementing ranked retrival. "
   ]
  },
  {
   "cell_type": "code",
   "execution_count": 21,
   "id": "63d214cc",
   "metadata": {},
   "outputs": [],
   "source": [
    "class Query():\n",
    "    def __init__(self, query_text):\n",
    "        self.query_text = query_text\n",
    "        # define some variables for seperating different part of query\n",
    "        self.not_tokens = self.get_not_token()\n",
    "        self.phrasal_tokens = self.get_phrasal_tokens()\n",
    "        self.normal = self.get_normals()\n",
    "        # then we should preprocess query like docs\n",
    "        if len(self.not_tokens)>0 : preprocessed_not_tokens = self.total_preprocess(\" \".join(self.not_tokens))\n",
    "        if len(self.normal)>0 : preprocessed_normals = self.total_preprocess(\" \".join(self.normal))\n",
    "        if len(self.phrasal_tokens)>0 : preprocessed_phrasal = [self.total_preprocess(phrase) for phrase in self.phrasal_tokens]\n",
    "        # we want to search among our dictionary words. so we should do this below job:\n",
    "        # (if we dont do this job its possible to ask from inverted index to return the postings\n",
    "        # of a word that not exists in our dictionary and so we get \"Key Error\")\n",
    "        self.final_not_tokens = None\n",
    "        self.final_normals = None\n",
    "        self.final_phrasal = None\n",
    "        if len(self.not_tokens)>0 : self.final_not_tokens = self.in_dictionary_checker(preprocessed_not_tokens)\n",
    "        if len(self.normal)>0 : self.final_normals = self.in_dictionary_checker(preprocessed_normals)\n",
    "        if len(self.phrasal_tokens)>0 : self.final_phrasal = self.in_dictionary_checker(preprocessed_phrasal, phrasal_mode=True)\n",
    "        \n",
    "        # We use below parameters in get_related_postings function for avoiding to get error\n",
    "        self.has_notToken = True\n",
    "        self.has_normal = True\n",
    "        self.has_phrasal = True\n",
    "        if self.final_not_tokens == None:\n",
    "            self.has_notToken = False\n",
    "        if self.final_normals == None:\n",
    "            self.has_normal = False\n",
    "        if self.final_phrasal == None:\n",
    "            self.has_phrasal = False\n",
    "\n",
    "        self.show_result()\n",
    "        \n",
    "    def get_not_token(self):\n",
    "        return re.findall(r'\\!\\s(\\w+)', self.query_text)\n",
    "    \n",
    "    def get_phrasal_tokens(self):\n",
    "        return re.findall(r'\"([^\"]*)\"', self.query_text)\n",
    "    \n",
    "    def get_normals(self):\n",
    "        normal_string = re.sub(r'\\!\\s\\w+', '', self.query_text)\n",
    "        normal_string = re.sub(r'\"[^\"]*\"', '', normal_string)\n",
    "        initial_normal = normal_string.split(' ')\n",
    "        normal = []\n",
    "        for token in initial_normal:\n",
    "            if len(token)>0:\n",
    "                normal.append(token)\n",
    "       \n",
    "        return normal\n",
    "    \n",
    "    def total_preprocess (self, input_content):\n",
    "        \n",
    "        # 1) first we remove punctuations\n",
    "        punc_removed = remove_punc(input_content)\n",
    "        \n",
    "        # 2) second we Normalize it\n",
    "        normal_content = Normalizer().normalize(punc_removed)\n",
    "\n",
    "        # 3) then we can tokenize content\n",
    "        tokened_content = Tokenizer().tokenize_words(normal_content)\n",
    "\n",
    "        # 4) then we remove stopwords\n",
    "        # (Attention: in the parsivar library there isn't any functions to remove stopwords. so we use hazm for this part)\n",
    "        deleted_stop_words = stopwords_remover(tokened_content)\n",
    "        \n",
    "        # 5) then we stemming\n",
    "        final_content = stemmer(deleted_stop_words)\n",
    "\n",
    "        return final_content \n",
    "    \n",
    "    def in_dictionary_checker(self,preprocessed_form, phrasal_mode=False):\n",
    "        final_tokens = []\n",
    "        # in phrasal mode if only we dont have one word of that phrase\n",
    "        # then we should remove it from our final phrases\n",
    "        if phrasal_mode:\n",
    "            for phrase in preprocessed_form:\n",
    "                flag = True\n",
    "                for token in phrase:\n",
    "                    if token not in dictionary:\n",
    "                        print(token)\n",
    "                        flag = False\n",
    "                if flag:\n",
    "                    final_tokens.append(phrase)\n",
    "        else:\n",
    "            for token in preprocessed_form:\n",
    "                if token in dictionary:\n",
    "                    final_tokens.append(token)\n",
    "        if len(final_tokens) == 0:\n",
    "            return None\n",
    "        return final_tokens\n",
    "    \n",
    "    # Step 4)\n",
    "    # Data set (in this step we should show the information that asked in project explanation)\n",
    "    def show_result(self):\n",
    "        final_postings = self.get_related_postings()\n",
    "        sorted_result = self.sorting(final_postings)\n",
    "        if len(sorted_result)==0:\n",
    "            print(\"There isn't any doc related to this query\")\n",
    "        else:\n",
    "            counter = 0\n",
    "            for result in sorted_result:\n",
    "                print(50*'/\\\\')\n",
    "                print(f'Rank: {result[1]}')\n",
    "                print(f'docID: {result[0]}')\n",
    "                print(f'Title: {df.loc[result[0]][\"title\"]}')\n",
    "                print(f'URL: {df.loc[result[0]][\"url\"]}')\n",
    "                print(f'{df.loc[result[0]][\"content\"]}')\n",
    "                print(50*'/\\\\')\n",
    "                counter += 1\n",
    "                if counter == 5:\n",
    "                    break\n",
    "\n",
    "    def sorting(self, final_postings):\n",
    "        result = {}\n",
    "        for posting in final_postings:\n",
    "            result[list(posting.keys())[0]] = posting[list(posting.keys())[0]]['term_frequency']\n",
    "        return sorted(result.items(), key=lambda x:x[1], reverse=True)\n",
    "        \n",
    "    def get_related_postings(self):\n",
    "        if self.has_normal:\n",
    "            #1) first we should calculate intersection between normal tokens' postings\n",
    "            postings1 = None\n",
    "            postings2 = None\n",
    "            for i in range(len(self.final_normals)):\n",
    "                if i==0:\n",
    "                    postings1= inverted_index[self.final_normals[i]]['posting_list']\n",
    "                    continue\n",
    "                postings2 = inverted_index[self.final_normals[i]]['posting_list']\n",
    "                postings1 = self.and_merge(postings1, postings2)\n",
    "            normals_intersect = postings1\n",
    "        #############################################################################\n",
    "        if self.has_phrasal:\n",
    "            #2)  also we should use positional merge between tokens in each phrase\n",
    "            phrase_intersect = []\n",
    "            for phrase in self.final_phrasal:\n",
    "                postings1 = None\n",
    "                postings2 = None\n",
    "                for i in range(len(phrase)):\n",
    "                    if i==0:\n",
    "                        postings1= inverted_index[phrase[i]]['posting_list']\n",
    "                        continue\n",
    "                    postings2 = inverted_index[phrase[i]]['posting_list']\n",
    "                    postings1 = self.positional_merge(postings1, postings2)\n",
    "                phrase_intersect.append(postings1)\n",
    "            \n",
    "            #3) Now we use the results of step2. now we can intersect between different phrases\n",
    "            # if(len(phrase_intersect)>1):\n",
    "            postings1 = None\n",
    "            postings2 = None\n",
    "            i = 0\n",
    "            for phrase_postings in phrase_intersect:\n",
    "                if i==0:\n",
    "                    postings1= phrase_postings\n",
    "                    continue\n",
    "                postings2 = phrase_postings\n",
    "                postings1 = self.and_merge(postings1, postings2)\n",
    "                i += 1\n",
    "            final_phrases_intersect = postings1\n",
    "            \n",
    "            if self.has_normal:\n",
    "                #4) the result of step1 and step3 are merged\n",
    "                final_and = self.and_merge(normals_intersect, final_phrases_intersect)\n",
    "            else:\n",
    "                final_and = final_phrases_intersect\n",
    "        elif self.has_normal:\n",
    "            final_and = normals_intersect\n",
    "        else:\n",
    "            final_and = []\n",
    "            return final_and\n",
    "        #############################################################################    \n",
    "        if self.has_notToken:\n",
    "            #5) union between the doc_id of postings list of tokens in not_tokens list\n",
    "            # according to and_not_merge algorithm we just need the doc_id of postings list and not tf or pose.\n",
    "            not_tokens_doc_ids = set()\n",
    "            for token in self.final_not_tokens:\n",
    "                for i in range(len(inverted_index[token]['posting_list'])):\n",
    "                    not_tokens_doc_ids.add(list(inverted_index[token]['posting_list'][i].keys())[0])\n",
    "            not_tokens_postings = sorted(list(not_tokens_doc_ids))\n",
    "            \n",
    "            #6) now we can use and_not_mege algorithm to arrive to final postings\n",
    "            return self.and_not_merge(final_and,not_tokens_postings)\n",
    "        else:\n",
    "            return final_and\n",
    "    \n",
    "    # We write this method and two others from psudo code in slides\n",
    "    def and_merge(self,postings1, postings2):\n",
    "        result = []\n",
    "        p1 = 0\n",
    "        p2 = 0\n",
    "        while p1 < len(postings1) and p2 < len(postings2):\n",
    "            \n",
    "            p1_doc_id = list(postings1[p1].keys())[0]\n",
    "            p2_doc_id = list(postings2[p2].keys())[0]\n",
    "            \n",
    "            if p1_doc_id == p2_doc_id:\n",
    "                result.append({p1_doc_id:{\n",
    "                    'term_frequency': postings1[p1][p1_doc_id]['term_frequency']+postings2[p2][p2_doc_id]['term_frequency'],\n",
    "                    'positions':postings1[p1][p1_doc_id]['positions']+postings2[p2][p2_doc_id]['positions']\n",
    "                }})\n",
    "                p1 += 1\n",
    "                p2 += 1\n",
    "            elif p1_doc_id < p2_doc_id:\n",
    "                p1 += 1\n",
    "            else:\n",
    "                p2 += 1\n",
    "\n",
    "        return result\n",
    "\n",
    "    def and_not_merge(self, postings1, postings2):\n",
    "        result = []\n",
    "        p1 =0\n",
    "        p2 = 0\n",
    "        while p1 < len(postings1) and p2 < len(postings2):\n",
    "            \n",
    "            p1_doc_id = list(postings1[p1].keys())[0]\n",
    "            p2_doc_id = postings2[p2]\n",
    "            \n",
    "            if p1_doc_id == p2_doc_id:\n",
    "                p1 += 1\n",
    "                p2 += 1\n",
    "            elif p1_doc_id < p2_doc_id:\n",
    "                result.append(postings1[p1])\n",
    "                p1 += 1\n",
    "            else:\n",
    "                p2 += 1\n",
    "\n",
    "        return result\n",
    "\n",
    "    def positional_merge(self, postings1, postings2):\n",
    "        result = []\n",
    "        p1 =0\n",
    "        p2 = 0\n",
    "        while p1 < len(postings1) and p2 < len(postings2):\n",
    "            \n",
    "            p1_doc_id = list(postings1[p1].keys())[0]\n",
    "            p2_doc_id = list(postings2[p2].keys())[0]\n",
    "            \n",
    "            if p1_doc_id == p2_doc_id:\n",
    "                common_pos = []\n",
    "                positions1 = postings1[p1][p1_doc_id]['positions']\n",
    "                positions2 = postings2[p2][p2_doc_id]['positions']\n",
    "                pp1 =0\n",
    "                pp2 = 0\n",
    "                while pp1 < len(positions1) and pp2 < len(positions2):\n",
    "                    # check if the second word is right after first word or not\n",
    "                    if positions1[pp1] + 1 == positions2[pp2]:\n",
    "                        # add position of second word if we want to check the words after that\n",
    "                        # then we can do this \n",
    "                        common_pos.append(positions2[pp2])\n",
    "                        pp1 += 1\n",
    "                        pp2 += 1\n",
    "                    elif positions1[pp1] + 1 < positions2[pp2]:\n",
    "                        pp1 += 1\n",
    "                    else:\n",
    "                        pp2 += 1\n",
    "                if len(common_pos) != 0:\n",
    "                    result.append({p1_doc_id:{\n",
    "                        'term_frequency': len(common_pos),\n",
    "                        'positions':common_pos\n",
    "                    }})\n",
    "                p1 += 1\n",
    "                p2 += 1\n",
    "            elif p1_doc_id < p2_doc_id:\n",
    "                p1 += 1\n",
    "            else:\n",
    "                p2 += 1\n",
    "\n",
    "        return result"
   ]
  },
  {
   "cell_type": "markdown",
   "id": "b0a8a446",
   "metadata": {},
   "source": [
    "# Step5)\n",
    "## Report"
   ]
  },
  {
   "cell_type": "markdown",
   "id": "83a48507",
   "metadata": {},
   "source": [
    "**Q1:** Describe with an example what operation you did in the pre-processing step. Also mention the reason for each processing."
   ]
  },
  {
   "cell_type": "markdown",
   "id": "dd4f4948",
   "metadata": {},
   "source": [
    "**Answer**: \n",
    "- The details related to this section would be seen in Step1) Preprocessing section. we use below steps:\n",
    "    - [ ] **Removing punctuation marks** : because it reduce our dectionary size and also we shouldn't count them as tokens\n",
    "    - [ ] **Normalization** : In this step actions like: change all numbers in Eng. language, delete extra spaces and ... are done.\n",
    "    - [ ] **Tokenizing** : The output of prevoius step now can be splited in tokens. We use tokens in dictionary. also we call them terms. \n",
    "    - [ ] **Removing Stopwords**: Some words in every languages are very frequent like \"The\" or \"را\" in Persian. They dont give us any information to handle queries and If we consider them, it will lead to wrong results. \n",
    "    - [ ] **Stemming** : change every words to their roots. Because we don't like words with the same root and different appearance to be recognized differently from one another, and we also don't want each one to be an independent member in the index. \n",
    "    "
   ]
  },
  {
   "cell_type": "markdown",
   "id": "dd7a2b5c",
   "metadata": {},
   "source": [
    "**Q2:** Check the validity of Zipf's law in two situations before and after removing stop words from the dictionary"
   ]
  },
  {
   "cell_type": "markdown",
   "id": "f329fd28",
   "metadata": {},
   "source": [
    "**Answer:**  \n",
    "- We have below formula for this law:\n",
    "$$\\log cf_i = \\log K - \\log i$$"
   ]
  },
  {
   "cell_type": "markdown",
   "id": "8f4e5230",
   "metadata": {},
   "source": [
    "below function get preprocessed content and give ust the cf of each token"
   ]
  },
  {
   "cell_type": "code",
   "execution_count": 22,
   "id": "45ed45b2",
   "metadata": {},
   "outputs": [],
   "source": [
    "def get_cf(preprocessed_contents):\n",
    "    token_cf = {}\n",
    "    for content in preprocessed_contents:\n",
    "        for token in content:\n",
    "            if token_cf.get(token):\n",
    "                token_cf[token] += 1\n",
    "            else:\n",
    "                token_cf[token] = 1\n",
    "    cf = [token_cf[token] for token in token_cf]\n",
    "    cf.sort(reverse=True)\n",
    "    return cf "
   ]
  },
  {
   "cell_type": "markdown",
   "id": "f8bcdbae",
   "metadata": {},
   "source": [
    "- [ ] **With cosidering Stopwords:**"
   ]
  },
  {
   "cell_type": "code",
   "execution_count": 23,
   "id": "04ef7210",
   "metadata": {},
   "outputs": [
    {
     "name": "stdout",
     "output_type": "stream",
     "text": [
      "0\n",
      "2000\n",
      "4000\n",
      "6000\n",
      "8000\n",
      "10000\n",
      "12000\n"
     ]
    }
   ],
   "source": [
    "# Step1) find preprocess contents and also considering stopwords\n",
    "preprocessed_with_stopwords = []\n",
    "for i in range(len(df)):\n",
    "    if ( i % 2000 ==0):\n",
    "        print(i)\n",
    "    input_content_zipf_with_stop = df.iloc[i]['content']\n",
    "    new_content = total_preprocess (input_content_zipf_with_stop, is_stopwords_remove=False)\n",
    "    preprocessed_with_stopwords.append(new_content)"
   ]
  },
  {
   "cell_type": "code",
   "execution_count": 24,
   "id": "0a3a601c",
   "metadata": {},
   "outputs": [],
   "source": [
    "# Step2) find cf for tokens\n",
    "cf = get_cf(preprocessed_with_stopwords)"
   ]
  },
  {
   "cell_type": "code",
   "execution_count": 25,
   "id": "e8641cf0",
   "metadata": {},
   "outputs": [],
   "source": [
    "# Step3) define horizontal axis or log_rank variable and vertical axis or log_cf varibale\n",
    "log_rank = list(map(math.log, range(1, len(cf)+1)))\n",
    "log_cf = [math.log(single_cf) for single_cf in cf]"
   ]
  },
  {
   "cell_type": "code",
   "execution_count": 26,
   "id": "8f6611c9",
   "metadata": {},
   "outputs": [
    {
     "data": {
      "text/plain": [
       "<matplotlib.legend.Legend at 0x1d41f460670>"
      ]
     },
     "execution_count": 26,
     "metadata": {},
     "output_type": "execute_result"
    },
    {
     "data": {
      "image/png": "[encoded data removed]",
      "text/plain": [
       "<Figure size 432x288 with 1 Axes>"
      ]
     },
     "metadata": {
      "needs_background": "light"
     },
     "output_type": "display_data"
    }
   ],
   "source": [
    "# Step4) plot\n",
    "plt.title('Zipf Graph')\n",
    "plt.xlabel('log Rank')\n",
    "plt.ylabel('log cf')\n",
    "plt.plot(log_rank, log_cf, label='With Stopwords')\n",
    "plt.plot(range(math.ceil(max(log_cf))), range(math.ceil(max(log_cf)))[::-1], label='Ideal Graph')\n",
    "plt.legend()"
   ]
  },
  {
   "cell_type": "markdown",
   "id": "f742a773",
   "metadata": {},
   "source": [
    "- [ ] **Removing Stopwords:**"
   ]
  },
  {
   "cell_type": "code",
   "execution_count": 27,
   "id": "43c9b3ee",
   "metadata": {},
   "outputs": [],
   "source": [
    "# Step1) find preprocessed contents without considering stopwords\n",
    "# (We do it before.in Default mode, the total_preprocess function remove stopwords)\n",
    "\n",
    "# Step2) find cf for tokens\n",
    "# here we can calculate summation of tf for a token or use last method\n",
    "cf2 = get_cf(preprocessed_content)"
   ]
  },
  {
   "cell_type": "code",
   "execution_count": 28,
   "id": "7c60a754",
   "metadata": {},
   "outputs": [],
   "source": [
    "# Step3) define horizontal axis or log_rank variable and vertical axis or log_cf varibale\n",
    "log_rank2 = list(map(math.log, range(1, len(cf2)+1)))\n",
    "log_cf2 = [math.log(single_cf) for single_cf in cf2]"
   ]
  },
  {
   "cell_type": "code",
   "execution_count": 29,
   "id": "84728126",
   "metadata": {},
   "outputs": [
    {
     "data": {
      "text/plain": [
       "<matplotlib.legend.Legend at 0x1d420e8d9a0>"
      ]
     },
     "execution_count": 29,
     "metadata": {},
     "output_type": "execute_result"
    },
    {
     "data": {
      "image/png": "[encoded data removed]",
      "text/plain": [
       "<Figure size 432x288 with 1 Axes>"
      ]
     },
     "metadata": {
      "needs_background": "light"
     },
     "output_type": "display_data"
    }
   ],
   "source": [
    "# Step4) plot\n",
    "plt.title('Zipf Graph')\n",
    "plt.xlabel('log Rank')\n",
    "plt.ylabel('log cf')\n",
    "plt.plot(log_rank2, log_cf2, label='Without Stopwords')\n",
    "plt.plot(range(math.ceil(max(log_cf))), range(math.ceil(max(log_cf)))[::-1], label='Ideal Graph')\n",
    "plt.legend()"
   ]
  },
  {
   "cell_type": "markdown",
   "id": "ad0b60a2",
   "metadata": {},
   "source": [
    "**Q3:** Check the correctness of heaps law in two cases before and after stemming. To check this law, it is necessary to estimate the size of the dictionary for all documents using the size of the dictionary and the number of tokens in the first 500, 1000, 1500 and 2000 documents. Finally, the actual size of the dictionary and the estimated size in both cases should be compared and analyzed."
   ]
  },
  {
   "cell_type": "markdown",
   "id": "56e8f730",
   "metadata": {},
   "source": [
    "**Answer:**  \n",
    "- We have below formula for this law:\n",
    "$$\\log M = \\log K + b\\log T$$"
   ]
  },
  {
   "cell_type": "markdown",
   "id": "ca7c98ab",
   "metadata": {},
   "source": [
    "with the help of below function we can find T and M in above formula according to our data"
   ]
  },
  {
   "cell_type": "code",
   "execution_count": 30,
   "id": "7e62a10b",
   "metadata": {},
   "outputs": [],
   "source": [
    "def get_T_M(preprocessed_contents):\n",
    "    # we define the dictionary as a set. because we send tokens inside it and \n",
    "    # just we want number of different terms( We know terms in dictionary are keys and also they are unique)\n",
    "    dictionary = set()\n",
    "    actual_dictionary_size = []\n",
    "    \n",
    "    visited_docs_num = 0\n",
    "    \n",
    "    info_for_estimation = {}\n",
    "    \n",
    "    for content in preprocessed_contents:\n",
    "        for token in content:\n",
    "            dictionary.add(token)\n",
    "            actual_dictionary_size.append(len(dictionary))\n",
    "        visited_docs_num += 1\n",
    "        \n",
    "        if visited_docs_num in [500,1000,1500,2000]:\n",
    "            info_for_estimation[visited_docs_num] ={'M':len(dictionary), 'T':len(actual_dictionary_size)}\n",
    "    return actual_dictionary_size, info_for_estimation"
   ]
  },
  {
   "cell_type": "markdown",
   "id": "3724d55c",
   "metadata": {},
   "source": [
    "for prediction we use simple linear reqression model. first we should train it and then use it for predictions"
   ]
  },
  {
   "cell_type": "code",
   "execution_count": 31,
   "id": "56e03d01",
   "metadata": {},
   "outputs": [],
   "source": [
    "def get_model(T_list, M_list):\n",
    "    model = LinearRegression()\n",
    "    x = np.array(T_list).reshape(-1, 1)\n",
    "    y = np.array(M_list)\n",
    "    model.fit(x, y)\n",
    "    return model"
   ]
  },
  {
   "cell_type": "code",
   "execution_count": 32,
   "id": "e2bcd984",
   "metadata": {},
   "outputs": [],
   "source": [
    "def get_parameters(actual_dictionary_size, info_for_estimation):\n",
    "    T_list_for_prediction = []\n",
    "    M_list_for_prediction = []\n",
    "    for doc_nums in info_for_estimation:\n",
    "        M_list_for_prediction.append(math.log(info_for_estimation[doc_nums]['M']))\n",
    "        T_list_for_prediction.append(math.log(info_for_estimation[doc_nums]['T']))\n",
    "\n",
    "    model = get_model(T_list_for_prediction, M_list_for_prediction)\n",
    "    T = [math.log(i) for i in range(1, len(actual_dictionary_size)+1)]\n",
    "    M_actual = [math.log(i) for i in actual_dictionary_size]\n",
    "    T_predicted = [0] + T_list_for_prediction + [math.log(len(actual_dictionary_size))]\n",
    "    M_predicted = model.predict(np.array(T_predicted).reshape(-1,1)).tolist()\n",
    "    \n",
    "    return T_list_for_prediction, M_list_for_prediction, T, M_actual, M_predicted, T_predicted"
   ]
  },
  {
   "cell_type": "markdown",
   "id": "88a78158",
   "metadata": {},
   "source": [
    "- [ ] **Without Stemming:**"
   ]
  },
  {
   "cell_type": "code",
   "execution_count": 33,
   "id": "3c3b589b",
   "metadata": {},
   "outputs": [
    {
     "name": "stdout",
     "output_type": "stream",
     "text": [
      "0\n",
      "2000\n",
      "4000\n",
      "6000\n",
      "8000\n",
      "10000\n",
      "12000\n"
     ]
    }
   ],
   "source": [
    "# Step1) find preprocess contents and also stemming isnt done\n",
    "preprocessed_without_stemming = []\n",
    "for i in range(len(df)):\n",
    "    if ( i % 2000 ==0):\n",
    "        print(i)\n",
    "    input_content_heaps_without_stemming = df.iloc[i]['content']\n",
    "    new_content = total_preprocess (input_content_heaps_without_stemming, is_stemming=False)\n",
    "    preprocessed_without_stemming.append(new_content)"
   ]
  },
  {
   "cell_type": "code",
   "execution_count": 34,
   "id": "7a45192a",
   "metadata": {},
   "outputs": [],
   "source": [
    "# Step2) get T and M for each of tokens\n",
    "actual_dictionary_size, info_for_estimation = get_T_M(preprocessed_without_stemming)\n",
    "# Step3) find the data of variables that we want to plot\n",
    "T_list_for_prediction, M_list_for_prediction, T, M_actual, M_predicted, T_predicted = get_parameters(actual_dictionary_size, info_for_estimation)"
   ]
  },
  {
   "cell_type": "code",
   "execution_count": 35,
   "id": "d2d49166",
   "metadata": {},
   "outputs": [
    {
     "data": {
      "text/plain": [
       "<matplotlib.legend.Legend at 0x1d4b14bda00>"
      ]
     },
     "execution_count": 35,
     "metadata": {},
     "output_type": "execute_result"
    },
    {
     "data": {
      "image/png": "[encoded data removed]",
      "text/plain": [
       "<Figure size 432x288 with 1 Axes>"
      ]
     },
     "metadata": {
      "needs_background": "light"
     },
     "output_type": "display_data"
    }
   ],
   "source": [
    "plt.title('Heaps law Graph (without stemming)')\n",
    "plt.xlabel('log T')\n",
    "plt.ylabel('log M')\n",
    "plt.plot(T, M_actual, label='actual Vocabulary size')\n",
    "plt.plot(T_predicted, M_predicted, linestyle='--', label='pridicted vocabulary size')\n",
    "plt.plot(T_list_for_prediction, M_list_for_prediction, 'ro', label='Sampled points')\n",
    "plt.legend()"
   ]
  },
  {
   "cell_type": "markdown",
   "id": "0b6fecc2",
   "metadata": {},
   "source": [
    "- [ ] **With Stemming:**"
   ]
  },
  {
   "cell_type": "code",
   "execution_count": 36,
   "id": "2c63c806",
   "metadata": {},
   "outputs": [],
   "source": [
    "# Step2) get T and M for each of tokens\n",
    "actual_dictionary_size, info_for_estimation = get_T_M(preprocessed_content)\n",
    "# Step3) find the data of variables that we want to plot\n",
    "T_list_for_prediction, M_list_for_prediction, T, M_actual, M_predicted, T_predicted = get_parameters(actual_dictionary_size, info_for_estimation)"
   ]
  },
  {
   "cell_type": "code",
   "execution_count": 37,
   "id": "db1a1776",
   "metadata": {},
   "outputs": [
    {
     "data": {
      "text/plain": [
       "<matplotlib.legend.Legend at 0x1d4ca7fba60>"
      ]
     },
     "execution_count": 37,
     "metadata": {},
     "output_type": "execute_result"
    },
    {
     "data": {
      "image/png": "[encoded data removed]",
      "text/plain": [
       "<Figure size 432x288 with 1 Axes>"
      ]
     },
     "metadata": {
      "needs_background": "light"
     },
     "output_type": "display_data"
    }
   ],
   "source": [
    "plt.title('Heaps law Graph')\n",
    "plt.xlabel('log T')\n",
    "plt.ylabel('log M')\n",
    "plt.plot(T, M_actual, label='actual Vocabulary size')\n",
    "plt.plot(T_predicted, M_predicted, linestyle='--', label='pridicted vocabulary size')\n",
    "plt.plot(T_list_for_prediction, M_list_for_prediction, 'ro', label='Sampled points')\n",
    "plt.legend()"
   ]
  },
  {
   "cell_type": "markdown",
   "id": "4946d943",
   "metadata": {},
   "source": [
    "**Q4:** Mention at least three cases where you faced challenges in Stemming. (For example, words that do not need stemming, but are lost according to the process of stemming.)"
   ]
  },
  {
   "cell_type": "markdown",
   "id": "b5d832d7",
   "metadata": {},
   "source": [
    "**Answer:** \n",
    "- Some of roots are not correct. forexample the root of \"هسته\" isn't \"هست\"\n",
    "- In some situations we see some meaningless words or with %u sign and somthing like these\n",
    "- For some words a list of roots is returned.\n",
    "- Some plural words specificly words with \"ات\" are stemmed incorrectly."
   ]
  },
  {
   "cell_type": "markdown",
   "id": "55dafa0c",
   "metadata": {},
   "source": [
    "**Q5:** Answer the question in the following modes:"
   ]
  },
  {
   "cell_type": "markdown",
   "id": "e76bc97a",
   "metadata": {},
   "source": [
    "- [ ] A query of simple and frequently used words (such as 'تحریم‌های آمریکا علیه ایران', in the retrieved results it is expected that documents that contain the words sanctions, آمریکا, علیه and ایران are at the top of the list and documents that do not have some words at the lower ranks of the list are supposed to be)"
   ]
  },
  {
   "cell_type": "code",
   "execution_count": 38,
   "id": "d04326ba",
   "metadata": {},
   "outputs": [
    {
     "name": "stdout",
     "output_type": "stream",
     "text": [
      "/\\/\\/\\/\\/\\/\\/\\/\\/\\/\\/\\/\\/\\/\\/\\/\\/\\/\\/\\/\\/\\/\\/\\/\\/\\/\\/\\/\\/\\/\\/\\/\\/\\/\\/\\/\\/\\/\\/\\/\\/\\/\\/\\/\\/\\/\\/\\/\\/\\/\\\n",
      "Rank: 169\n",
      "docID: 9742\n",
      "Title: مرکز پژوهش‌های مجلس: مذاکرات وین به توافقی زودهنگام منجر نمی‌شود\n",
      "URL: https://www.farsnews.ir/news/14000924000773/مرکز-پژوهش‌های-مجلس-مذاکرات-وین-به-توافقی-زودهنگام-منجر-نمی‌شود\n",
      "\n",
      "به گزارش خبرگزاری فارس، مرکز پژوهش‌های مجلس شورای اسلامی در گزارشی با عنوان «مذاکرات وین: تقابل اراده‌ها و جنگ روایت‌ها» به موضوع مذاکرات اخیر ایران با 1+4 پرداخت.  در بخش چکیده این گزارش آمده است: انگیزه اصلی جمهوری اسلامی ایران برای ورود به مذاکرات وین، تحقق هدف مندرج در بند «29» برجام یعنی «عادی‌سازی روابط اقتصادی و تجاری» بود. با این‌حال، نتایج 6 دور اول گفتگوهای وین به‌دلیل عدم اراده آمریکا برای لغو مؤثر همه تحریم‌ها و ارائه تضمین به‌لحاظ اقتصادی، منافع ملی جمهوری اسلامی ایران را تأمین نمی‌کرد.  به‌دلیل عدم انتفاع اقتصادی، تجدیدنظر درباره پیش‌نویس 6 دور قبلی مذاکرات یک ضرورت برای جمهوری اسلامی ایران محسوب می‌شد، ولی آمریکا ـ حتی پیش از تدوین متن جدید در تهران ـ با ایجاد کمپین روانی خواسته ایران را «زیاده‌خواهانه و فرابرجامی» معرفی کرد. درحالی که، طبق برجام و قطعنامه 2231، آمریکا علاوه‌بر رفع تحریم‌های مقرر در ضمیمه 2 برجام باید از اتخاذ اقداماتی که مانع از عادی‌سازی روابط اقتصادی و تجاری با ایران می‌شود، خودداری نماید. آمریکا برای تغییر محاسبه جمهوری اسلامی ایران و وادار ساختن آن به عقب‌نشینی از خواسته لغو تحریم‌ها و ارائه تضمین، به‌صورت همزمان تلاش دارد تا از تاکتیک دیپلماسی برای «مقصرسازی» ایران، از اعمال تحریم جدید و ابراز آمادگی در جهت اجرای سخت‌گیرانه‌تر تحریم برای «مأیوس کردن» ایران و درنهایت از تهدید به حمله نظامی برای «ایجاد هراس» از پیشرفت برنامه هسته‌ای استفاده کند. چالش اصلی رویکرد «فشار هوشمند» دولت بایدن و تهدید به اجرای برنامه جایگزین (Plan B) این است که افزایش فشار به ایران ـ همانند آنچه بعد از ترور شهید فخری‌زاده یا اقدام خرابکارانه اخیر در نطنز رخ داد ـ می‌تواند نتایج معکوسی داشته باشد و بیش از آنکه ایران را وادار به عقب‌نشینی نماید، به واکنش تقابلی آن و تحمیل هزینه به طرف مقابل منجر شود. اگرچه تاکنون در وین توافقی حاصل نشده، ولی الگوی رفتاری جمهوری اسلامی ایران منجر به شکل‌گیری این درک شده است که اعمال فشار علیه ایران بدون هزینه و پاسخ نخواهد بود. ایجاد چنین نگرشی را می‌توان مهم‌ترین دستاورد جمهوری اسلامی ایران در خلال گفتگوهای وین دانست که منجر به تقویت توان بازدارندگی ایران شده است. دستیابی به نتیجه مطلوب در وین در گرو آن است که چه کسی اراده قوی‌تری داشته و در خلق روایت از توانمندی بیشتری برخوردار است. رویکرد ایران در مذاکره باید برمبنای مفهوم «انتفاع ملموس» و عادی‌سازی روابط اقتصادی و تجاری باشد. نگرش صرفاً حقوقی به ‌مقوله رفع تحریم و درخواست لغو برخی از دستورات اجرایی، توقف اجرای قوانین کنگره و تغییر در برخی از دستور‌العمل‌های اوفک که در دوره زمانی ریاست‌جمهوری ترامپ علیه ایران اعمال شده است لزوماً منجر به انتفاع اقتصادی از توافق و استمرار مزایای ایران در بلندمدت نمی‌شود. همچنین در بخش مقدمه این گزارش هم آمده است: با گذشت نزدیک به یک سال از روی‌کار آمدن دولت بایدن، آمریکا به برجام بازنگشته و از رفع مؤثر تحریم‌‌ها خودداری می‌‌ورزد. ایده اصلی دولت بایدن این بود که با اعمال «فشار هوشمند» یا همان «ترکیب دیپلماسی و چندجانبه‌گرایی با کمپین فشار حداکثری» ایران را وادار به پذیرش «توافق قوی‌تر و طولانی‌تر» کند.  به همین دلیل، دولت بایدن بیش از آنکه به‌دنبال بازگشت فوری به برجام باشد در پی طراحی سازوکاری بود که چگونه می‌‌توان توافق هسته‌ای را به بستری برای دستیابی به تبدیل توافقی جامع برای مهار ایران کرد. تیم مذاکره‌کننده آمریکا با چنین هدفی در فروردین‌ماه 1400 وارد مذاکرات وین شد و پیش‌نویسی را برای گفتگو درباره دو موضوع اصلی مذاکره یعنی «تحریم» و « برنامه هسته‌‌ای» ارائه کرد که طبق آن از یکسو آمریکا با حفظ بخش مهمی از تحریم‌‌ها به‌دنبال استمرار اهرم فشار علیه ایران و ازسوی دیگر به بهانه «آستانه گریز یک‌ساله» خواستار محدودیت‌‌های فنی و نظارتی فرابرجامی ازجمله تخریب سانتریفیوژهای نسل جدید و زنجیره ساخت این ماشین‌‌ها بود. استراتژی دولت بایدن برای «ارائه امتیاز کمتر و تحمیل محدودیت بیشتر» تبدیل به مهم‌ترین گره مذاکرات وین در 6 دور قبلی شد. ارزیابی دبیرخانه شورای‌عالی امنیت ملی در قالب کمیته تطبیق برجام از متن حاصل از 6 دور پیشین وین نیز این بود که این متن انطباق کاملی با سیاست حرف قطعی و قانون اقدام راهبردی برای لغو تحریم‌‌ها نداشته و منافع جمهوری اسلامی ایران را تأمین نمی‌‌کند.  ازاین‌رو، ضرورت دارد تا ضمن بازبینی روندهای گذشته، برای تأمین منافع ملی و اطمینان از رفع مؤثر تحریم‌‌ها اصلاحاتی در متن پیش‌نویس 6 دور قبلی انجام شود. با آغاز دور جدید گفتگوها در وین باید این موضوع به‌دقت مورد واکاوی قرار گیرد که آمریکا چه رویکردی در پیش گرفته است و ایران باید به‌دنبال چه هدفی باشد.  رویکرد آمریکا در قبال گفتگوهای وین؛ تلاش برای تغییر محاسبات ایران ایجاد وقفه در مذاکرات وین، آمریکا را به این جمع‌‌بندی رساند که جمهوری اسلامی ایران از نتایج وین راضی نیست. با این‌حال، از نگاه دولت بایدن این ابهام وجود دارد که جمهوری اسلامی ایران به‌دنبال دستیابی به چه هدفی در گفتگوهای وین است. در پاسخ به این سؤال، سه فرضیه در آمریکا در تحلیل رویکرد احتمالی ایران در قبال مذاکرات شکل گرفت: اول، دولت جدید در ایران به‌دلیل ملاحظات سیاسی و ایجاد تمایز با دولت قبلی به‌دنبال دستیابی به توافقی است که اندکی بهتر از نتایج به‌دست آمده در 6 دور قبلی وین باشد. دوم، ایران در پی مذاکره مجددِ پیش‌‌نویس دورهای قبلی مذاکرات وین و طرح درخواست‌‌های حداکثری و فرابرجامی است. زیرا، ایران از یکسو به‌دلیل بهبود وضعیت فروش نفت و دسترسی به پول‌‌های بلوکه شده و پیشرفت‌‌های فنی در برنامه هسته‌‌ای گذر زمان را به سود خود می‌‌داند و ازسوی دیگر این نگرش درباره ابزارهای فشار آمریکا وجود دارد که دولت بایدن نه اراده استفاده از گزینه نظامی را دارد و نه اعمال تحریمِ اثرگذار در کوتاه‌مدت امکانپذیر است.  سوم، نارضایتی از عدم رفع تحریم‌‌ها و تجربه خروج ترامپ از برجام ایران را به این نتیجه رسانده است که به‌دنبال عبور از برجام و دستیابی به توافقی جدید باشد.  آمریکا برمبنای رویکرد «فشار هوشمند» در مواجهه با وضعیت جدید از طرفی با اعلام آمادگی برای انجام «مصالحه محدود درباره متن 6 دور قبلی» یا «مذاکره درباره توافقی متفاوت از برجام» (در قالب توافق موقت (کمتر در برابر کمتر) و توافق جامع (بیشتر در برابر بیشتر)) تلاش کرد تا بستر مذاکره و توافق را حفظ کرده و خود را حامی راه‌‌حل دپیلماتیک معرفی کند  و از طرف دیگر قصد دارد با تهدید به اجرای برنامه جایگزین (Plan B) ایران را تحت فشار قرار دهد.  مقصود آمریکا از برنامه جایگزین، افزایش فشار سیاسی، اقتصادی و تهدید نظامی علیه ایران است. از منظر سیاسی، آمریکا در پی استفاده از تاکتیک «مقصرسازی» برای همراه ساختن چین و روسیه و ایجاد اجماع علیه ایران است. آمریکا در اجرای این تاکتیک تلاش می‌‌کند روایتی از رفتار ایران ارائه دهد که در ظاهر در تضاد با اراده سیاسی ایران برای پایبندی به توافق هسته‌‌ای و ناسازگار با ادعای آن مبنی‌بر جدیت در مذاکره باشد. برای مثال، آمریکا در موضعی غیرمنطقی، درخواست ایران برای رفع مؤثر تحریم‌‌ها را اقدامی «فرابرجامی و زیاده‌خواهانه» معرفی و پیشرفت برنامه هسته‌‌ای را به‌منزله افزایش ریسک اشاعه‌‌ای تفسیر می‌‌کند. درحالی که نه‌ تنها خواسته ایران برای لغو تحریم‌‌ها طبق بند «29» برجام یعنی تعهد دیگر اعضای توافق به «عادی‌سازی روابط اقتصادی و تجاری» ایران است، بلکه همواره در گزارش‌‌های آژانس بین‌المللی انرژی اتمی این موضوع تأکید می‌‌شود که هیچ انحرافی در برنامه هسته‌‌ای ایران به سمت اهداف غیرصلح‌آمیز رخ نداده است. با وجود این، برخلاف واقعیت، آمریکا با ارائه روایتی نادرست از نیات و اهداف برنامه هسته‌‌ای ایران تلاش می‌‌کند پیشرفت‌‌های حاصل از قانون اقدام راهبردی برای لغو تحریم‌‌ها را ـ که یکی از مهم‌ترین نقاط قوت تیم مذاکره‌کننده ایران است ـ از طریق فضاسازی رسانه‌‌ای تبدیل به نقطه ضعف و بهانه‌‌ای برای ایجاد اجماع بین‌المللی علیه ایران نماید. از منظر اقتصادی، آمریکا برای اعمال فشار بیشتر به ایران به‌دنبال اجرای سخت‌‌گیرانه‌‌تر تحریم‌‌ها و کاهش منابع درآمدی آن است.  در همین راستا، دولت بایدن به‌دنبال اعزام تیمی از وزارت خزانه‌داری آمریکا به شرکای اصلی تجاری ایران ازجمله امارات، چین، ترکیه و مالزی است تا به شرکت‌‌ها و بانک‌‌های این کشورها هشدار بدهد که در صورت استمرار روابط بانکی و تجاری با ایران و کمک به آن در دور زدن تحریم‌‌ها در معرض ریسک‌‌ مالی قابل‌توجهی قرار خواهند گرفت.  علاوه‌بر این، آمریکا ضمن استمرار تحریم افراد و نهادهای ایرانی به‌دنبال آن است تا در صورت ضرورت، همکاری اروپا برای اعمال فشار اقتصادی چندجانبه علیه ایران را ـ از وضع تحریم‌‌های جدید گرفته تا فعال‌سازی مکانیسم ماشه ـ فراهم آورد.  از منظر نظامی، آمریکا و رژیم صهیونیستی از تهدید به حمله نظامی در صورت شکست مذاکرات استفاده می‌‌کند. با این‌حال، تهدید به استفاده از گزینه نظامی علیه تأسیسات هسته‌‌ای یک عملیات روانی برای جلوگیری از واکنش ایران به فشارهای سیاسی و اقتصادی آمریکاست. به همین دلیل، تلاش می‌‌شود تا با موضع‌گیری مقامات ارشد نظامی آمریکا، برگزاری رزمایش هوایی و افزایش رفت‌‌و‌‌آمد هواپیماهای نظامی به منطقه غرب آسیا، جمهوری اسلامی ایران تهدید نظامی را معتبر تلقی کند.  هدف از اعمال فشار اقتصادی و سیاسی به ایران و تکرار موضوع برنامه جایگزین (Plan B) توسط آمریکا ایجاد تغییر در محاسبات ایران است. به‌عبارت دیگر، رویکرد دولت بایدن آن است که از طریق تشدید فشار، نخبگان و افکار عمومی را به این جمع‌بندی برساند که اولاً گذشت زمان به سود ایران نیست و امکان حفظ ثبات اقتصادی در بلندمدت وجود ندارد. ثانیاً آمریکا تحت فشارِ رشد برنامه هسته‌‌ای عقب‌نشینی نخواهد کرد و ایران نمی‌‌تواند به توافقی بهتر دست یابد. ثالثاً ایران در صورت ادامه این مسیر متحمل هزینه خواهد شد. از‌این‌رو، هدفگذاری نهایی کمپین فشار روانی آمریکا وادار ساختن ایران به کاهش سرعت پیشرفت برنامه هسته‌‌ای، عقب‌نشینی از تجدیدنظر درباره پیش‌نویس توافق وین و طرح مطالبه «لغو همه تحریم‌‌ها» و پذیرش یک توافق فوری در قالب برجام یا توافق موقت است. چالش اصلی رویکرد دولت بایدن و تهدید به اجرای برنامه جایگزین این است که افزایش فشار به ایران ـ همانند آنچه بعد از ترور شهید فخری‌زاده یا اقدام خرابکارانه اخیر در نطنز رخ داد ـ می‌‌تواند نتایج معکوسی داشته باشد و بیش از آنکه ایران را وادار به عقب‌نشینی نماید، به واکنش تقابلی آن و تشدید تنش منجر شود. برخلاف اقدامات اقتصادی آمریکا که نیاز به زمان طولانی برای اثرگذاری دارد، جمهوری اسلامی ایران طیفی از گزینه‌های فنی و نظارتی فوری ازجمله توقف کامل نظارت‌‌های فراپادمانی (به‌ویژه در ارتباط با توقف ضبط دوربین‌های نظارتی آژانس در سایت‌های هسته‌‌ای)، راه‌اندازی کارخانه اورانیم فلزی، افزایش سطح غنی‌سازی به 90 درصد و افزایش سرعت ساخت و نصب ماشین‌های نسل جدید را در اختیار دارد که می‌‌تواند آمریکا را تحت فشار قرار دهد. در حوزه اقدامات سیاسی و رسانه‌ای نیز اگرچه آمریکا و برخی از کشورهای اروپایی تهدید به بازگشت به دوره زمانی سال‌‌های 2005 و 2006 و ارجاع پرونده ایران به شورای امنیت سازمان ملل می‌کنند، ولی شرایط امروز با یک دهه گذشته متفاوت است؛ به‌دلیل تنش در روابط آمریکا با چین و روسیه احتمال صدور قطعنامه علیه ایران کمتر است؛ حتی در صورت بازگشت قعطنامه‌‌های شورای امنیت سازمان ملل وضعیت اقتصادی ایران تغییر محسوسی نخواهد کرد. زیرا، تجربه اجرای تحریم‌‌ها در دوره قطعنامه‌‌های سازمان ملل و دوره کمپین فشار حداکثری نشان می‌‌دهد اثرگذاری تحریم‌‌های شورای امنیت کمتر از تحریم‌‌های یک‌جانبه آمریکاست و درنهایت، برنامه هسته‌‌ای ایران پیشرفت چشمگیری نسبت به سال 2006 پیدا کرده است. بنابراین، درصورت تشدید تنش اگر معادله دیروز «تحریم در برابر سانتریفیوژ»  بود،  معادله امروز «تحریم در برابر ظرفیت غنی‌سازی (سو)» است. به‌عبارت دیگر، به‌دلیل دستاوردهای دانشی جدید در عرصه هسته‌ای، جمهوری اسلامی ایران می‌تواند در زمان کمتر و با تعداد ماشین‌های محدودتر، ظرفیت غنی‌سازی بیشتری نسبت به دوره قبل از برجام داشته باشد. رویکرد ایران در قبال گفتگوهای وین؛ دیپلماسی مقتدرانه برای تضمین انتفاع اقتصادی توافق یا عدم توافق محل چالش نیست، بلکه مسئله این است که جمهوری اسلامی ایران برای دستیابی به پیشرفت چه نیازها و اهدافی دارد. پاسخ به این سؤال مشخص می‌‌کند که جمهوری اسلامی ایران با چه رویکردی در میز مذاکره حاضر شود و دنبال کسب چه خواسته‌‌هایی باشد و در فضایی خارج از گفتگوهای وین در پی تلاش برای تحقق کدام راه‌‌‌حل‌‌ها برای خنثی‌سازی تحریم و قرارگیری در ریل پیشرفت اقتصادی باشد. با توجه به تجربه دوره اجرای برجام و خروج آمریکا از آن، نه دستیابی به توافق به‌معنای توسعه اقتصادی است نه عدم توافق به‌معنای فروپاشی اقتصادی. گذشت زمان نیز به‌معنای استمرار وضع موجود یا بدتر شدن وضعیت اقتصادی نیست، بلکه مذاکره باید در یک مسیر موازی و همزمان با تلاش برای خنثی‌سازی تحریم پیگیری شود. نگرانی از وخامت شرایط اقتصادی در صورت عدم توافق ناشی از این نگرش نادرست است که تصور می‌‌شود بدون برجام و توافق امکان بهبود وضعیت وجود ندارد. درحالی که، به‌دلیل عدم اطمینان از پایبندی طرف مقابل به تعهدات، نتایج حاصل از هر نوع توافقی ناپایدار و محدود است و نمی‌‌توان برنامه اداره کشور و توسعه اقتصادی را معطل آن کرد. نتیجه 6 دور اول مذاکرات وین نیز چیزی بیش از یک معامله کوتاه‌مدت (حداکثر تا سال 2025) تهاتری «نفت در برابر کالا» نبود. توافق وین در صورت اجرا نه‌تنها به عادی‌سازی روابط اقتصادی و تجاری ایران منجر نمی‌‌شد، بلکه به‌دلیل حفظ بیش از یک‌سوم تحریم‌‌ها و ریسک بالای خروج مجدد آمریکا از توافق منافعی کمتر از توافق برجام در سال 2015 برای ایران در پی داشت. آنچه در 6 دور قبلی به‌دست آمده بود، نگرانی شرکت‌‌ها و بانک‌‌های متوسط و بزرگ بین‌المللی برای برقراری روابط مالی و تجاری با ایران و حتی سرمایه‌گذاری میان‌مدت را رفع نمی‌‌کرد. توافق برای ایران زمانی ارزش دارد که نتایج قابل‌توجه و ملموس اقتصادی داشته باشد. در غیر این‌صورت، عقب‌نشینی از برنامه هسته‌‌ای صرفاً ایران را در موضع ضعف و فشار بیشتر قرار می‌‌دهد. رویکرد ایران در مذاکره باید برمبنای مفهوم «انتفاع ملموس» و عادی‌سازی روابط اقتصادی و تجاری باشد. نگرش صرفاً حقوقی به‌مقوله رفع تحریم و درخواست لغو برخی از دستورات اجرایی، توقف اجرای قوانین کنگره و تغییر در برخی از دستور‌العمل‌‌های اوفک که در دوره زمانی ریاست‌جمهوری ترامپ علیه ایران اعمال شده است، لزوماً به انتفاع اقتصادی از توافق و استمرار مزایای ایران در بلندمدت منجر نمی‌‌شود. تا زمانی که ما‌به‌ازای ملموس، سنجه‌‌پذیر و قابل راستی‌آزمایی برای عملیات رفع تحریم‌‌ها تعریف نشود نمی‌‌توان از آثار اقتصادی و مالی آن اطمینان داشت. فلسفه اصلی برجام برای ایران این بود که تحریم‌‌های اقتصادی لغو و فعالیت‌‌های تجاری و مالی ایران عادی شود.  با این‌حال، بدعهدی طرف‌های مقابل در اجرای تعهدات خود در زمینه تحریم‌ها رفع و تجربه خروج از توافق هسته‌‌ای در دوره ترامپ، آورده و بهره اقتصادی برجام برای ایران را با مانع مواجه کرد. به این ترتیب به صرف بازگشت آمریکا به برجام نه‌تنها «ریسک همکاری» با ایران از بین نمی‌‌رود، بلکه «امکان همکاری» مالی و تجاری رسمی با ایران نیز به‌دلیل حفظ بخشی از تحریم‌‌ها ازجمله تحریم یوترن (U-TURN) میسر نمی‌شود. از‌این‌رو، «لغو مؤثر تحریم‌‌ها» و «دریافت تضمین» نه‌تنها زیاده‌خواهانه نیست، بلکه شرط واقع‌بینانه، منطبق بر تجربه سالیان اخیر و حداقلی ایران به‌منظور انتفاع اقتصادی از برجام است. با این‌حال، باید توجه داشت که حتی در صورت تحقق چنین هدفی در مذاکرات، رفع تحریم‌‌ها شرط کافی برای پیشرفت اقتصادی کشور نیست. پیشرفت، مستلزم برخورداری از برنامه توسعه‌‌ای و استفاده حداکثری از فرصت‌‌های بین‌المللی ازجمله بهره‌مندی از ظرفیت همسایگان و قدرت‌‌های نوظهور است. جمع‌بندی با توجه به سابقه آمریکا در نقض تعهدات خود در قبال برجام و تلاش این کشور برای انعقاد توافقی یک‌طرفه و ناقص، نتیجه این مذاکرات به یک توافق زودهنگام و پایدار منجر نخواهد شد. از طرف دیگر، به‌دلیل آنکه آمریکا جایگزین مناسبی برای برجام ندارد، عدم دستیابی به توافق در میان‌مدت نیز به‌معنای فروپاشی برجام نخواهد بود. دستیابی به نتیجه مطلوب در وین در گرو آن است که چه کسی اراده قوی‌‌تری داشته و در خلق روایت از توانمندی بیشتری برخوردار است. آمریکا در پی آن است تا از طریق تهدید به تشدید فشار اقتصادی، سیاسی و نظامی جمهوری اسلامی ایران را وادار به تغییر محاسبه و تجدیدنظر درباره «رفع مؤثر تحریم‌‌ها» کند و با استفاده از ابزار دیپلماسی، ایران را مقصر و مانع دستیابی به توافق معرفی کند. برای مثال، آمریکا در طول چند ماه گذشته تلاش کرد تا مبدأ زمانی و عامل بن‌بست در گفتگوهای وین را تغییر دهد. درحالی که منشأ این بحران، خروج آمریکا از برجام و عدم اراده دولت بایدن برای رها کردن کمپین فشار حداکثری و رفع تحریم‌‌ها بود، چنین وانمود شد که علت بن‌بست در مذاکره «خواسته‌‌های ایران در مسئله تحریم‌‌هاست».  اگرچه تاکنون در وین توافقی حاصل نشده، ولی الگوی رفتاری جمهوری اسلامی ایران منجر به شکل‌گیری این درک شده است که اعمال فشار علیه ایران بدون هزینه و پاسخ نخواهد بود. ایجاد چنین نگرشی را می‌‌توان مهم‌ترین دستاورد جمهوری اسلامی ایران در خلال گفتگوهای وین دانست که به تقویت توان بازدارندگی ایران منجر شده است. پیش از این ـ به‌خصوص در دوره ترامپ ـ چنین تصور می‌‌شد که جمهوری اسلامی ایران تحت فشار شدید اقتصادی و تهدید نظامی عقب‌نشینی خواهد کرد. این درک راهبردی از ایران نقش مهمی در خروج آمریکا از برجام داشت. از‌این‌رو، پیش از بازگشت آمریکا به برجام ضرورت داشت تا این نگاه ایجاد شود که ایران در برابر فشار نه‌تنها عقب‌نشینی نخواهد کرد، بلکه واکنش آن می‌‌تواند نتایج معکوسی برای آمریکا و رژیم صهیونیستی در پی داشته باشد. تقویت این درک از ایران یکی از مهم‌ترین پایه‌‌های تأمین امنیت ملی و تضمین توافق احتمالی در وین خواهد بود.  متن کامل گزارش مذاکرات وین؛ تقابل اراده‌ها و جنگ روایت‌ها را اینجا بخوانید:       انتهای پیام/ \n",
      "\n",
      "\n",
      "\n",
      "/\\/\\/\\/\\/\\/\\/\\/\\/\\/\\/\\/\\/\\/\\/\\/\\/\\/\\/\\/\\/\\/\\/\\/\\/\\/\\/\\/\\/\\/\\/\\/\\/\\/\\/\\/\\/\\/\\/\\/\\/\\/\\/\\/\\/\\/\\/\\/\\/\\/\\\n",
      "/\\/\\/\\/\\/\\/\\/\\/\\/\\/\\/\\/\\/\\/\\/\\/\\/\\/\\/\\/\\/\\/\\/\\/\\/\\/\\/\\/\\/\\/\\/\\/\\/\\/\\/\\/\\/\\/\\/\\/\\/\\/\\/\\/\\/\\/\\/\\/\\/\\/\\\n",
      "Rank: 149\n",
      "docID: 6929\n",
      "Title: توضیحات یک منبع آگاه درباره وقفه مذاکرات وین\n",
      "URL: https://www.farsnews.ir/news/14001222000450/توضیحات-یک-منبع-آگاه-درباره-وقفه-مذاکرات-وین\n",
      "\n",
      "به گزارش خبرنگار سیاسی خبرگزاری فارس، به نظر می‌رسد مذاکرات وین به روزهای آخر خود نزدیک شده است و براساس اعلام برخی منابع تا رسیدن به توافق راه زیادی باقی نمانده و تنها نیاز است آمریکا به آنچه در برجام برای برداشتن تحریم‌ها وعده داده  عمل کند و تضمین معتبری هم برای انجام این تعهدات داده شود. براساس اعلام مسئولان سیاست خارجه در کنار دریافت تضمین‌ معتبر، برداشتن همه تحریم‌ها از نکات و مطالبات اصلی ایران در مذاکرات است. اما به نظر می‌رسد آمریکا در مقابل عمل به این تعهد برجامی مقاومت می‌کند. * تحریم‌های آمریکا علیه ایران آمریکا پس از تسخیر لانه‌ جاسوسی آمریکا در تهران، «کارتر» در تاریخ 8 نوامبر 1979م. با استناد به قانون‌ «کنترل صدور تسلیحات نظامی»، کشتی حامل‌ لوازم یدکی نظامی متعلق به ایران را توقیف کرد. ارزش این لوازم 300 میلیون دلار بود. با اوج‌گیری کشمکش‌های سیاسی بر سر مسئله‌ تصرف سفارت، دولت موقت، اعلام کرد تمام دارایی‌های‌ خود را از بانک‌های آمریکا خارج خواهد کرد. کارتر با لحاظ این احتمال، در کشور شرایط اضطراری اعلام کرد و با استناد به قانون شرایط اضطراری اقتصاد بین‌الملل (IEEPA) و قانون‌ شرایط اضطراری ملی (NEA)، با صدور دستور ویژه‌ی شماره‌ی (12170)، تمام دارایی‌های ایران در آمریکا را به تصرف خود درآورد.   مجموع پس‌اندازها و اوراق بهادار بلوکه شده‌ی ایران بالغ بر 12 میلیارد دلار بود. حدود 1.4میلیارد دلار در بانک «فدرال رزرو» آمریکا، 5.6میلیارد دلار در شعب مختلف بانک‌های این کشور‌ در خارج از آمریکا، 2 میلیارد دلار در سایر بانک‌های آمریکا و حدود 2 میلیارد دلار در اختیار شهروندان و مؤسسه‌های خصوصی ایالات متحده بود. همچنین 1.6میلیون اونس طلا به حساب بانک‌ مرکزی ایران در بانک «فدرال رزرو» نگاه داشته‌ می‌شد. در تاریخ 7 آوریل 1980م. کارتر با صدور دستور ویژه‌ شماره‌ (12205)، فروش و عرضه‌ هرگونه کالا و خدمات، به‌جز مواد غذایی و دارویی، به ایران را ممنوع کرد. براساس دستور ویژه‌ی (12211) به تاریخ 17 آوریل 1980م.، وارد نمودن هرگونه کالا از ایران‌ نیز ممنوع شد. این دستورات هم با استناد به‌ قانون (IEEPA) صادر شد. پس از پایان داستان‌ گروگان‌گیری در روزهای پایانی ریاست‌جمهوری‌ کارتر، وی با صدور 10 دستور ویژه، تمام‌ تحریم‌ها برضد ایران را لغو کرد، اما دولت بعدی‌ (ریگان) در عمل فقط ممنوعیت مربوط به‌ صادرات و واردات را اجرا نمود و به بهانه‌های‌ مختلف، از آزاد کردن اموال ایران طفره رفت. آمریکا از سال 1983م. تحریمی یک جانبه موسوم به عملیات «استانج» را برضد ایران آغاز کرد.   در این راستا ایالات متحده با 20کشور درباره‌ی ارسال نکردن سلاح به ایران وارد مذاکره شد تا آن‌ها را مجاب کند که سلاح به ایران نفروشند. این تحریم در شرایط درگیری ایران در جنگ تحمیلی با هدف حمایت از عراق بعثی در برابر ایران اسلامی بود.    در ادامه‌ تحریم‌های اعمال شده از سوی آمریکا، بار دیگر در سال 1984م. آمریکا صادرات برخی از مواد شیمیایی را به ایران ممنوع کرد. ممنوعیت برخی از مواد شیمیایی بعد از ماجرای ایران-کنترا در سال 1987م. به 150 نوع کالا که دارای کاربرد نظامی نیز بودند، گسترش یافت. همچنین در تاریخ 6 نوامبر سال‌ 1987م. نمایندگان کنگره در واکنش به خریدهای‌ نفت اداره‌ی انرژی آمریکا از ایران، لایحه‌ای به‌ مجلس برده و با تصویب آن واردات نفت از ایران‌ را ممنوع کردند.   ریگان که نمی‌خواست کمتر از کنگره ضدتروریست جلوه کند، 3هفته بعد با صدور دستور ویژه‌ی (12613) ورود هرگونه کالا و خدمات از ایران را ممنوع کرد. وی برای صدور این دستور به بند 505 «قانون همکاری‌های‌ بین‌المللی امنیتی و توسعه»، مصوب سال‌ 1985م. استناد کرد. در واقع زمانی که ایران درگیر جنگ تحمیلی بود، ایالات متحده به تعریف سیاست‌های تحریمی پرداخت که بتواند بر نتیجه‌ی جنگ ایران و عراق تأثیری شگرف بگذارد و رقیب نوپای اسلامی خود را در جنگی نابرابر از میدان به در کند. اما پایان جنگ، تافته‌ی بافته‌ی آمریکا را ریش ریش کرد. * پایان جنگ، تداوم تحریم با پذیرش قطعنامه‌ی (598) توسط ایران، جنگ تحمیلی، رسمی و فیزیکی برضد جمهوری اسلامی پایان یافت، اما حربه‌ی نرم، جایگزین حربه‌ی سخت جنگ شد. به موازات تحریم‌های قبلی، سیاست اعمال فشار و تحریم برضد ایران تداوم یافت. با آغاز ریاست جمهوری «بیل کلینتون» در سال 1992م. روابط ایران و آمریکا وارد مرحله‌ی تازه‌ای شد. استراتژی جدید آمریکا درباره‌ی ایران و عراق «سیاست مهاردوگانه» بود.   براساس این سیاست، آمریکا در نخستین گام، محدودیت‌هایی برای خرید نظامی ایران، ممنوعیت کمک و تخصیص اعتبار، کنترل صادرات و واردات، جلوگیری از اعطای وام از سوی بانک جهانی و صندوق بین‌المللی پول و ادامه‌ی توقیف اموال ایران اعمال کرد. کلینتون در اسفند ماه 1373 فرمان اجرایی شماره‌ی (12957) مبنی بر ممنوعیت برخی معاملات مربوط به توسعه‌ی منابع نفتی ایران را امضا نمود.   بدین ترتیب شرکت‌های آمریکایی از سرمایه‌گذاری در بخش نفت و گاز ایران منع شدند. رئیس جمهور آمریکا بار دیگر در اردیبهشت 1374 طی فرمان شماره‌ی (12959) تحریم‌های جدیدی را برضد ایران اعمال کرد. بر این اساس شرکت‌های آمریکایی از خرید نفت از ایران منع شدند. در این دوران آمریکا سیاست‌های ضد ایرانی خود را ادامه داد به گونه‌ای که در مرداد 1375 قانون مجازات‌ها برضد ایران و لیبی در کنگره تصویب شد.   طبق این قانون که به «داماتو» معروف شد، شرکت‌های غیرآمریکایی که در بخش نفت و گاز لیبی و ایران سرمایه‌گذاری کنند، مجازات خواهند شد. بنابراین علاوه بر شرکت‌های آمریکایی، تمامی شرکت‌های خارجی دیگر از سرمایه‌گذاری بیش از 20 میلیون دلار در ایران منع شدند. * 11 سپتامبر، موج جدید تحریمها همچنان در دوره‌های بعدی نیز تحریم‌ها برضد ایران توسط رؤسای جمهور آمریکا تمدید می‌شد. با این حال به دنبال رویداد 11 سپتامبر 2001م. «جورج بوش»، رئیس‌جمهور وقت آمریکا قانونی را تصویب کرد که اجازه‌ی بلوکه‌ی اموال و دارایی‌های اشخاص حقوقی و حقیقی حامی تروریسم را ارائه می‌کرد. چندی بعد شماری از اشخاص حقیقی و حقوقی در ایران نیز در فهرست تحریم‌ها قرار گرفتند. به طوری که برخی بانک‌ها مانند بانک سپه و ملی، مقاطعه‌کاران در صنعت دفاعی و شرکت‌های سپاه پاسداران به همراه مقام‌های سپاه و نیروی قدس در فهرست تحریم‌ها قرار گرفتند. در راستای سیاست‌های آمریکا در ژوئن 2008م. اتحادیه‌ی اروپا دارایی بیش از 40 شخص حقیقی و حقوقی که با بانک ملی ایران همکاری داشتند را مسدود کرد. ژاپن و اتحادیه‌ی اروپا همچنین محدودیت‌هایی را در جهت اعطای وام به ایران اعمال کردند. همچنین در جولای 2010م.، «اوباما» تحریم شرکت‌های داخلی و خارجی که به ایران بنزین می‌فروشند یا به ارتقای ظرفیت پالایشگاهی جمهوری اسلامی کمک می‌کنند را تصویب کرد.  * تحریم‌های هسته‌ای پس از 11 سپتامبر و موج جدیدی از تحریم‌ها برضد ایران، ترسیم چهره‌ی «ایران هسته‌ای» در صدر تبلیغات منفی از جمهوری اسلامی قرار گرفت. به دنبال این امر کشورهای غربی در صدد اعمال تحریم‌های گوناگون اقتصادی و تکنولوژیکی برضد ایران برآمدند و با طرح فعالیت‌های هسته‌ای ایران در شورای امنیت به مخاصمه با این کشور پرداختند. در این راستا ایالات متحده پس از 11 سپتامبر 2001م.، جمهوری اسلامی ایران را کشوری در پی «دستیابی به سلاح‌های کشتار جمعی و بر هم زننده‌ی صلح و ثبات بین‌المللی» معرفی کرد و تمام تلاش خود را جهت ناکامی ایران در اجرای فعالیت‌های هسته‌ای و ارجاع پرونده‌ی ایران به شورای امنیت به کار گرفت. قطعنامه‌ی (1737) که در 23 دسامبر 2006م. به تصویب اعضای شورای امنیت رسید، در عمل ایران را به فصل7 و ماده‌ی 41 منشور ملل متحد کشاند. این قطعنامه دارایی‌های برخی مؤسسه‌ها و افراد مرتبط با برنامه‌های هسته‌ای ایران در خارج از کشور را مسدود نمود. همچنین در این قطعنامه ذکر شده بود که در صورت بی‌اعتنایی مجدد ایران به قطعنامه‌ی یاد شده و متوقف نشدن فعالیت‌های هسته‌ای در مدت زمان مقرر (60 روزه) از سوی شورای امنیت، تهران با تحریم‌های سخت‌تری مواجه خواهد شد.  اگر چه قطعنامه‌ی یاد شده لحنی تند داشت و ضرب‌الاجلی 2 ماهه برای ایران تعیین کرده بود، با این حال جمهوری اسلامی ایران ضمن رد و غیرعادلانه خواندن قطعنامه و انتقاد از برخورد دوگانه‌ی شورای امنیت، مصرانه بر ادامه‌ی فعالیت‌های صلح‌آمیز خود جهت دستیابی به فن‌آوری هسته‌ای پای فشرد. بدین ترتیب پس از پایان مهلت 2ماهه، شورای امنیت و اعتنا نکردن ایران به قطعنامه‌ی یاد شده، قطعنامه‌ی سوم شورای امنیت پس از حدود یک ماه رایزنی در 24 مارس 2007م. به تصویب رسید.   قطعنامه‌ی (1747) ضمن مسدود نمودن دارائی‌های 28 فرد و نهاد ایرانی مرتبط با برنامه‌های هسته‌ای ایران و جلوگیری از صادرات تسلیحاتی ایران، تحریم‌های تنبیهی جدیدی را نیز برضد تهران وضع کرد و یک بار دیگر از ایران خواست که طی 60 روز آینده فعالیت‌های هسته‌ای خود را به حالت تعلیق درآورد. در تیرماه 1387 چهار گروه صنعتی ایران شامل مجموعه‌ی صنایع شهید ستاری، هفت تیر، گروه صنایع مهمات و متالورژی و صنایع شیمی پارچین مشمول تحریم‌های آمریکا شدند. وزارت خزانه‌داری ایالات متحده در آذر 1389 اعلام کرد که شرکت‌ها و بانک‌های نفت و گاز پارس، بیمه‌ی معلم، بانک مهر، بانک انصار، شرکت کشتیرانی لاینر ترانسپورت کیش و بنیاد تعاون سپاه را به فهرست سیاه تحریمی خود می‌افزاید. در بهمن 1389 (اوایل سال 2011م.)، وزارت خزانه‌داری آمریکا، تحریم‌های جدیدی را برضد بانک رفاه ایران تحمیل کرد.افزون بر این‌ها، قانون تحریم همه ‌جانبه‌ی ایران در سال 1389 به تصویب کنگره‌ی این کشور رسید. این تحریم‌ها رئیس‌جمهور آمریکا را قادر می‌سازد تا شرکت‌های خارجی که به ایران بنزین و دیگر فرآورده‌های نفتی پالایش شده را صادر می‌کنند، مجازات کند. * تحریم‌های اروپا برضد ایران همراهی اروپا با غرب در اعمال فشار بر جمهوری اسلامی در سال‌های اخیر قابل توجه است. به موازات تحریم‌های تعریف شده‌ی آمریکا برضد ایران، اروپا نیز از این دور عقب نمانده است. دولت انگلیس در ژوئن 2008م. اعلام کرد که در ادامه‌ی سیاست تحریم برضد ایران، دارایی‌های بزرگ‌ترین بانک ایران، یعنی بانک ملی را ضبط و تحریم می‌کند. بانک «بارکلیز» یکی از بزرگ‌ترین بانک‌های انگلستان، حساب‌های ایرانیان از جمله بانک صادرات و بانک ملی ایران را مسدود کرده است. اوایل سال 2008م. برخی از دانشگاه‌های هلند، بر طبق بخشنامه‌های وزارتخانه‌های کشوری، از پذیرش دانشجویان ایرانی به دلیل آنچه مسائل مربوط به فن‌آوری هسته‌ای خواندند؛ ممانعت کردند.   همچنین بانک‌های«لامبرت بروکسل» بلژیک و بانک «دویچ» آلمان معاملات ارزی با ایران را در سال 2008م. قطع کردند. در آوریل 2008م.، سوئیس دارایی‌های 12 شرکت ایرانی را به بهانه‌ی دستورهای تحریمی شورای امنیت سازمان ملل برضد ایران، ضبط و مصادره نمود. اتحادیه‌ی اروپا 180 شرکت تجاری و شخص ایرانی را مشمول تحریم‌های جدید بخش ترابری و انرژی کرد. شرکت‌هایی در این خصوص به فهرست تحریم‌شدگان پرونده‌ی اتمی ایران پیوستند که با شرکت‌های کشتیرانی و سپاه پاسداران انقلاب اسلامی ایران ارتباط دارند. آخرین و جدیدترین تحریم نیز، ممنوعیت خرید نفت ایران است که از اواخر بهار 1391 اعمال شده است. بر این اساس کشورهای اروپایی از خرید نفت ایران ممنوع شدند و دیگر کشورها را نیز برای کاستن از خرید نفت ایران، تحت فشار قرار می‌دهند. بدین ترتیب آمریکا و متحدانش در طول 33 سال گذشته، بارها با انواع تحریم‌ها تلاش کرده‌اند تا جمهوری اسلامی ایران را از دستیابی به اهداف سیاسی خود بازداشته و در راستای اهداف سیاسی خود آن را به راه آورده و به تغییر رابطه با غرب وادارند.  همانطور که گفته شد تحریم به مسائل هسته ای محدود نمی شود و امری باسابقه است و از ابتدای انقلاب وجود داشته است.  بنابراین همان‌طوری که مقام معظم رهبری نیز بارها تأکید فرموده‌اند، وضع تحریم علیه جمهوری اسلامی بیش از آنکه به مسائل هسته‌ای ارتباط پیدا کند، به تخاصم استکبار جهانی با انقلاب اسلامی بازمی‌گردد. حضرت آیت‌الله خامنه ای سرافرازی، روحیه استقلال طلبی، عدم تسلیم ملت ایران و اسلام خواهی را عمده دلیل مخالفت و دشمنی غربی ها با ملت ایران عنوان نمودند. * مقاومت غرب و آمریکا برای عمل به تعهدات خود لغو تحریم‌های ظالمانه آمریکا و غرب علیه ایران، از مطالبات اصلی و مهم مردم و تیم مذاکره کننده در مذاکرات وین است، اما به نظر می‌رسد آمریکا و غرب تلاش دارند بدون لغو این تحریم‌ها به توافق دست یابند.  یک منبع آگاه در باره این موضوع  و همچنین درباره وقفه ایجاد شده در مذاکرات وین به خبرنگار فارس گفت: غرب و امریکا همچنان در مقابل برداشتن همه تحریم‌ها مقاومت می‌کنند و با خواسته ایران در این باره تا این زمان موافقت نکرده اند. وی افزود: طرف مقابل در مذاکرات هسته‌ای درگذشته با برداشتن تعدادی از تحریم ها موافقت کرده، اما برخی از تحریم‌های اصلی همچنان باقی است. انتهای پیام/91\n",
      "\n",
      "\n",
      "\n",
      "/\\/\\/\\/\\/\\/\\/\\/\\/\\/\\/\\/\\/\\/\\/\\/\\/\\/\\/\\/\\/\\/\\/\\/\\/\\/\\/\\/\\/\\/\\/\\/\\/\\/\\/\\/\\/\\/\\/\\/\\/\\/\\/\\/\\/\\/\\/\\/\\/\\/\\\n",
      "/\\/\\/\\/\\/\\/\\/\\/\\/\\/\\/\\/\\/\\/\\/\\/\\/\\/\\/\\/\\/\\/\\/\\/\\/\\/\\/\\/\\/\\/\\/\\/\\/\\/\\/\\/\\/\\/\\/\\/\\/\\/\\/\\/\\/\\/\\/\\/\\/\\/\\\n",
      "Rank: 107\n",
      "docID: 11864\n",
      "Title: اهرم‌سازی از افغانستان در برجام/ نقطه عزیمت آمریکا در مذاکرات جامع با ایران چیست؟\n",
      "URL: https://www.farsnews.ir/news/14000803000676/اهرم‌سازی-از-افغانستان-در-برجام-نقطه-عزیمت-آمریکا-در-مذاکرات-جامع-با\n",
      "\n",
      "خبرگزاری فارس؛ محسن صمیمی، مرتضی علیزاده: یکی ـ دو ماه پایانی دولت روحانی، اروپا و آمریکا تقریبا از ادامه مذاکرات وین دست کشیدند و منتظر ماندند تا دولت سیّد ابراهیم رئیسی کار خود را آغاز کند. آنها می دانستند که رویکرد سیاست خارجی دولت جدید تفاوت فاحشی با رویکرد دولت قبل دارد و نمی توان با دست فرمان سابق با ایران تعامل و یا به عبارتی منازعه دیپلماتیک کرد.  دولت جدید که روی کار آمد رسما گفت که پیش شرط ورود ایران به مذاکرات، انجام تعهدات برجامی آمریکاست و به عبارتی باید تحریم ها لغو شوند. آمریکایی ها هم به صراحت گفتند که خبری از لغو تحریم نیست. در این میان آژانس بین المللی انرژی اتمی با مدیریت رافائل گروسی نقش فعالی را ایفا می کند و سفرهایی را به ایران ترتیب داده است. اروپا نیز نماینده خود را به ایران فرستاد و کنش‌های سیاسی و دیپلماتیک در جریان است. با این حال به نظر می‌رسد پرونده برجام پیچیده‌تر شده و نمی‌توان آن را تک‌مولفه‌ای دید. از این روست که در گفت‌وگویی با ابوالفضل ظهره‌وند سفیر اسبق ایران در ایتالیا و افغانستان به بررسی ابعاد مذاکرات احتمالی برجامی در آینده و مواضع مقامات دو طرف پرداخته است. متن کامل این گفت‌وگو به شرح ذیل است:       ** تحریم هیچ‌گاه نمی تواند لغو شود  علت پافشاری آمریکا و سه کشور اروپایی برای این که مذاکرات هسته‌ای دقیقاً از انتهای دوره ششم ادامه یابد چیست؟ این نشان می دهد که علیرغم اینکه ادعا می کنند زمان کم است تاکنون منفعتی برده‌اند. ظهره‌وند: به اعتقاد من موضع کنونی آمریکایی‌ها در پی تکمیل پروژه قبلی خودشان است. برجام یک توافق نبود. برجام یک پروژه بود که با دولت قبل بستند. چهار مرحله برجام یک، دو، سه و چهار هم داشت و قرار بود هر مرحله که تکمیل می‌شود وارد فاز بعدی شویم. به‌همین خاطر هم هست که می‌بینیم آمریکایی‌ها بعد از توافق برجام حدود ۱۵۰۰ تحریم جدید را برای ایران وضع کردند. نیمی از آن تحریم‌ها مربوط به دوره اوباما و نیمی نیز مربوط به دوره ترامپ است. ضمن اینکه فراموش نکنیم بخش مهمی از وزارت خزانه داری آمریکا اساساً بر پایه تحریم ایران شکل گرفته و این مهندسی که اتفاق افتاده نمی تواند متوقف شود و تحریم هیچ گاه نمی تواند لغو شود و یا باید تحریم‌ها کلاً اسقاط شود که این به طرز عمل ما برمی‌گردد و یا باید مدیریت شویم و این منظومه تحریمی را تکمیل کنیم. نقطه عزیمت در پروژه برجام که شامل مذاکرات جامع می‌شود، تغییر رژیم و تغییر نُرم در ساختار سیاسی ایران است. این پروژه ای بود که اروپایی‌ها آمریکایی ها را متقاعد به آن کردند چون قبلاً آمریکایی‌ها معتقد بودند که ما باید با برخورد سخت و نظامی رژیم ایران را تغییر دهیم، ولی بعدها متقاعد شدند که می توانند با تقسیم کار به جایی برسند که رفتار ما را در حوزه سیاست خارجی و محیط داخلی تغییر بدهند، چون تغییر رفتار تغییر رویکرد را سبب می شود. این یعنی دور کردن ما از رویکرد های انقلابی و ایجاد یک زیستار و پارادایم جدید در نظام سیاسی ایران و بین الملل. ** آمریکا به دنبال افزایش اثربخشی تحریم‌هاست آمریکایی ها برای اینکه بتوانند ایران را مهار کنند و تغییر بدهند هیچ انگیزه‌ای ندارند که حتی آن بخشی از تحریم های مرتبط به هسته ای در دوره ترامپ را هم لغو کنند. مثل تخفیفی که در حوزه فروش نفت می دادند که هم آقای اوباما هر شش ماه یکبار امضا می‌کرد و دو یا سه مرحله هم ترامپ آن را امضا کرد. فکر می‌کنند که باید اثربخشی تحریم‌ها افزایش پیدا کند. برای این کار تقسیم کار بین آمریکا و اروپا وجود دارد و الان هم تقسیم کاری بین رژیم صهیونیستی و آمریکایی ها و آژانس اتفاق افتاده است. تهدید به حمله حرفی بی ربط و مزخرف است و خودشان هم می‌دانند که نیازی به استفاده از سلاح هسته ای نیست و سلاح‌های متعارف هم می تواند رژیم صهیونیستی را از صفحه پاک کند.       عمق استراتژیک رژیم صهیونیستی ۵۰ کیلومتر است و جای فرار ندارد و کافی است که یک موشک به دیمونا بخورد تا چیزی از آنان باقی نماند. با این تهدیدات پروژه چماق و هویج را اجرا می کنند و تهدیدانگاری ایران جزو دستور کار آنان است، چون ایران اساساً به دلیل ذات نظام سیاسی اش نه تنها با سلاح‌های کشتار جمعی نسبتی ندارد، بلکه اتفاقاً اگر در این حوزه بتوانیم دیپلماسی هسته ای خود را در حوزه مسائل سلاح‌های استراتژیکی حل کنیم و به نقطه ای برسانیم که می‌خواستیم در هسته‌ای هم به آن برسانیم، باید نظام بین الملل عاری از سلاح هسته ای باشد چون دیگر کار بستی ندارد.  الان و به همین خاطر می‌بینیم این کشورها اکنون روی سلاح‌های بیولوژیک متمرکز می شوند، چون سلاح بیولوژیک ظرفیت‌های سخت را حفظ می کند و فقط می تواند در محیط اجتماعی تغییرات به وجود بیاورد. ما با همین هم مخالف هستیم و هم سلاح بیولوژیک و هم سلاح‌های شیمیایی جزو سلاح‌های ممنوعه ماست و ما جزو اولین کشورهایی بودیم که کنوانسیون منع به کارگیری سلاح‌های شیمیایی را امضا کردیم علیرغم اینکه ما بزرگترین قربانی سلاح‌های شیمیایی بعد از جنگ جهانی دوم بودیم.  ** آمریکا در انفعال است و مسئله هسته‌ای اولویتش نیست اینها نشان می‌دهد که آموزه های انقلابی و مذهبی و منظومه معرفتی ما اساساً نسبتی با سلاح‌های کشتار جمعی ندارد چون مخاطب ما عام است و ظرفیت های‌مان ظرفیت‌های عام هست و ما امروز حتی بین یهودی‌های دنیا هم مخاطب داریم و یهودی هایی هم که ضد صهیونیسم هستند کلام و دعوت ما را می‌فهمند و ایران پرچمدار دین دعوت است. به اعتقاد من آمریکایی‌ها الان در موضع انفعال هستند و مسئله هسته‌ای اولویت آنها نیست. ضمن اینکه این امتیاز را باید در جیب شان داشته باشند. مسئله آمریکایی‌ها موقعیت منطقه‌ای‌شان است. هم زمان با موضوع برجام هسته ای به دنبال این بودند که در موضوع نفوذ و حضور منطقه ای هم کار کنند و توان موشکی نیز به نوعی با مسئله منطقه ای مرتبط می شود.  ظرفیت‌های ملی ما که جنبه بازدارندگی در حوزه تهدیدات سخت و نرم و هم جنبه حفظ استقلال استراتژیکی دارد، در یک معادله تعریف می‌شوند. وقتی از منطقه صحبت می‌کنیم، مفهومش این است که ما امروز توانسته ایم به هم‌راستایی در تهدید و فرصت با کشورهای پیرامونی برسیم و این به معنای توسعه اراده استراتژیک ما و مشارکت کشورهای همسو با ما در این موضوع است. آنها هم به دنبال حفظ استقلال استراتژیک و اراده استراتژیک هستند و این برای منافع نامشروع غرب خطر است.  آقای کرزای صراحتاً گفت که آمریکایی‌ها به من گفتند مسئله ما با ایران مسئله هسته‌ای نیست بلکه تعارض جوهری داریم و باید ایران را تسلیم و استحاله کنیم. البته این امکان پذیر نیست چون ایران، ایران گذشته نیست و آمریکا هم  دیگر همان امریکای سابق نیست و ضعیف‌تر شده است ولی با این حال باید در جنبه بازدارندگی مسئله را مورد بررسی قرار داد. ** روحانی روسیاه از صحنه کنار رفت رسانه های اصلاح طلب به‌طور فزاینده‌ای بر ضرورت بازگشت به برجام و تشویق دو طرف به توافق تاکید می کنند. به نظر شما این بدون در نظر گرفتن بدعهدی طرف غربی و عدم لغو تحریم ها چه معنایی می تواند بدهد؟  ظهره وند: مشکل جریان اصلاح طلب این است که پروژه ای را کلید زده که امروز مسئولیت تاریخی و سیاسی پیدا کرده است. مسیر تعامل این‌گونه با غرب را که مفهوم آن این بود که ظرفیت‌هایمان را می‌دهیم تا در مقابلش امتیازی نسیه بگیریم در پیش گرفتند و در همین هم به بن بست خوردند.  برای اینکه بتوانند به گونه ای که این مسئله را لاپوشانی کنند و از زیر بار این اتهام تاریخی خارج شوند، این مسائل را مطرح می کنند و نکته دوم هم این که امیدشان این هست که ما مسیر گذشته را برویم. چون در مسیر گذشته اگر کوچکترین دستاوردی به دست می آوردند وضع خیلی فرق می‌کرد ولی شاهد بودیم که آقای روحانی روسیاه از صحنه کنار رفت. الان آقای ظریف می گوید که من در برجام اساساً کلمه تعلیق ندیده بودم و الان می بینیم که اصلاً چیزی به نام لغو ندیده است.  اینهایی که می‌گفتند دیپلماسی و مذاکره بلد بودیم تبدیل به عناصری شدند که به امنیت ملی خیانت کردند. اینها باید امروز بگویند که نوع نگاه شان به منافع ملی کشور مشکل داشته و از درون این نگاه مشکل‌دار، خدشه به منافع ملی بیرون آمد. خود آقای ظریف هم می‌گفت که ما باید به یک عضو هنجار تبدیل شویم. اینکه می خواستند ایران را هنجارسازی کنند، یعنی از هنجارهای خود دست بردارد و هنجارهای آمره را که موید هویت غربی و سازگار با منافع سازی غربی هست بپذیرد. سند ۲۰۳۰ یکی از این مثال هاست. ۸ سال مسیری رفتند که امروز کشور را ویران کرده و یک سرزمین سوخته را تحویل آقای رئیسی داده اند و باید پاسخگوی این وضعیت باشند. دلار ۱۲۰۰ تومان و ۳۰۰۰ تومان به ۲۷۰۰۰ تومان رسیده است و چگونه می‌خواهند این را به مردم پاسخ دهند. اگر اصلاحات به این معنا باشد که هویت ملی را زیر پا بگذاریم و هنجارهای دینی و ملی را نادیده بگیریم و اجازه بدهیم که دشمن زیر پوستمان برود به معنای براندازی هست. امروز بسیاری از کسانی که در بدنه اصلاحات هستند تفکر براندازی را نداشتند ولی فریب خوردند. معتقدم کسانی که فریب دادند و این جریان را در کشور به وجود آوردند باید پاسخگو باشند و متاسفانه این پاسخگویی در کشور ما نیست و باید این را حل و فصل کنیم.  به اعتقاد من آمریکایی‌ها به هیچ عنوان الان متمایل به دادن هیچ گونه امتیازی نیستند چون می گویند اگر امتیازی داده ایم فرجام کار مشخص نیست. یک بازی اخیراً شروع شده و آقای ویلیام برنز اخیراً گفته ما خوشبین هستیم و برجام هنوز امکان ادامه دارد. تقریباً همه مقامات آمریکایی الان حرفی از توقف برجام نمی زنند علی‌رغم این که مقامات ایرانی تاکید دارند که پیش زمینه ادامه مذاکرات لغو تحریم‌هاست. به این اشاره داشتید که آمریکایی‌ها قصد لغو تحریم ندارند. ازسویی نیز ایران چالش سختی پیش روی آن قرار داده و می‌گوید باید تحریم‌ها لغو شود تا مذاکره کنیم. این تقابل چگونه حل شدنی است؟  ظهره وند: حل مسئله احیای برجام ربطی به ما ندارد چون ما وظایفی را که متعهد شدیم و برخلاف منافع ملی مان هم بود را انجام داده ایم و امروز طرف مقابل هست که باید به تعهدات زمین مانده‌اش عمل کند. پس اگر آن ها عنوان می‌کنند که برجام برای غرب آورده امنیتی داشته که من با این حرف موافق نیستم، چون ایران تهدید هسته‌ای نبوده و ایران را یک تهدید معتبر کرده‌اند، در این صورت نیز باید هزینه آن را بدهند. در این مورد مبنا موضع مقام معظم رهبری هست که به لغو تمامی تحریم‌ها تاکید داشتند. اروپایی‌ها و آمریکایی‌ها تحریم‌ها را لغو می‌کنند و ما به تعهداتی که قبلاً داده ایم برمی گردیم ولی این‌ها قصد لغو تحریم ندارند.         ویلیام برنز رئیس CIA به تحولات افغانستان امیدوار است. تصورش این است که می‌تواند شرایطی را طی ماه های آینده به منطقه و ایران تحمیل کند که ایران از سر ناچاری مجبور شود در زمین بازی برجام دوباره امتیاز بدهد و از این طریق فشاری روی ایران بیاورد و امتیاز بگیرد. این از خواب هایی است که تعبیر ناشدنی است و آنها فکر می کنند که مشکلات اقتصادی، ایران را وادار می کند که سر میز مذاکره برود. آنها مذاکرات را هم جامع می‌بینند چون مسئله برجام یک پروژه بود که بخشی از آن امروز در افغانستان سناریو چینی می‌شود. ** آمریکا به دنبال تغییر ژوپلیتیک منطقه است این مسئله را مقداری تشریح می‌کنید؟ پروژه برجام چه ارتباطی می تواند با پروژه‌های منطقه ای آمریکا داشت باشد؟ ظهره‌وند: اکنون لبنان با مشکل اقتصادی مواجه هست و از مقاومت نیز متاثر بوده و در برابر غربی‌ها مقاومت کرده‌اند و غربی‌ها نیز زیر میز زده اند و اتفاقاتی را هم در بندر بیروت به وجود آوردند و به همین دلایل فشارها روی این کشور زیاد است. همچنین عناصر وابسته به غرب هم مثل آن قاضی که به جای برخورد حقوقی شروع به چالش سیاسی کرده را  شاهد هستیم. بنابراین لبنان را همینطور ملتهب نگه می‌دارند. همچنین مسئله بازسازی سوریه و گرفتاری هایش وجود دارد و عراق نیز به همین ترتیب دچار مشکل است و ایران هم دچار تحریم است. در افغانستان نیز راهبرد را عوض کردند و از فاز نظامی- سیاسی وارد فاز امنیتی شدند. همچنین فروپاشی نظام سیاسی و اجتماعی را پیگیری کردند و اکنون دنبال فروپاشی نظام اقتصادی هم هستند. اگر بتوانند این سه را با هم همسو کنند و فروپاشی اقتصادی را هم به وجود بیاورند، شرایط را در افغانستان بگونه‌ای پیچیده می‌کنند که نوعی آنارشی در کل منطقه با رویکرد تغییر در نقش ژئوپلیتیک به وجود بیاید. در همین راستا ممکن است اتفاقاتی در پاکستان رخ دهد. همین اتفاقاتی که از طرف ترکیه و آذربایجان شکل می گیرد در همین راستا هست؟ ظهره وند: در آذربایجان هم این فضا را به وجود می آورند. ایران کشوری مادر است و عمق استراتژیک آن در محیط پیرامونی خودش و وسیع‌تر از جغرافیای طبیعی اش هست و امروز مردم منطقه متوجه ظرفیت ها و موقعیت ایران و هم‌راستایی در تهدید و فرصت با ایران هستند. این هم‌راستایی به یک تهدید معتبر علیه غرب تبدیل شده و آمریکایی ها اگر نتوانند ایران و چین را در افغانستان متوقف کنند دیگر نمی توانند در محیط داخلی خودشان هم منسجم شوند. افغانستان یک آوردگاه نهایی برای ایران، آمریکا و چین است و افغانستان را برای اهداف شوم خودشان در منطقه قربانی و تباه کردند. بحث من داعش و طالبان نیست بلکه مسئله آمریکا و سرویس جاسوسی آن و آقای ویلیام برنز هست که در منطقه این کار را انجام می دهد. آقای «زلمای خلیل زاد» با آقای اشرف غنی یک پروژه را اجرا کردند. هرچند خود خلیل‌زاد هم به آمریکایی‌ها به خاطر شوونیسم پشتویی‌اش خیانت کرد و آمریکایی‌ها را در مهلکه انداخت. آمریکایی ها در افغانستان وضع خرابی دارند. تنها کارشان این بوده که نمی خواهند پول های مردم را بدهند و مردم را در محل انداخته اند اما اگر هوشمندانه کار شود آمریکایی‌ها باید بساطشان را از منطقه جمع کنند.  ** آمریکا می‌خواهد برجام را زنده نگه دارد شاهد هستیم که مقامات اروپایی و آمریکایی و رافائل گروسی مدیر کل آژانس بین المللی انرژی اتمی فضای مثبتی از مذاکرات و برجام ارائه می دهند. آیا به نظر شما به موازات کار سیاسی یک کار رسانه‌ای انجام می‌دهند به این صورت که خود را موافق ادامه برجام نشان دهند و ایران را از این جنبش در انزوای رسانه قرار دهند؟ ظهره وند: می‌خواهند به ایران فشار وارد کنند و در افکار عمومی نشان دهند که برجام حالت احتضار و مرده ندارد چون اگر پروژه برجام فقط در توافق برجام خلاصه شود مرگ آن است. برجام باید در چارچوب پروژه باشد و این پروژه را احیا نگه می‌دارند.  ** آمریکا نیازمند یک دستاورد برای حفظ فضای مذاکراتی با ایران است یعنی صبر می کنند که پروژه هایی که به آن اشاره کردید به نتیجه برسد.  ظهره وند: الان نیازمند یک دستاورد هستند تا فضای مذاکراتی بین خودشان و ایران را حفظ کنند چون آنها مسئول احیای این مرده در آغوششان هستند و جنازه برجام بر دوش ایران نیست و ما کاری که نباید می کردیم را کرده‌ایم. ما الان دنبال چک‌برگشتی مان هستیم و می گوییم که چک برجام برگشت خورده و اگر قرار است آمریکایی‌ها سر میز بنشینند، باید چک برگشتی را پر کنند و تضمین هم بدهند که دیگر بازی گذشته را تکرار نمی‌کنند. اینکه می‌گویم باید این چک نقد شود و باید تعهداتشان آزمایش شود و بعدا ما وارد شویم به همین خاطر است. اما آمریکایی‌ها می‌گویند ایران به تعهدات خود برگردد تا ما سریع وارد شویم، در حالی که ما علاقه نداریم آنها وارد برجام شوند، چون ما الان ۱۵۰۰ تحریم اضافه داریم به علاوه این که آب سنگین و نیروگاه اراک و سانتریفیوژهای فردو را از دست داده ایم و ۱۱تن اورانیوم خود را از بین برده ایم و کل نیروی ما اینجا ضربه خورده و باید هزینه‌های ما را جبران کنند.  ** آمریکا به دنبال اهرم‌سازی برای وادار کردن ایران به مذاکره‌ است این اتفاقات نیفتاده و حاضر هم نیستند بیفتد و تا اینجا هم که آمده اند می خواهند موقعیت خودشان را حفظ کنند. بنابراین آمریکایی‌ها مسئله را صرفاً در برجام اتمی نمی بینند بلکه به صورت مذاکرات جامع می بینند به دنبال اهرم سازی در حوزه‌های دیگر هستند تا بتوانند ایران را وادار به حضور در پای میز مذاکره کنند.  حتی از برخی دوستان شنیدم که مطرح کرده‌اند که ما از زمان شروع دوران ترامپ مذاکرات را مطرح کنیم که باز با موضع مقام معظم رهبری زاویه دارد که بر «لغو تمامی تحریم‌ها» تاکید کردند،  اما اگر همین کار را هم بکنند و بگویند از زمان آخرین روز اوباما این کار را انجام دهیم، توپ در زمین ما می‌افتد در حالی که الان توپ در زمینه طرف آمریکایی و زیر پای ما و روبه دروازه آنها است و الان در حال گل خوردن هستند. ایران در منطقه باعث اخراج آمریکا شد و شکست آمریکا در افغانستان و عراق و سوریه و یمن را منجر شد و در افغانستان مجبور شدند شیوه بازی را عوض کنند وگرنه موضوع طالبان و آمریکا را من در یک پکیج می‌بینم. توافق دوحه را هم خودشان شکل دادند و خودشان ساختار را فرو پاشاندند و مشروعیت‌اش را از بین بردند. تمام این اتفاقات بازی خود آمریکایی ها به خاطر ضربه ای که در عراق و سوریه و لبنان و یمن خورده‌اند بوده است و پروژه داعش کردن منطقه شان به باد فنا رفت. ترامپ گفت داعش را ما درست کردیم و کلینتون هم گفت طالبان را ما درست کردیم و این پروژه آمریکایی ها برای تغییر در ژئوپلیتیک منطقه است و ما باید این را برای مردم تبیین کنیم. ضمن اینکه حقوق هسته‌ای و منافع امنیت ملی ایران دیگر قابل معامله نیست. این بازی گذشت و ما پروژه‌ای به نام برجام نداریم و لازمه موافقتنامه برجام همین است که تحریم ها را لغو کنند تا ما پای میز مذاکره بنشینیم. تصمیم با طرف آمریکایی هست و توپ در زمین آنها است تا تصمیم بگیرند این توپی که زیر پای ایران است به سمت چهارچوب دروازه برود یا خیر. ** الزامات تکنولوژیکی ما حوزه فعالیت‌های هسته‌ای ما را تعیین می کند      نکته ای در مورد میدان توان هسته‌ای جمهوری اسلامی ایران وجود دارد اما اخیراً خبری از سوی رئیس سازمان انرژی اتمی شنیدیم که ظرفیت هسته ای ایران از جنبه های مختلف که یکی از آنها افزایش سانتریفیوژ هاست افزایش می یابد. شما این را در چه چارچوبی می بینید؟ ظهره وند: این در چارچوب منافع امنیت ملی ما است. همین الان آقای مکرون ۳۰ میلیارد یورو برای توسعه نیروگاه های هسته‌ای کوچک صرف کرده است و ما هم می‌خواهیم این کار را انجام دهیم. ما که شاهدیم با گرم شدن زمین دچار خشکسالی دهشتناک هستیم. امروز شرایط ایران مستلزم این است که به سمت انرژی‌های پاک برویم و یکی از مهم‌ترین انرژی‌های پاک که ما منابعش را هم داخل ایران داریم تکنولوژی هسته‌ای هست. ضمن اینکه ایران همکاری‌های خودش را در چارچوب پادمان انجام داده و خواهد داد، اضافه‌خواهی و اینکه بخواهند ایران را در چارچوب پروژه خودشان تعریف کنند قابل قبول نیست وگرنه ایران کاملاً با پادمان ها سازگار جلو می‌رود. نیازهای تکنولوژیکی ما هم مهم است و برای مثال اگر امروز می‌خواهیم زیر دریایی بسازیم، نیازمند پیل هسته‌ای هستیم که حداقل ۶۰ درصد غنا می خواهد. الزامات تکنولوژیکی ما حوزه فعالیت‌های هسته‌ای ما را تعیین می کند و طبق NPT و اساسنامه آژانس و پادمان های مختلف به آن اشاره شده است و رعایت ن هم می شود.  ** ایران‌هراسی سرمایه ژئوپلیتیکی آمریکا در منطقه است این اقدامات به رفتار آمریکایی‌ها و اروپایی‌ها چه تاثیری می‌گذارد؟ ظهره وند: آمریکایی‌ها سعی می‌کنند با ایران‌هراسی و تهدیدانگاری فعالیت‌های هسته‌ای ایران به سمت پروژه براندازی نرم از داخل ایران بروند، در حالی که موضوع فعالیت‌های هسته‌ای ایران اساساً ربطی به تحولات منطقه ندارد و نه قرار است ما بیرون از توافق با آژانس کاری را انجام دهیم و نه قرار است به سمت تولید بمب هسته ای برویم که معادلات نظامی منطقه را به هم بزند.  مسئله آنها این است که آنها مسئله هسته‌ای را در چارچوب معادلات منطقه‌ای و سیاسی وارد می‌کنند. معتبر نشان دادن فعالیت‌های هسته‌ای ایران و ایران‌هراسی سرمایه ژئوپلیتیکی آنها در منطقه برای بازی آن‌هاست درحالی که اتفاقاً دیپلماسی ایران باید به سمتی برود که تا می‌تواند در این حوزه هم دیپلماسی رسانه‌ای را تقویت کند و هم شفافیت ایجاد کند. ‌ یکبار در دوره دولت دهم یا نهم پیشنهاد دادند که حاضریم تور سیاحتی برای سایت‌های هسته‌ای بگذاریم تا کشورهایی که علاقه‌مند هستند که در این مسیر حرکت کنند دانشمندانشان بیایند و تاسیسات هسته‌ای ما را ببینند تا همکاری کنیم. ما معتقد هستیم در دوره معاصر کشورها نمی‌توانند بدون داشتن تکنولوژی‌های به‌روز از جمله تکنولوژی هسته ای که در لبه علم جهان قرار دارد توسعه و رشد پیدا کنند. مدیریت چنین تکنولوژی‌ای بر مدیریت تولید مواد غذایی هم اثر دارد، چون سطح ایمنی استاندارد است و مانند اتومبیل نیست که بگوییم من پراید تولید می‌کنم یا بنز. وقتی وارد حوزه هسته‌ای می‌شویم، استانداردها چه در ایران و چه در آمریکا و فرانسه باید رعایت شوند وگرنه تبدیل به یک تهدید خطرناک می‌شوند. لذا این هست که سطح مدیریت ملی را ارتقا می‌دهد و مدیریت هسته‌ای تبدیل به پیشران می‌شود و می توانیم در داروهای هسته ای و کشاورزی و حتی صادرات مواد غذایی از این ظرفیت استفاده کنیم. پس از پایان دوره مذاکرات تیم آقای جلیلی با ۵+۱ این مسئله مطرح شد که اگر آن روند ادامه می یافت تحریم‌ها خود به خود بی‌اثر و حتی حذف می‌شد و این استناد به اظهار نظر برخی از مقامات آمریکایی بود.  آیا به نظر شما مسیری که الان در حال طی شدن هست می‌تواند به بی اثر شدن تحریم ها منجر شود؟ ظهره وند: چنانچه ما بتوانیم همانطور که آقای رئیسی هم اشاره کردند، سفره مردم و مسائل اقتصاد ملی را به مسئله برجام گره نزنیم، تحریم ها برای ما به فرصت تبدیل می شوند؛ چون تحریم‌ها نشان می‌دهند که دشمن ما یعنی آمریکا به چه بخشی از نقاط ضعف ما پی برده و روی آن سرمایه گذاری می‌کند و باید آن نقطه ضعف را به قوت تبدیل کنیم که برای مثال بنزین یک نمونه آن است. اما اگر وارد بازی طرف مقابل شدیم، نه‌تنها نقاط ضعف ما از بین نمی‌رود، بلکه اتفاقاً واردات‌مان بیشتر می‌شود و این اتفاق در دوره آقای روحانی افتاد و صنعت داخلی ما فشل شد. اما نکته کلیدی این است که باید مسائلمان را در حوزه سطوح ملی و مالی و پولی و تعرفه‌های گمرکی و آمایش سرزمینی متناسب با الزامات ساختاری و پارادایمی‌مان حل کنیم.  اگر نتوانیم شیوه‌های تاسیسی و ابتکاری به خرج بدهیم، در تله بازی غرب خواهیم افتاد و باید مزیت نسبی مان را ارتقا بدهیم. قبل از فتنه سال ۸۸ آقای برژینسکی که الان جهان را ترک کرده، عنوان می‌کرد که دیگر تحریم اثر ندارد و باید به سمت تعادل‌های بازدارندگی در منطقه برویم و این خیلی مهم بود. اما وقتی آن فتنه راه افتاد و کلید خورد، آمریکایی‌ها و خانم هیلاری کلینتون را متوجه کرد که می‌‌توان روی این پروژه سرمایه‌گذاری کرد و برجام هم آمریکایی‌ها را تشویق کرد که می توان این کار را انجام داد. اگر آن چهار بند  FATF را که می‌خواستند امضا کنند، امضا می‌کردند ایران قفل می‌شد. FATF مشکل ما را حل نمی‌کرد بلکه مشکلات را بر ما رسوب می داد چون ما متاثر از تحریم‌های اولیه و ثانویه آمریکایی‌ها هستیم که نه به برجام ربطی دارد و نه بهFATF و هیچ سازمان بین المللی. یک تصمیم ملی داخلی ایالات متحده آمریکا برای ایران است تا تحریم‌ها را موثر بکنند. ** سیاست‌های ابتکاری و تاسیسی به خرج ندهیم در تله غرب می‌افتیم به نظرم دولت آقای رئیسی می‌تواند با توجه به ظرفیت‌های داخلی و روی دست گرفتن اقدامات ابتکاری و تاسیسی جلو برود و اگر در مدل بازی غرب جلو برویم فرجامی نداریم. باید در مسائل سیاست پولی ابتکاری به خرج بدهیم و برای مثال خود من طرح هایی دارم که کل معادلات غربی‌ها را به هم می‌ریزد. ما در پارادایم تفکر انقلابی و ولایی جنگ تحمیلی را اداره می‌کردیم و غرب نمی‌توانست این شیوه جنگ را هضم کند و الان جنگ اقتصادی هست و شیوه کنونی‌مان را هم باید عوض کنیم. اینکه همان مدل لیبرالیستی کشور را اداره می‌کنیم و کشور را با همان نظام بانکی غربی و فاسدتر از آن انجام دهیم و نظام شهری‌مان هم همان مدل است، نمی تواند ما را به سرانجام مناسبی برساند. اگر به این مسئله برگردیم و رویکردهای انقلابی که عامل نگرانی لیبرالیسم شده است را روی دست بگیریم، خواهیم دید که لیبرالیست‌ها به سمت تعامل در چارچوب بازدارندگی می‌آیند. ما قرار نیست غرب را نابود کنیم و اجازه می دهیم که غرب ما را نابود کند و ما باید مدل خودمان را تاسیس کنیم.  وزارت امور خارجه در این راستا چه مأموریت‌ها و وظایف را می‌تواند چه در حوزه کشورهای همسایه و چه کشورهایی چون روسیه و چین ایفا کند؟ ظهره وند: به اعتقاد من دستگاه سیاست خارجی یک دستگاه کلیدی و ملی است و باید قفل روابط ما با محیط خارج را این کلید باز کند و دریچه تعامل و نگاه ما به بیرون است. ضمن اینکه ما می توانیم ظرفیت‌هایی را در بیرون شکار و به داخل منتقل کنیم و فرصت‌ها را در آنجا ببینیم و احیا و مدیریت کنیم و تهدیدات را رصد کرده و با آن مقابله کنیم. اگر دستگاه سیاست خارجی ما به عنوان یک نهاد ملی عمل کند و رویکرد‌های جریانی متوقف شود (که متأسفانه در دوره اصلاحات و اعتدال بسیار جناحی قضیه را جلو بردند) می‌توان به نتایج بهتری دست یافت. ** دیپلماسی در میدان معنا می‌دهد این را هم نباید فراموش کنیم که دیپلماسی در میدان معنا می‌دهد و دیپلماسی بیرون از میدان نوعی توهم و چیزی فرمالیستی و شکلی است و هیچ تأثیری ندارد که یک بخش کار خود را بکند و وزارت خارجه نیز کار خود را انجام دهد. وزارت خارجه باید نقش مدیریت پیشران را در سیاست خارجی داشته باشد و نمی‌شود حوزه بندی کرد و با مسئله، بخشی برخورد کرد. سیاست خارجه یک کل یکپارچه هست و مدیریتش هم باید یکپارچگی را با نیروهای  متعهد و مومن  و هوشیار و بصیر و آگاه و با تجربه حفظ کند. اگر این مجموعه مأموریتش را خوب انجام بدهد بسیاری از مشکلات ما حل می شود. دنیا ۵ با ۶ کشور نیست و ما بیش از ۱۹۰ کشور داریم و نباید فراموش کنیم که ظرفیت ژئوپلیتیکی ما بسیار بالا هست و ظرفیت اقتصادی ما و سهم اقتصاد ما در اقتصاد بین الملل قابل مقایسه با بسیاری از کشورها نیست. اینجا اقتصاد باید پیشرفت کند. ظرفیت ژئوپلیتیکی آمریکایی‌ها بسیار پایین است ولی ظرفیت اقتصادی‌شان در محیط بین‌الملل بالاست و حدود ۴۵ درصد GDP جهان را دارند. لذا آنها تلاش می‌کنند که ظرفیت ژئوپلیتیکی‌شان را بالا بیاورند و باید ظرفیت ژئوپلتیکی ما کمک کند تا ظرفیت اقتصادی ما بالا بیاید. ما کمتر از 2.5 درصد GDP جهان را داریم اما ظرفیت ژئوپلیتیکی ما بسیار بیشتر از چین و خیلی بیشتر از روسیه است. روسیه با اتکا به ظرفیت ژئوپلیتیکی ما وارد سوریه شد و در همین افغانستان ظرفیت ژئوپلیتیکی ما بالاتر از روسیه و چین است ولی آنها دنبال بحث های اقتصادی هستند.      ما باید اینها را با هم تراز کنیم و اقتصاد ما در تراز ظرفیت ژئوپولیتیکی ما بالا بیاید و این در ابتدا به ساکن می‌تواند در محیط پیرامونی ما شکل بگیرد و تقویت شود و در دوردست ها و اروپا نیست. بیش از ۱۵ کشور در محیط پیرامونی خودمان داریم که بیش از یک تریلیون دلار تجارت دارند و سوال اینکه ما چه سهمی از این میزان تجارت داریم؟ شاید کل ظرفیت ما ۳۰ میلیارد دلار بوده که نصف آن واردات و نصف دیگر صادرات است که رقم بسیار ناچیزی است. برای مثال ۲۵ تریلیون دلار GDP کشورهای حوزه شانگهای هست و این ۱۲ کشور حدود ۲۴ تریلیون دلار و درصد بالایی از جمعیت جهان و سطح وسیعی از خشکی های دنیا را در اختیار دارند و ما باید سهم مان را از این ظرفیت افزایش دهیم. این مسئله به سفارتخانه‌های ما و نقش دیپلماسی و وزارت امور خارجه وابسته است تا این تحرک را به خوبی ساماندهی و مدیریت کند و ارگان‌های دیگر هم ذیل مدیریت وزارت امور خارجه حرکت کنند. وحدت فرماندهی و مدیریت شرط و لازمه پیروزی ما در حوزه سیاست خارجی است. انتهای پیام/\n",
      "\n",
      "\n",
      "\n",
      "/\\/\\/\\/\\/\\/\\/\\/\\/\\/\\/\\/\\/\\/\\/\\/\\/\\/\\/\\/\\/\\/\\/\\/\\/\\/\\/\\/\\/\\/\\/\\/\\/\\/\\/\\/\\/\\/\\/\\/\\/\\/\\/\\/\\/\\/\\/\\/\\/\\/\\\n",
      "/\\/\\/\\/\\/\\/\\/\\/\\/\\/\\/\\/\\/\\/\\/\\/\\/\\/\\/\\/\\/\\/\\/\\/\\/\\/\\/\\/\\/\\/\\/\\/\\/\\/\\/\\/\\/\\/\\/\\/\\/\\/\\/\\/\\/\\/\\/\\/\\/\\/\\\n",
      "Rank: 95\n",
      "docID: 9496\n",
      "Title: گفت‌وگوی مشروح | ترقی: آمریکا شروط ایران را نپذیرد، پشت در مذاکرات می‌ماند/ روحانی کشور را به بن‌بست کشاند\n",
      "URL: https://www.farsnews.ir/news/14000926000385/گفت‌وگوی-مشروح-|-ترقی-آمریکا-شروط-ایران-را-نپذیرد-پشت-در-مذاکرات\n",
      "\n",
      "گروه سیاسی خبرگزاری فارس؛ قاسم عزیزی: مذاکرات ایران با 1+4 در وین در حالی صورت می‌گیرد که آمریکا از برجام خارج شد و کشورهای اروپایی هم تاکنون به تعهدات خود عمل نکردند. تیم مذاکره کننده ایران این‌بار با ترکیبی جدید برای احقاق حق تضییع شده ایران به وین پایتخت کشور اتریش رفته‌اند و هنوز نتیجه این مذاکرات روشن و مشخص نیست. بر همین اساس با حمیدرضا ترقی رئیس کمیته بین الملل با سابقه‌ترین حزب ایران یعنی موتلفه اسلامی درباره آنچه فرزندان ایران در وین حول آن با عربی‌ها به گفت‌وگو نشستیم. وی معتقد بود که رفتار آمریکا  کاملاً دوگانه است و از آن سو تیم مذاکره کننده طرف غربی هم اختیار لازم را ندارد. این کارشناس امور بین‌الملل تاکید کرد که تیم مذاکره کننده غربی نمی‌تواند ترور سردار سلیمانی، شهید فخری‌زاده (با جایگاهی که شهید فخری‌زاده در انرژی هسته‌ای و مخالفت با برجام داشت) و 4 حمله دشمنان به تأسیسات هسته ای ایران و  سایت ها و سانترفیوژها، تشدید تحریم‌ها و ادامه تحریم‌ها توسط آمریکا و غرب را نادیده بگیرد. گفت‌وگوی کامل فارس با این عضو شورای مرکزی حزب موتلفه اسلامی به شرح زیر است: *آمریکا شروط سه‌گانه ایران را نپذیرد باید همچنان پشت در مذاکره بماند      فارس: در مورد مذاکرات ایران با 1+4، به نظر شما تیم ایرانی در وین باید چه مواضعی را اتخاذ کند؟ ترقی: مذاکرات این دوره وین چند تفاوت با مذاکرات گذشته دارد. تغییر رویکرد دولت و تیم مذاکره کننده با 1+4 است که دولت آیت الله رئیسی سه شرط را برای بازگشت آمریکا به برجام مطرح کرده است و بدون رعایت این سه شرط، طبیعتا آمریکا همچنان باید پشت درهای مذاکره بماند. «لغو تحریم‌ها»، «اقرار به اشتباه آمریکا در رابطه با خروج از برجام» و «راستی آزمایی لغو تحریم‌ها و همچنین تضمینی که این نوع رفتارها تکرار نشود» سه شرط ایران است. *شرایط ایران در مذاکرات نسبت به قبل تغییر کرده است رویکردی دیگری که دولت آیت‌الله رئیسی در مذاکرات آن را دنبال می‌کند محدود کردن مذاکره به موضوع رفع یکباره تحریم‌ها است؛  دولت جدید معتقد است که موضوعی در مورد هسته‌ای باقی نمانده که بخواهد در مورد آن مذاکره کند. بنابراین تغییر رویکرد جمهوری اسلامی در بعد کیفیت و موضوعات مذاکره کاملا مشخص و روشن است. « تغییر شرایط ایران در مذاکره» در این دور مذاکرات وجود دارد. تیم مذاکره کننده ایران در گذشته هفت نفر و بدون پشتوانه مطالعاتی و تحقیقاتی و کارشناسی کافی و لازم بودند که متأسفانه بعدها از درون این هفت نفر، دو نفر جاسوس درآمدند که یکی از این جاسوسان مسائل اقتصادی و دیگری مسائل سیاسی را دنبال می‌کرد. ایران در این دور از مذاکرات با 1+4، تیم مذاکره کننده خود را به 40 نفر افزایش داده است و در این تیم متخصصان متعددی در رشته‌های اقتصادی، سیاسی، امنیتی، ارزی و غیره حضور دارند تا متناسب با موضوعات، مشاوره‌های کارشناسی ارائه دهند تا پشتوانه‌ای برای تیم مذاکره‌کننده باشند تا تیم مذاکره کننده بر خلاف گذشته از حالت انفعالی به یک موضع فعال و تهاجمی تغییر جهت داده، به گونه‌ای که اکنون نرمش ناشی از خوشبینی به آمریکا و غرب، تبدیل به یک موضع فعال و بی‌اعتماد به طرف غربی شده است. مسئله دیگر اینکه « پیشرفت‌های ایران در فناوری هسته‌ای» در زمینه‌های گوناگون اکنون به جایی رسیده که توانستیم به غنی‌سازی اورانیوم به 20 درصد و 60 درصد دست پیدا کنیم. جمهوری اسلامی ایران علیرغم ضرباتی که رژیم صهیونیستی و آمریکا بعد از خروج آمریکا از برجام به تأسیسات هسته ای وارد کردند، توانسته خود را بلافاصله بازسازی کرده و حتی سانترفیوژهای قوی‌تر و بروزتری را نصب کند تا به غنی‌سازی سرعت دهد. « مسئله خنثی‌سازی تحریم‌ها به موازات رفع تحریم‌ها» از جمله مواردی است که سبب شده شرایط ایران در مذاکرات تغییر کند چرا که این مسئله سبب شده تا ایران در اکو فعال شود و در شانگهای عضویت رسمی پیدا کرده و تحریم نفت را بشکند. امروز ما شاهد این هستیم که ایران به کشورهایی همچون ونزوئلا، لبنان و عراق نفت و بنزین ارسال می‌کند و به عبارتی فروش نفت را از تحریم خارج کند. نکته دیگری که شرایط را تغییر داده، این است که گره زدن مشکلات اقتصادی کشور با برجام ممنوع شده و اکنون دولت جدید به دنبال حل مشکلات کشور از طرق دیگری است. که مجموع همه این موارد که بنده به آنها اشاره کردم شرایط جدیدی را برای تیم مذاکره در ایران پدید آورده که وضعیت را کاملاً تغییر می‌دهد. در طرف غربی هم شرایط تغییرات قابل ملاحظه ای داشته است. غربی‌ها امروز متوجه ضرری که به آنها به دلیل خروج امریکا وارده شده، شده‌اند چراکه گرایش ایران به سمت شرق برای آنها از بعد اقتصادی و مناسبات بین المللی گران تمام شده است؛  اکنون بین 4+1 و آمریکا اختلاف پدید آمده است چون 1+4 معتقدند که موضوعات محل مناقشه با ایران را تنها از طریق دیپلماسی باید دنبال کنند اما آمریکا و رژیم صهیونیستی علاوه بر ادعا در مورد مذاکره به دنبال فشارهای نظامی، توطئه‌های نظامی، تخریب و خراب‌کاری و ترور و ... هستند که اروپائیان معتقدند این اقدامات نه تنها کمکی به حل مسئله نمی‌کند بلکه موانع بر سر راه توافق را افزایش می‌دهد. امروز به دلیل برخورد غربی‌ها و آمریکا با موضوع هسته‌ای ایران سبب شده تا ایران از بسیاری از خط قرمزهایی که آنها برای فعالیت هسته‌ای قائل بودند، عبور کند و به موقعیت‌هایی دست یابد که برگشت‌ناپذیر است و این مسئله کاملاً برای آنها نگران کننده و سخت است. به تعبیر برخی از نویسندگان خارجی و کارشناسان سیاست خارجی، ایران به مرز فاصله بسیار کمی با ساخت بمب هسته‌ای رسیده است اما همانگونه که قبلا آن را اعلام کرده و فتوای عالی‌ترین مقام دینی و سیاسی آن یعنی مقام معظم رهبری (مد ظله العالی) است به سمت بمب هسته‌ای نخواهد رفت. اما در عین حال غربی‌ها احساس می‌کنند بیشتر از این فشار آوردن روی ایران و عدم استفاده از دیپلماسی برای مهار فعالیت هسته‌ای ایران به ضرر آنها خواهد بود و ایران را به مرزی خواهند کشید که دیگر قابل کنترل نخواهد بود.      تغییر دیگری که در تیم مذاکره غربی مشاهده می‌شود این است که آنها برخلاف گذشته که از اختیارات قابل توجهی در مذاکرات برخوردار بودند، اکنون ضعیف و فاقد اختیارات لازم هستند. هر پیشنهادی که تیم مذاکره کننده ایران با اختیارات کامل مطرح می‌کند، آنها مذاکرات را به تعویق می‌اندازند تا از آمریکا اجازه بگیرند. اروپا منفعل عمل می‌کند و به طور مرتب هر پیشنهاد و موضوعی را با آمریکا بررسی (chek) می کند. آمریکا در یک اتاق جدا از محل مذاکره نشسته و نسبت به مسائل نظر می‌دهد که ایران خواستار استقلال تیم مذاکره کننده غربی شده است و گفته که اگر قرار است مرتب با آمریکا کسب اجازه کنید، نشان دهنده بی‌اختیاری تیم مذاکره کننده 1+4 و نیابتی عمل کردن این تیم از طرف آمریکا است. این مسئله خود شکستی برای آمریکا و اروپا است که از خودشان اختیاری در مذاکرات ندارند که بتوانند منافع خود را تأمین کنند و اکنون به نوچه و آلت دست آمریکا بدل شده که باید پشت دست آمریکا کار کند. اکنون در مذاکرات وین، 4+1 به عنوان یک تیم بدعهد و بدهکار  جلوه می‌کند و ایران به عنوان کشوری که کاملاً به تمام تعهدات خود عمل کرده و طلبکار است و ابتکار عمل را در دست دارد، در مذاکرات دست بالاتر را به نمایش گذاشته است. به نظر می‌رسد اینها در وضعیت مذاکرات تأثیر قابل توجهی دارد و وقایعی که طی مدت خروج آمریکا از برجام رخ داده، برای مردم جهان قابل نادیده گرفتن نیست. طرف مذاکره کننده نمی‌تواند ترور سردار سلیمانی، شهید فخری‌زاده (با جایگاهی که شهید فخری‌زاده در انرژی هسته‌ای و مخالفت با برجام داشت) 4 حمله دشمنان به تأسیسات هسته ای ایران و زوایای متعدد به سایت ها و سانترفیوژها، تشدید تحریم‌ها و ادامه تحریم‌ها توسط آمریکا و غرب را نادیده بگیرد. اینها وقایعی است که در طول این مدت رخ داده و این رخدادهای طبیعی، وضعیتی را پدیدآورده که تیم مذاکره کننده غربی با موضع منفعلانه برخورد کند. * آژانس قادر به حفظ اسناد هسته‌ای ایران نیست در کنار همه اینها شاهد زیاده خواهی‌های آمریکا و آژانس هستیم. آقای دروسی بعد از بازدید خود از ایران خواستار اجرای پروتکل الحاقی به صورت اجباری می شود که ایران باید اجازه دسترسی به همه سایت‌های هسته ای را بدون هیچ قید و شرطی بدهد. ایران داوطلبانه این پرتکل الحاقی را که بسیاری از کشورها زیر بار آن نرفتند و تعهدی ندادند را پذیرفته است حالا آقای دروسی طلبکارانه و مصرانه می‌خواهد ایران پروتکل را اجرا کند که این زیاده خواهی‌هایی است که متأسفانه وجود دارد. علت اینکه ایران هم زیر بار این مسئله نمی‌رد نمی رود این است که این نوع بازرسی ها خسارات زیادی به کشور ما وارد کرده است. آمریکا و رژیم صهیونیستی در قالب تیم بازرسی آژانس، جاسوس‌های متعددی را وارد و اطلاعات ما را گرفته و استفاده کرده‌اند. نکته دیگر اینکه خود آژانس قادر به حفظ اسناد نیست و نمی‌تواند تضمین کند که اطلاعاتی که در اختیار دارد را نگه دارد تا اطلاعات درز نکند. آژانس حتی حاضر به پرداخت خسارت ناشی از این نوع سهل انگاری‌ها و تساهل‌ها نیست و به طور آژانس روشن عامل امریکا و اسرائیل است و در جهت اهداف منع گسترش سلاح هسته ای عمل نمی‌کند. کانون هم دوگانگی که در برخوردها با کشورهای عضو فعالیت های هسته ای وجود دارد، نشان دهنده این است که زیاده خواهی ها قابل پذیرش نیست. * آمریکا کاملاً دوگانه برخورد می‌کند موضع‌گیری‌‌های آمریکا و رژیم صهیونیستی و به تبع آن سکوت و عدم واکنش جدی اروپائی‌ها، نشانی از کاهش تهدیدها و تحریم‌ها ندارد. طبل آمریکا و رژیم صهیونیستی بر افزایش و تشدید تحریم‌ها حمله نظامی به تأسیسات هسته‌ای می‌کوبد. آمریکا در مورد پذیرش شروط ایران کاملاً دوگانه برخورد می‌کند. روسها می‌گویند حاضرند شروط را بپذیرند تا زمینه را برای همراه کردن روسیه و چین فراهم کند اما عملاً هیچ علامتی ناشی از اینکه آمریکا شروط ایران را می پذیرد و به اشتباه خود اقرار می‌کند، مشاهده نمی‌شود. تیم مذاکره کننده ایران با چنین شرایطی مجدانه وارد مذاکره شده است. کارگروه اولویت دار را کارگروه نحوه رفع تحریم ها قرار داده و نظرات و بسته های مورد توجه ایران آماده شده و به صورت سند در اختیار طرف مقابل قرار گرفته است. الان توپ در میدان امریکا و اروپا است. ضمن اینکه ابتکار عمل را ایران در دست گرفته و ایران است که زمان و نحوه مذاکره و دستور جلسه مذاکره را تعیین می کندو کاملاً جدی است که در مذاکره با قاطعیت و اختیار وارد شود و عمل کند. این مسئله کاملاً در وین مشهود است و امیدواریم غربی ها پی به اشتباه گذشته خود ببرند و بتوانند با یک تصمیم منطقی اشتباه خود را جبران کنند. *نان رژیم صهیونیستی در افزایش تنش ایران و غرب است فارس: در مورد رژیم صهیونیستی که خواستار توقف مذاکرات شده است، همین طور توطئه رژیم صهیونیستی در تمام مدت مذاکرات بفرمایید. ترقی: رژیم صهیونیستی اصولاً با هر گونه توافقی که موجب کاهش تنش بین ایران و اروپا و غرب شود، مخالف است. چون نان اسرائیل در افزایش این تنش هاست و هستی اسرائیل در گسترش این تنش‌هاست. در واقع همه تلاش اسرائیل در این است که توافق با ایران موجب فاصله گرفتن آمریکا از اسرائیل به خاطر رفتارهای تندروانه و افراطی‌اش نشود و اروپائی‌ها از طریق دیپلماسی به سمت عادی‌سازی روابط خود با ایران نروند. که این تغییر شرایط، موجب تضعیف اسرائیل در موقعیت منطقه‌ای‌اش خواهد شد و فشار اروپایی‌ها بر اسرائیل را برای پذیرش شرایط منطقه‌ای و واقعیت‌های منطقه، افزایش خواهد داد. *روحانی کشور را به بن بست مدیریتی کشاند/ او کشورهای شرقی را قربانی رابطه با غرب کرد فارس: ممنون جناب ترقی. کمی هم به مسائل سیاست داخلی کشکور بپردازیم. مردم ایران 28 خرداد 1400 به آقای رئیسی برای سکانداری دولت رای دادند. اما بحثی که مطرح می شود درست به افکار عمومی گزارش نشده که دولت در چه شرایطی تحویل گرفته شده و عموماً آقای رئیسی هم نجابت به خرج می دهد و نمی‌گوید که دولت را در چه شرایطی تحویل گرفته است. ترقی: دولت آقای روحانی در واقع کشور را در یک بن بست اقتصادی، سیاست خارجی، سیاست داخلی قرار داد و به لحاظ کاهش مشارکت مردم و محبوبیت دولت در بین مردم (فاصله بین دولت و ملت) ضررهای جبران ناپذیری وارد کرد. آقای روحانی و همکارانشان کشور را به یک بن بست مدیریتی که در آن هیچ تدبیری وجود ندارد، کشاندند و آقای رئیسی در چنین شرایطی دولت را در دست گرفته است.   دولت یازدهم و دوازدهم هیچ کدام از مشکلات اقتصادی را نتوانست حل کند، چون همه چیز را به برجام و مسائل خارجی گره زده بود. به لحاظ سیاست خارجی نتوانست رابطه را با کشورهای منطقه و دنیا بهبود ببخشد به این علت که تابع سیاست‌ها و خواسته‌های آمریکا و غرب بود و همه کشورهای شرقی که در طول دوران تحریم به ما کمک کرده بودند، قربانی رابطه کرده بود. در سیاست داخلی آن چنان با مردم برخورد کرد و مشکلات مردم را افزایش داد که میزان مشارکت مردم در همدلی با دولت به حداقل خود در طول 40 سال گذشته رسید. به لحاظ کارآمدی متأسفانه در هیچ جایی چیزی مشاهده نکردیم. از بحران‌های مختلف مثل سیل و زلزله و حوادث غیرمترقبه گرفته تا کارهای عادی که باید در کشور انجام شود که فقط نیاز به هماهنگی بین وزرا داشت. مثلاً جلوگیری از دپو شدن کالاهای اساسی در طی 6-7 سال در گمرک فقط در حد هماهنگی بین دستگاه‌ها بود اما دیدیم که در همین حد هم نتوانستند مشکلات را حل کنند.  دولت آقای رئیسی در بدو آغاز به کار خود باید چند مسئله مهم را حل می‌کرد. اولاً جلوی افزایش کشتار مردم توسط کرونا را می‌گرفت. در دولت قبل روزانه صدها فوتی در کشور داشتیم و دولت رئیسی جلوی آن را گرفت. این مسئله اوج بی‌توجهی دولت در مسئله صیانت از جان مردم بود. وقتی مردم درخواست داشتند که واکسن وارد کنید بهانه‌های واهی  FATF و برجام می‌آوردند که کشورهای خارجی به ما واکسن نمی دهند. اما دولت آقای رئیسی توانست اولا واکسن به ایران وارد کند و دوماً واکسن تولید کند. بنابراین دولت در درجه اول تمام وقت و تمرکز خود را بر صیانت از جان مردم گذاشت. بدون اینکه بگوید دولت قبل کم کاری کرده و زمان خود را صرف نقد دولت قبلی کند، به سمت اثبات کارآمدی خود رفت. *سفرهای استانی رئیسی برای از بین بردن فاصله ایجاد شده بین دولت و مردم است      نکته دوم سعی کرد با حضور در استان‌ها، فاصله ایجاد شده بین دولت و مردم را از بین ببرد. مردم احساس کنند که گوش شنوایی وجود دارد که حرف هایشان را بشنود و مشکلات‌شان را از نزدیک ببیند و درک کند و در صدد رفع آن برآید. این مسئله سبب شد افزایش یابد و مردم احساس کردن که کسانی آمده‌اند که مشکلات می آنها را حل کنند بنابراین این خود می تواند در افزایش مشارکت مردم تأثیر قابل ملاحظه‌ای داشته باشد. *دولت رئیسی به جای برخوردهای چکشی به سمت اقناع‌سازی رفت در حل مشکلات مردم هم سیاست دولت به طور کامل تغییر کرد و دولت به جای برخوردهای چکشی، برخوردهای اقناع کننده و منطقی را دنبال کرد. در موضوع اصفهان یا مسائل دیگر که در کشور وجود داشت، دولت هیچ وقت از موضع غیراقناعی استفاده مکرد. به مردم میدان داده تا حرفشان را بزنند و دولت حرف را می شنود تا در صدد رفع آن برآید. ایجاد این نوع فضا در مردم این امید را به وجود آورده که دولت نه تنها در حل مسائل درمانی، در حل مسائل عمرانی و مشکلات دیگر، همه امکانات خود را بسیج کرده و از این یکپارچگی قوا استفاده می‌کند تا بتواند در جهت حل مشکلات مردم گام‌های اساسی بردارد. *دولت سیزدهم توانسته برای رفع مشکلات مردم گام های اساسی بردارد خوشبختانه رفع موانع تولید با همکاری قوه قضائیه، همکاری و هم افزایی بین سه قوه به صورت بی‌نظیر بعد از 40 سال در کشور به وجود آمده است. این هم افزایی ناشی از یکپارچگی بین قوا در مسائل اساسی و کلی کشور است. فرصت گران بهایی برای دولت، قوه مقننه و قضائیه فراهم شده که می توانند جایگاه خود را به جایگاه تأثیرگذار در حل مشکلات مردم ارتقا دهند. امروز نقش قوه قضائیه در جهت رفع موانع تولید کمتر از قوه مجریه است. قوه قضائیه در افزایش امید و گسترش عدالت در بین مردم کمتر از دولت عمل نمی‌کند. امروز مجلس  نیزدر جهت تقویت دولت و ریل گذاری درست برای حرکت قوه مجریه در تحقق عدالت و توجه به مشکلات و معیشت مردم همه تلاش خود را به میدان آورده است. بنابراین تمام این موارد ناشی از یکپارچگی ای است که به وجود آمده و دولت سیزدهم توانسته است در این مدت کوتاه با کمک بقیه قوا به سمت رفع مشکلات مردم گام های اساسی بردارد. * کارنامه صد روزه رئیسی درخشان است/ انتقاد از تعلل در تغییر مدیران میانی فارس: کارنامه صد روزه دولت را چگونه ارزیابی می‌کنید؟ ترقی: به نظر بنده کارنامه دولت سیزدهم در طی این صد روز اولیه ، قابل دفاع، درخشان و ارزشمند در عرصه مدیریت کشور است البته بی نقص نیست. به هر حال تأخیر در تغییر مدیران میانی در سطح کشور که همان دیدگاه دولت قبل را دارند و کارشکنی در حل مشکلات مردم و کشور می‌کنند و تبعیت درستی از سیاست های دولت جدید را ندارند، مشکل زاست و و البته زمان‌بر نیز هست. به این علت که نیروی ساخته شده و کادرهای پرورش یافته انقلابی متأسفانه توسط نیروهای انقلابی سامان پیدا نکرده‌اند و میدان به آنها تا به حال داده نشده و در بانک اطلاعاتی جمع نشده و شناسایی آنها برای دولت سخت و دشوار است و دسترسی به همه اینها ندارد. اینها باعث شده دولت در جایگزینی آنها نتواند به سرعت عمل کند. حداقل در سطح مدیران میانی (استاندار، شهردار تا فرمانداران و مدیران کل) نیاز به 15 هزار نیرو داریم که بتواند تمام این بخش‌ها را متحول کند. *در کادرسازی عقب هستیم فارس: طبیعتا برای تربیت چنین نیروهایی نیازمند احزاب هستیم که کادرسازی کنند. ترقی: بله اما هیچ کدام از دولت های گذشته چنین شرایطی را برای احزاب فراهم نکردند که احزاب به سمت کادرسازی بروند. آنچنان احزاب تضعیف شدند که امکاناتی برای کادرسازی ندارند. ما در کادر سازی واقعاً عقب هستیم. دستگاه های تولیدی نیروی انسانی مثل دانشگاه ها و .. تراز انقلاب تربیت نمی‌کنند. باید از بین آنها دست‌چین کنیم، یک دوره آموزشی به آنها بدهیم تا تراز انقلاب شوند. دست‌چین کردن و شناسایی کردن آنها نیازمند یک دستگاه متولی برای این کار است. هیچ دستگاه متولی برای این کار نداریم. *نیروهای انقلاب محکوم به موفقیت هستند کشورهایی که توانسته اند به رشد قابل توجهی در توسعه برسند، برای گردش نخبگان برنامه‌ریزی دارند و روی تربیت نسل مدیر برای آینده کار ویژه انجام داده و می‌دهند. این کشورها بر روی  احزاب سرمایه‌گذاری می‌کنند. برخی از کشورها که اصولاً حزب در آنها حاکم است و حاکمیت آنها دولت حزبی است برای حزب حاکم، امکانات فراهم است که نیرو بسازد. در چین به هیچ وجه امکان اینکه مدیری بدون طی کردن مراحل پائین به مدارج بالا برسد، وجود ندارد. به هیچ وجه از پشت میز دانشگاه کسی را مسئول نمی‌کنند. فرماندار وقتی فرماندار می شود که قبلاً بخشدار و قبل از آن دهدار بوده باشد. یعنی در روستا بیل زده باشد، با کشاورز کار کرده باشد تا بفهمد که او چه می‌خواهد و وقتی فرماندار می شود که فاصله بین بخشداری و فرمانداری را در دوره آموزشی حزب طی کرده باشد و بدون آموزش‌های ضمن خدمت به هیچ عنوان امکان رشد وی فراهم نیست. در احزاب هم همین گونه است. در احزاب فردی که می خواهد به ریاست جمهوری برسد باید عضو عادی باشد و برجسته باشد و بعد عضو شورای مرکزی شود و بعد برنامه داشته باشد و توانمندی های خود را نشان دهد تا بعد برای این مناصب پیشنهاد داده شود. بنابراین چنین روندی را در کشورمان نداریم.   باید فکری برای تأمین نیروی انسانی مورد نیاز کشور بکنیم که فراتر از دانشگاه و ... است و باید روی آن برنامه ریزی شود. الان که در بیانیه گام دوم انقلاب یک تغییر نسلی قرار است صورت بگیرد و مدیریت از نسل قبل به نسل جوان منتقل شود، اگر جوان آماده نباشد، امکان اینکه شانه‌اش را زیر بار سنگین مدیریت بدهد، نیست و وقتی می تواند بار را تحمل کند که قبل از پذیرش مسئولیت، تجربه گذشتگان را آموخته باشد. خودش را به لحاظ تخصصی، توانمندی و کارایی به حد نیروهای گام اول رسانده و کارآمدی را داشته باشد. کسی که تمرین نکرده یک کیسه 100 کیلویی را روی دوش خود بگذارد، طبیعتا به محض اینکه این کیسه روی دوشش افتاد، روی زمین افتاده و نمی تواند راه برود و ادامه دهد. باید خودش را از لحاظ جسمی، فکری و مدیریتی و در همه ابعاد آماده کرده باشد. اما به هر حال باید کمک کرد تا آقای رئیسی بتواند این مشکلات را هرچه سریعتر برطرف کند و کادر مومن به اهداف و برنامه های دولت در بدنه ایجاد شود تا این کادر بتواند سیاست های دولت را به نحو مطلوب به سمت اجرایی شدن و تحقق ببرد و تعارضی بین سیاست ها و برنامه های بدنه و هرم بالای دولت وجود نداشته باشد. امروزه یکپارچگی در بین قوای سه گانه و همراهی نهادهای عمومی و غیر دولتی با دولت، مهمترین و استثنایی ترین فرصت برای نیروهای انقلاب و پایبند به اصول انقلاب است. ما در شرایط کنونی محکوم به موفقیت هستیم و باید تمام تلاش خود را به کار بگیریم تا در حل مشکلات مردم و چالش های پیش روی نظام موفق شویم.      * سنجش معیار موفقیت دولت رئیسی، رضایت مردم است فارس: سنجش معیار این موفقیت چیست؟ ترقی: سنجش معیار این است که مردم راضی شوند، مشارکت مردم افزایش یابد و پایبندی مردم به اصول و آرمان های انقلاب افزایش پیدا کند. مردم سالاری دینی به طور کامل تحقق پیدا کند. در جامعه‌سازی اسلامی توفیق لازم پیدا کنیم و جامعه پذیری سیاسی نسل جوان را تضمین کنیم و اینها نیاز به برنامه و کار دارد. مقام معظم رهبری در مراسم تنفیذ خطاب به آقای رئیسی فرمودند دولت شما باید دولت وفاق باشد. دولت وفاق مفهوم خاص خود را دارد و به این معنی است که باید جریان های مختلف سیاسی درون نظام را با مشخصات و ویژگی های خود بشناسی و آنها را با هم همدل و همراه کرده و به یک ظرفیت برای پیشبرد اهداف نظام تبدیل کنید. مقام معظم رهبری تأکید کردند که باید تغایرهای موهوم بین نیروهای انقلاب را کاهش داد و از بین برد و یا لااقل جلوی اثرگذاری آنها را گرفت. ما باید کاری کنیم که اولاً مسائل اصولی و اساسی در کشورمان فراموش نشود. همه به دنبال حاشیه نروند. اینکه همه به دنبال حاشیه سازی باشند از احزاب گرفته تا مسئولین و غیره. همه در حاشیه باشند و موضع بگیرند وقت کشور در مسیر توسعه گرفته می شود. وزیری که باید روز تا شب جواب حاشیه ها را بدهد چطور می تواند وزارت کند. دولت سعی می کند وارد این حاشیه ها نشود. فارس: خالقان این حاشیه‌ها چه کسانی هستند؟ ترقی: کسانی که باید از قدرت کنار بروند به سادگی کناره‌گیری نمی‌کنند و حاضر نیستند قدرت را از دست بدهند بنابراین برای حفظ خود انواع و اقسام این شایعات را روز و شب درست می‌کنند. 1200 عنصر منافق در آرژانتین و آلبانی هستند که روز تا شب، پمپاژ شایعه می‌کنند. می‌خواهند شایعه پراکنی کنند تا دولت به موفقیت نرسد. با این شرایط خاص روبرو هستیم و در این شرایط، در داخل نباید به دشمن بهانه بدهیم و به توطئه های دشمن دامن بزنیم. نباید داخلی ها در پازل دشمن بازی کنند و اینها در شرایط کنونی مهم است. اگر مردم از ناکارامدی، بی اعتمادی و ناامیدی خسته شده اند، راهش این است که به همه این شایعات نه بگویند و به سمت مسائل اصلی بروند و به دولت کمک کنند تا دولت هم برای حل مشکلات به مردم کمک کند و همدلی و انسجام و وحدت بین مردم و دولت شکل بگیرد تا تقویت شود و انشاءالله بر مشکلات غلبه کنیم. در چنین شرایطی مشکلی غیرقابل حل در کشور نمی‌ماند چون همه مشکلات قابل حل است و راه‌حل‌ها در فضای آرام قابل تحقق است. راه حل‌ها در فضای متشنج و پرچالش و بی‌اعتمادی و پرشایعه امکان پذیر نیست و قطعاً باید بدانیم در داخل کشور عواملی مثل ستون پنجم دشمن وجود دارد که هر گونه بهبود شرایط کشور به ضرر آنهاست. هرگونه توسعه در کشور با اتکا به ظرفیت های درونی و موفقیت نظام در دستیابی به اهداف خود به ضرر آنهاست بنابراین لازمه آن این است که با این توطئه‌ها مبارزه کنیم و امیدواریم که به حول و قوه الهی و عنایت پروردگار، امیدی که در دل مردم به وجود آمده در رابطه با دولت سیزدهم روز به روز افزایش پیدا کند و دولت هم در جهت شایسته سالاری و استفاده از نیروهای کارآمد حرکت کرده و از پس همه مشکلات کشور و مردم و پیچیدگی هایی که در عرصه سیاست داخلی و خارجی وجود دارد، بربیاید. فارس: آقای ترقی از وقتی که برای گفت‌وگو با خبرگزاری فارس اختصاص دادید، کمال تشکر را داریم. ترقی: ممنون از شما امیدوارم که موفق و پیروز باشید. انتهای پیام/  \n",
      "\n",
      "\n",
      "\n",
      "/\\/\\/\\/\\/\\/\\/\\/\\/\\/\\/\\/\\/\\/\\/\\/\\/\\/\\/\\/\\/\\/\\/\\/\\/\\/\\/\\/\\/\\/\\/\\/\\/\\/\\/\\/\\/\\/\\/\\/\\/\\/\\/\\/\\/\\/\\/\\/\\/\\/\\\n",
      "/\\/\\/\\/\\/\\/\\/\\/\\/\\/\\/\\/\\/\\/\\/\\/\\/\\/\\/\\/\\/\\/\\/\\/\\/\\/\\/\\/\\/\\/\\/\\/\\/\\/\\/\\/\\/\\/\\/\\/\\/\\/\\/\\/\\/\\/\\/\\/\\/\\/\\\n",
      "Rank: 87\n",
      "docID: 10757\n",
      "Title: راهبرد «مذاکره هسته‌ای نداریم» چگونه تأمین کننده منافع کشور خواهد بود؟/ غرب در دوراهی سخت\n",
      "URL: https://www.farsnews.ir/news/14000821000097/راهبرد-مذاکره-هسته‌ای-نداریم-چگونه-تأمین-کننده-منافع-کشور-خواهد-بود-\n",
      "\n",
      "گروه سیاسی خبرگزاری فارس؛ احد شیرزاد: آنچه حدود ۲۰ سال است اصلی‌ترین کلیدواژه سیاست خارجه کشور یعنی «مذاکرات هسته‌ای» را شامل شده، از ابتدا یک خط و محور اصلی را تشکیل داده است و آن این است که «فعالیت هسته‌ای ایران صلح‌آمیز است یا خیر؟». ایران که از ابتدا اعلام کرده بود به‌دنبال بمب هسته‌ای نیست و هدفی جز استفاده‌های صلح‌آمیز از انرژی هسته‌ای ندارد، شفاف‌سازی خود را در سطح ادبیات سیاسی و نشست‌های دیپلماتیک باقی نگذاشت بلکه پشتوانه دینی نیز به آن بخشید. رهبر انقلاب در تاریخ ۲۸ فروردین ۱۳۸۹ طی فتوایی که بازتاب گسترده‌ای در جهان پیدا کرد، استفاده از هر نوع سلاح کشتارجمعی از جمله سلاح هسته‌ای را حرام اعلام کرد. فتوایی که در سازمان ملل به‌عنوان سند رسمی ثبت و به ۶ زبان زنده دنیا ترجمه شد.       جان کری وزیر خارجه دولت اوباما از فتوای رهبر انقلاب استقبال می‌کند   در کنار این فتوای تاریخی، ایران با پذیرش داوطلبانه پروتکل الحاقی، همکاری‌های غیرمتعارف و فراتر از حدانتظار را نیز با آژانس بین‌المللی انرژی اتمی- به‌عنوان مرجع راستی‌آزمایی برنامه هسته‌ای کشورها-، در دستور قرار داد. در عرصه فنی و دیپلماتیک نیز ایران از هیچ اقدامی برای رفع دغدغه یا همان بهانه طرف‌های مذاکرات فروگذار نکرد. یک گام اساسی در این راستا، زمانی بود که تیم جدید مذاکره کننده ایرانی به رهبری سعید جلیلی از آژانس بین‌المللی درخواست کرد تا همه ابهامات و سؤالات خود را نسبت به برنامه‌ هسته‌ای ایران اعلام کرده تا یک بار برای همیشه به آن‌ها پاسخ داده شود. این آژانس ۶ سؤال اساسی را فراروی ایران قرار داد. غربی‌ها که مدعی بودند ایران قصد دارد وقت‌کشی کند و به زودی قصد پاسخ دادن به سؤالات را ندارد، ۱۸ ماه به ایران مهلت دادند. امّا پاسخ سؤالات نه در یکسال بلکه در ۶ ماه در مقابل دیدگان آژانس بین‌المللی انرژی اتمی قرار گرفت و آژانس نیز چاره‌ای جز صحه گذاشتن بر پاسخ‌های مستدل ایران ندید، لذا در ۳ اسفند ۸۶ آژانس بین‌المللی انرژی اتمی در نامه‌ای به شورای حکام سازمان ملل اعلام کرد که پاسخ ۶ ابهامی که درباره مسئله هسته‌ای ایران وجود دارد، از نظر ما مشخص شده است. این یک پیروزی برای ایران محسوب می‌شد، با این حال پایانی بر بهانه‌جویی‌های طرف‌ غربی علی‌الخصوص آمریکا نبود.    ایران ۶ سؤال آژانس بین‌المللی انرژی اتمی درباره برنامه هسته‌ای این کشور را پاسخ داد و آژانس پاسخ سؤالات را تأیید کرد. این یک پیروزی برای جمهوری اسلامی بود.    با این همه، مذاکرات هسته‌ای همچنان ادامه داشت و در نهایت در سال ۹۴ منجر به توافقی شد که هم ایران و اروپا در آن حضور داشتند هم آمریکا. توافقی که قرار بود نقطه پایانی باشد بر کشمکش دو دهه‌ای ایران و غرب در موضوع هسته‌ای و آنچنان که طرفین می‌گفتند همه ابعاد مورد اختلاف را شامل می‌شد، از این رو «توافق جامع» لقب گرفت. طرف ایرانی که توافق برجام را رفع‌کننده تمام تحریم‌های وضع شده علیه ایران می‌دانست، به سرعت اجرای تعهداتی که در برجام به‌ آنها ملزم شده بود را در دستور قرار داد. ماحصل این حسن نیت، ۱۵ گزارش آژانس بین‌المللی انرژی اتمی مبنی بر عمل ایران به همه تعهدات برجامی‌ خود بود. با وجود ۱۵ مهر تأیید آژانس، آمریکا و اروپا نه‌تنها حاضر به عملی کردن تعهدات خود نشدند بلکه روز به روز بر تعداد تحریم‌های ایران افزودند.    استقبال طرف‌های برجام از گزارش‌های آژانس مبنی بر عمل ایران به تعهدات برجامی خود   نقض برجام تا جایی پیش رفت که منجر به خروج آمریکا از برجام شد. در چنین شرایطی با اینکه دولت ایران مطابق مفاد برجام حق داشت تمام یا بخشی از تعهدات خود را کنار بگذارد، امّا یکسال صبر کرد تا بازماندگان برجام یعنی اروپایی‌ها جبران مافات کنند. وقتی صبر یکساله نیز افاقه نکرد، در نهایت ایران طی چندگام، ادامه عمل به تعهدات برجامی خود را کاهش داد. دولت ترامپ که از برجام خارج شده بود، با درنظر گرفتن احساس نیاز مسئولان دولت ایران برای مذاکره و چیدن همه تخم‌مرغ‌های اقتصاد کشور در سبد مذاکرات، به این فکر افتاد تا با وضع تحریم‌های بیشتر، ایران را پای میزی بکشاند که علاوه بر مهار ایران در توسعه صنعت هسته‌ای، سایر مؤلفه‌های قدرت این کشور از جمله توان دفاعی و حضور فعال در منطقه را نیز بگیرد. لذا تحریم‌های ایران که تا پیش از برجام ۷۰۰ تحریم بود به ۱۵۰۰ تحریم رسید. همزمان، آمریکایی‌ها با پیش کشیدن ۱۲ شرط، خواستار توافق جامع با ایران شدند. شروطی که معنایی جز تسلیم کامل ایران در مقابل زیاده‌خواهی‌های آمریکا نداشت.    آمریکا که از برجام خارج شده بود، شروطی را برای مذاکره مجدد با ایران قرار داد که معنایی جز تسلیم کامل ایران نداشت!   عمر دولت ترامپ بیشتر از ۴ سال قد نداد و با روی کار آمدن دولت جدید، جریان اصلاحات و حامیان دولت اعتدال، زمزمه‌های بازگشت آمریکا به برجام را بلند کردند. سخن از بازگشت آمریکا به برجام در چنین شرایطی معنایی جز خودزنی نداشت، چرا که بیش از ۷۰۰ تحریم جدید بعد از خروج این کشور از برجام وضع شده بود و باگشت آمریکا به برجام عملاً به‌معنای پذیرش این تحریم‌ها توسط ایران بود!      با درک همین موضوع بود که رهبر انقلاب در چنین مقطعی سیاست قطعی جمهوری اسلامی ایران را رفع همه تحریم‌ها و راستی‌آزمایی از سوی ایران اعلام کردند: «مسئله‌‌ ما این نیست که آمریکا به برجام برگردد یا برنگردد... بایستی در عمل تحریمها را لغو کنند و ما راستی‌آزمایی کنیم و احساس کنیم که درست تحریمها لغو شده، آن وقت ما هم به این تعهّدات برجامی برمی‌گردیم؛ این سیاست قطعی جمهوری اسلامی است و از این سیاست بر نخواهیم گشت». علی رغم اینکه هیچ علامت مثبتی از دولت بایدن مبنی بر پذیرش شروط ایران دیده نمی‌شد، دولت حسن روحانی دور جدیدی از مذاکرات هسته‌ای را با اروپایی‌ها موسوم به مذاکرات وین آغاز کرد. مذاکراتی که با هدف احیای برجام صورت گرفت و بنا بود زمینه بازگشت آمریکا را به برجام فراهم کند. با این حال بدون اینکه این مذاکرات به نتیجه‌ای برسد، دولت روحانی به پایان رسید. دولت سیّد ابراهیم رئیسی که روی کار آمد اعلام کرد میز مذاکره را ترک نخواهد کرد، با این وجود، زمین بازی را از «مذاکره برای احیای برجام» به «مذاکره برای رفع تحریم» تغییر داد و به موضعی بازگشت که قبلاً به‌عنوان سیاست قطعی نظام اعلام شده بود؛ یعنی رفع همه تحریم‌ها و راستی‌آزمایی از سوی ایران. در راستای همین سیاست است که علی باقری معاون سیاسی وزیر امور خارجه که این روزها در حال  فراهم کردن مقدمات مذاکرات ۸ آذر با اروپایی‌هاست، اعلام می‌کند که زین پس مذاکره هسته‌ای نداریم و آنچه به جریان خواهد افتاد، مذاکره برای رفع تحریم‌های ظالمانه علیه ایران است. سیاستی که توپ را در زمین طرف غربی مذاکرات قرار می‌دهد. چرا که ایران پس از امضای برجام، دغدغه یا بهانه غربی‌ها مبنی بر صلح‌آمیز بودن برنامه هسته‌ای این کشور را برطرف کرده بود و آژانس بین‌المللی انرژی اتمی نیز با راستی‌آزمایی انجام تعهدات ایران در ۱۵ مرحله بر صحت انجام آن، مهر تأیید زده بود. این اهرمی بود در دست ایران تا با اتکا به آن، طرف مقابل را وادار به رفع تحریم‌ها کند یا حداقل بهانه را از دست آن‌ها خارج کند.      عدول از این شرایط ایران را در میز متهمی می‌نشاند که باز هم باید برای اثبات صلح آمیز بودن هسته‌ای خود مذاکره کند و علاوه بر این، برای توافق جدید امتیازات جدیدی واگذار کند، حال که در آخرین توافقی که بین طرفین منعقد شده و توافق جامع هم لقب گرفته، ایران همه امتیازات لازم را داده و زین پس، دادن امتیاز بیشتر به معنای فرورفتن در باتلاقی است که انتهای آن نامعلوم است. ماجرا به این‌ موارد ختم نمی‌شود. سؤال این است که چه ضمانتی وجود دارد که توافق فرضی جدید نیز به سرنوشت برجام دچار نشود و اروپا و امریکا به آن پایبند بمانند؟  امروز ایران در موقعیتی تاریخی قرار دارد؛ ۲۰ سال اعتمادسازی برای اثبات صلح‌آمیز بودن فعالیت‌های هسته‌ای و صحه گذاشتن آژانس بین‌المللی انرژی اتمی بر اجرای همه تعهدات برجامی از یک طرف و شتاب دادن به فعالیت‌های هسته‌ای از طرف دیگر، اهرمی را در اختیار ایران قرار داده که می‌تواند با تمسک به آن، یک بار برای همیشه پاسخ این سؤال را برای افکار عمومی دنیا مشخص کند که آیا غرب، بنایی برای لغو تحریم‌های ایران دارد یا به دنبال بهانه‌جویی برای مقاصد دیگری است؟ از این روست که روشن می‌شود اتخاذ موضع «مذاکرات هسته‌ای نداریم، بلکه مذاکرات رفع تحریم داریم»، سیاستی واقع‌بینانه‌ بر اساس درک درست از شرایط محیط بین‌المللی و اقتضائات آن است. پافشاری بر موضع «مذاکره برای رفع تحریم، نه مذاکره برای هسته‌ای» دو نتیجه احتمالی و دو حالت را برای جمهوری اسلامی ایران بوجود می‌آورد؛ نخست اینکه طرف غربی می‌پذیرد که در ازای الزام ایران به ازسرگیری عمل به تعهدات برجامی خود تحریم‌ها را رفع کند حالت دوم این است که غربی‌ها زیر بار خواسته ایران نروند و توافقی صورت نگیرد، درنتیجه به تحریم علیه ایران ادامه دهند. حالت دوم همان سیاستی است که غربی‌ها در هر صورت در مواجهه با جمهوری اسلامی ایران از آن دست نکشیده‌اند، حتی زمانی که با این کشور به توافق جامع رسیده‌اند! امّا تفاوت تحریم در چنین شرایطی با تحریم در دولت روحانی این است که این‌بار دستاوردهای هسته‌ای‌ کشور پودر نمی‌شود و از لحاظ توسعه هسته‌ای پیش خواهیم رفت. اقتصاد کشور نیز البته معطل رفع تحریم نخواهد بود و مسیر خود را خواهد رفت.    رهبر انقلاب طی سال‌های اخیر، بارها راه مقابله با تحریم‌ها را تکیه به داخل و همّت مسئولان دانسته‌اند   غرب در سیاست تحریمی خود به نقطه پایان نزدیک شده است، چرا که از طرفی دوره تحریم‌های فلج‌کننده علیه ایران سپری شده و تحریم به اشباع‌شدگی رسیده است، از طرف دیگر، ایران در حال حرکت به سمت دوران خودکفایی و تکیه به ظرفیت‌های داخل است و در سیاست خارجی نیز روابط را منحصر در چند کشور غربی نمی‌داند و از فرصت‌های متنوع همکاری با سایر کشورها استفاده می‌کند. نمونه آن، عضویت ایران در پیمان مهم شانگهای است که در ۱۰۰ روز نخست دولت رئیسی به‌دست آمده است. در چنین شرایطی، تحریم مسئله اول و آخر نخواهد بود، بلکه در کنار سایر عوامل، سهم واقعی خود را اقتصاد خواهد داشت. سهمی که امکان کاهش آن و حتی خنثی و بی‌اثر کردن آن در میان‌مدت و درازمدت دور از دسترس نیست.  انتهای پیام/\n",
      "\n",
      "\n",
      "\n",
      "/\\/\\/\\/\\/\\/\\/\\/\\/\\/\\/\\/\\/\\/\\/\\/\\/\\/\\/\\/\\/\\/\\/\\/\\/\\/\\/\\/\\/\\/\\/\\/\\/\\/\\/\\/\\/\\/\\/\\/\\/\\/\\/\\/\\/\\/\\/\\/\\/\\/\\\n"
     ]
    },
    {
     "data": {
      "text/plain": [
       "<__main__.Query at 0x1d4b149d2b0>"
      ]
     },
     "execution_count": 38,
     "metadata": {},
     "output_type": "execute_result"
    }
   ],
   "source": [
    "Query('تحریم‌های آمریکا علیه ایران')"
   ]
  },
  {
   "cell_type": "markdown",
   "id": "d3d15f79",
   "metadata": {},
   "source": [
    "- [ ] A query with the NOT operator (such as 'تحریم‌های آمریکا ! ایران', it is expected that documents containing the two words تحریم and امریکا, but not the word ایران, will be present in the retrieved results.)"
   ]
  },
  {
   "cell_type": "code",
   "execution_count": 39,
   "id": "035223d9",
   "metadata": {},
   "outputs": [
    {
     "name": "stdout",
     "output_type": "stream",
     "text": [
      "/\\/\\/\\/\\/\\/\\/\\/\\/\\/\\/\\/\\/\\/\\/\\/\\/\\/\\/\\/\\/\\/\\/\\/\\/\\/\\/\\/\\/\\/\\/\\/\\/\\/\\/\\/\\/\\/\\/\\/\\/\\/\\/\\/\\/\\/\\/\\/\\/\\/\\\n",
      "Rank: 14\n",
      "docID: 7615\n",
      "Title: یک مأموریت‌ فتنه 88 کاهش قدرت چانه‌زنی مسؤولان در مذاکرات بود\n",
      "URL: https://www.farsnews.ir/news/14001129000373/یک-مأموریت‌-فتنه-کاهش-قدرت-چانه‌زنی-مسؤولان-در-مذاکرات-بود\n",
      "\n",
      "حجت‌الاسلام مجتبی ذوالنور نماینده مردم قم در مجلس، در گفت‌وگو با خبرنگار پارلمانی خبرگزاری فارس، با اشاره به مسأله تحریم‌های ضدایرانی در حوزه‌های مختلف و ریشه‌های اصلی وقوع پدیده تحریم اظهار داشت: فلسفه وضع تحریم‌ها، افزایش فشار بر مردم و نظام بوده است تا تاب‌آوری مردم از بین برود و مقاومت آنها بشکند و در نهایت تسلیم شوند. وی افزود: دشمن با این هدف تحریم‌ها را ادامه داده و هر چیزی که دشمنان ما احساس کنند که می‌تواند در مستأصل کردن مسؤولان و نیز در تنگنا قرار دادن مردم مؤثر واقع شود، از آن استفاده می‌کنند تا در نهایت، مردم تسلیم شوند. عضو کمیسیون امنیت ملی و سیاست خارجی مجلس تصریح کرد: مذاکرات هسته‌ای از زمان دولت خاتمی و زمانی که آقای روحانی دبیر شورای عالی امنیت ملی بوده تا بعدها که آقایان لاریجانی، جلیلی، ظریف و عراقچی مذاکرات را دنبال کرده‌اند، دائماً ادامه داشته و در تمام این سال‌ها و در جاهایی، دشمن امیدوار شده که امتیاز بگیرد و در زمان‌هایی نیز مستأصل شده است. ذوالنور در توضیح این نکته گفت:‌ امیدوار شدن دشمن مربوط به مقاطعی بوده است که احساس کند ما در وضعیت شکننده داخلی هستیم و قدرت چانه‌زنی و امتیازگیری از آنها را نداریم و مستأصل شدن دشمنان ما نیز مربوط به زمان‌هایی بوده است که یکپارچگی و انسجام داخلی را دیده‌اند که مردم خواهان مقاومت مذاکره‌کنندگان در مقابل خواسته‌های غیرقانونی آنها هستند. * یکی از مأموریت‌های فتنه 88، کاهش قدرت چانه‌زنی در پای میز مذاکره بود/ ماجرای رفت و آمد آقازاده‌ها به غرب نماینده مردم قم در مجلس شورای اسلامی، با اشاره به تاثیر فتنه 88 بر گسترش فشارهای تحریمی تصریح کرد: یکی از مأموریت‌های فتنه 88، کاهش قدرت چانه‌زنی مسؤولان در پای میز مذاکره بود و حتی اطلاعاتی در دست داریم که برخی آقازاده‌ها در آن سال به آمریکا رفت و آمد می‌کردند و به غربی‌ها و آمریکایی‌ها پیغام می‌دادند که ما نفس نظام را در داخل گرفته‌ایم و اگر شما هم فشارهای تحریمی را افزایش دهید، کار نظام تمام است. ذوالنور افزود: این سیگنال دادن‌ها به دشمن تا مرحله به خیابان آوردن مردم به بهانه‌های مختلف از جمله تقلب ادامه یافت، تا جایی که با صراحت برخی از این جریانات در تجمع‌هایشان شعار «اوباما اوباما، یا با اونا، یا با ما» سر می‌دادند. وی تأکید کرد:‌ بنابراین هدف فتنه و مسیر و ابزارهایش معلوم بوده و لذا یکی از عوامل تشدید فشارهای اقتصادی و تحریمی، فتنه 88 بوده است که یک نوع تفرقه و شکنندگی را در داخل کشور ایجاد کرد و به دشمن سیگنال داد. * توافقات اولیه وین در پایان دولت روحانی، از ترکمنچای بدتر بود عضو کمیسیون امنیت ملی و سیاست خارجی مجلس، با بیان اینکه امروز انسجام و هم‌افزایی خوبی در کشور در جهت مقابله با تحریم‌ها مشاهده می‌شود، گفت: امروز، یک راهبرد لغو تحریم‌ها داریم و یک راهبرد نیز برای خنثی کردن تحریم‌ها و کم اثر کردن آنها. ذوالنور اظهار داشت: برجام یک عمل انجام شده است که در مقابل ما قرار دارد و ما نیز امروز باید به شکلی آن را دنبال کنیم که ذلت مردم‌مان را به دنبال نداشته باشد، بلکه منافع تعریف شده در آن را احیا کنیم. وی خاطرنشان کرد: در مذاکرات وین که در ماه‌های پایانی دولت آقای روحانی انجام می‌شد، ضررهایی در توافقات اولیه مشاهده می‌شد که از ترکمنچای هم بدتر بوده است، اما امروز حرف از لغو تحریم‌ها می‌زنیم تا منافع مردم از برجام حاصل شود و تلاش تیم فعلی مذاکره‌کننده نیز بر همین راهبرد استوار است. عضو کمیسیون امنیت ملی و سیاست خارجی مجلس تأکید کرد: اما مهمتر از راهبرد لغو تحریم‌ها، خنثی کردن تحریم‌هاست؛ یعنی مهم این است که بگونه‌ای کشور را اداره کنیم که اگر تحریم‌ها بنا به هر علتی برداشته نشد، فشار آن بر دوش مردم نیفتد. وی تأکید کرد: در دولت گذشته همه چیز به برجام و نتیجه مذاکرات گره زده می‌شد، اما امروز شرایط بگونه‌ای تغییر کرده که مذاکرات با جدیت دنبال می‌شود، اما همه مسائل کشور معطل مذاکرات نمی‌ماند. انتهای پیام/\n",
      "\n",
      "\n",
      "\n",
      "/\\/\\/\\/\\/\\/\\/\\/\\/\\/\\/\\/\\/\\/\\/\\/\\/\\/\\/\\/\\/\\/\\/\\/\\/\\/\\/\\/\\/\\/\\/\\/\\/\\/\\/\\/\\/\\/\\/\\/\\/\\/\\/\\/\\/\\/\\/\\/\\/\\/\\\n",
      "/\\/\\/\\/\\/\\/\\/\\/\\/\\/\\/\\/\\/\\/\\/\\/\\/\\/\\/\\/\\/\\/\\/\\/\\/\\/\\/\\/\\/\\/\\/\\/\\/\\/\\/\\/\\/\\/\\/\\/\\/\\/\\/\\/\\/\\/\\/\\/\\/\\/\\\n",
      "Rank: 13\n",
      "docID: 7261\n",
      "Title: سود مافیای اسلحه‌سازی آمریکا در ناامن بودن جهان است\n",
      "URL: https://www.farsnews.ir/news/14001211000898/سود-مافیای-اسلحه‌سازی-آمریکا-در-ناامن-بودن-جهان-است\n",
      "\n",
      "محمد حسن نژاد نماینده ادوار مجلس شورای اسلامی در گفت و گو با خبرنگار خبرگزاری فارس، ضمن اشاره به بیانات رهبر انقلاب در سخنرانی روز مبعث گفت: ابتدا باید تعریف مافیا را بدانیم، منظور از مافیا گروهی پشت پرده است که ارتباطات ناسالمی دارند ولی این روابط به گونه ای است که کسی متوجه نمی شود. درقضایای جاری اوکراین هم شاهد نقش آفرینی مافیای پشت پرده انگلیسی، فرانسوی و آمریکایی هستیم که با وعده هایی باعث تحریک اوکراین شدند و در نتیجه آن اوکراین و روسیه را به سمت درگیری نظامی سوق دادند، در شرایطی که دوکشورِ درگیرجنگ متحمل هزینه می شوند گروه های مافیایی درپی کسب منافع هستند. وی افزود: آمریکا با سوءاستفاده از شرایط به وجود آمده بین روسیه و اوکراین، کشورهای اروپای شرقی را از روسیه می ترساند تا برای حفاظت از خودشان در برابر حمله احتمالی روسیه، به آمریکا و مافیای حاکم بر آن باج دهند.   نماینده ادوار مجلس ضمن تاکید به هماهنگ بودن کشورهای غربی گفت: کشورهای غربی به صورت گروهی عمل می کنند و در بزنگاه ها کاملا هماهنگ هستند همچنان که شاهد هستیم در جریان نبرد میان روسیه و اوکراین در اوج اتحاد تحریم هایی را به روسیه تحمیل کردند. حسن نژاد با بیان این که رئیس جمهمور آمریکا در صحبت های خود خواسته های مافیای آمریکا را مطرح می کند، گفت: شرکت های نفت و گاز، شرکت های حمل و نقل و شرکت های اسلحه سازی از جمله مافیایی هستند که بیشترین سود را از سیاست های اعمالی روسای جمهور آمریکا می برند. وی در مورد تاثیر حضور مافیای اسلحه سازی در ساختار آمریکا تشریح کرد: مافیای آمریکا در دنیا بزرگترین تولید کنند اسلحه هستند، سود این شرکت ها زمانی حاصل می شود که ناامنی و جنگ در دنیا حاکم باشد. به عنوان مثال حوادث اخیر بین اوکراین و آمریکا باعث شده تا مقامات آلمانی ۱۰۰میلیارد یورو به بودجه نظامی ارتش اضافه کنند، بخشی از این بودجه صرف خرید تسلیحات نظامی از آمریکا می شود بنابراین شرکت های اسلحه سازی آمریکا  هستند که از جنگ جاری به سود می رسند. وی ادامه داد: در گذشته روش های استعمار متفاوت بود. از زمانی که آمریکا درعرصه جهانی به قدرت رسید سعی می کند با استفاده از مافیای اسلحه سازی و مهندسی مالی (بورس) به اهداف مد نظرش برسد. اقدامات آمریکا در راستای به وجود آوردن ناامنی یا احساس ناامنی است تا سلاح بفروشند و از این طریق منافع مافیای اسلحه سازی را تامین کند. انتهای پیام/\n",
      "\n",
      "\n",
      "\n",
      "/\\/\\/\\/\\/\\/\\/\\/\\/\\/\\/\\/\\/\\/\\/\\/\\/\\/\\/\\/\\/\\/\\/\\/\\/\\/\\/\\/\\/\\/\\/\\/\\/\\/\\/\\/\\/\\/\\/\\/\\/\\/\\/\\/\\/\\/\\/\\/\\/\\/\\\n",
      "/\\/\\/\\/\\/\\/\\/\\/\\/\\/\\/\\/\\/\\/\\/\\/\\/\\/\\/\\/\\/\\/\\/\\/\\/\\/\\/\\/\\/\\/\\/\\/\\/\\/\\/\\/\\/\\/\\/\\/\\/\\/\\/\\/\\/\\/\\/\\/\\/\\/\\\n",
      "Rank: 10\n",
      "docID: 8282\n",
      "Title: خطیب جمعه تهران: سازمان‌ همکاری اسلامی در برابر کشتار مردم یمن سکوت کرده است\n",
      "URL: https://www.farsnews.ir/news/14001108000202/خطیب-جمعه-تهران-سازمان‌-همکاری-اسلامی-در-برابر-کشتار-مردم-یمن-سکوت\n",
      "\n",
      "به گزارش خبرنگار سیاسی خبرگزاری فارس، آیت‌الله سیداحمد خاتمی امام جمعه موقت تهران، امروز در خطبه‌های اول نماز جمعه که در مصلای امام خمینی (ره) اقامه شد، در ادامه سلسله مباحث سبک زندگی اظهار داشت: آیین‌نامه زندگی خدایی در قرآن کریم و در آیه 24 سوره انفال آمده است که بر اساس آن، هر آنچه را که خدا و پیامبر اکرم (ص) دستور داده‌اند، باید عمل شود. وی ادامه داد: رسالت دین فقط آبادی آخرت نیست، بلکه دین به دنبال آبادی دنیا و آخرت است؛ کسانی که بخاطر دنیا، آخرت را فراموش می‌کنند و کسانی که بخاطر آخرت، دنیای خود را فراموش می‌کنند، هیچکدام مطلوب دین نیستند. خطیب نماز جمعه تهران تصریح کرد: این نقطه، مقابل تفکرات انحرافی سکولاریزم مذهبی است که می‌گویند کار دین، فقط آبادی آخرت است و دنیا را به اهل دنیا بسپارید. خاتمی با اشاره به خداباوری و عمل صالح به عنوان ستون فقرات تفکر دینی گفت: باید ایمان‌مدار باشیم،‌ نه ایمان‌شعار. حیات واقعی در سایه دین و عمل به دستورات خداوند و پیامبر (ص) است و آنهایی که این زندگی را ندارند، زندگی حیوانی دارند. وی همچنین با اشاره به اهمیت مسئله «جهاد تبیین» مورد تاکید رهبر انقلاب و روشنگری و نشان دادن راه و چاه به جامعه، اظهار داشت: جهاد شامل عرصه‌های مختلف فرهنگی، سیاسی و اقتصادی می‌شود و همه این‌ها مورد تاکید قرآن کریم است. * عدم رعایت دستورالعمل‌های بهداشتی کرونا، حق‌الناس است خطیب نماز جمعه تهران در ادامه و در خطبه‌های دوم نماز، با تبریک فرا رسیدن ماه رجب، بر لزوم قدرشناسی فرصت‌های این ماه و بهره گر فتن از آن تاکید کرد. آیت‌الله خاتمی همچنین با تبریک ششمین صعود تیم ملی فوتبال کشورمان به جام جهانی، اظهار داشت: امیدواریم جوانان ما در همه عرصه‌ها بدرخشند. وی همچنین ارتحال آیت‌الله گرایلی از علمای حوزه علمیه خراسان را به شاگردان وی و حوزه‌های علمیه تسلیت گفت. امام جمعه موقت تهران در ادامه، با بیان اینکه موج ششم کرونا بسیار سریع گسترش می‌یابد، خاطرنشان کرد: ما اخیرا به روزی 700 مبتلا رسیدیم و دیگر شهر قرمز و نارنجی نداشتیم،‌ اما دوباره شهرهای قرمز و نارنجی زیاد شده است؛ آنچه انتظار می‌رود رعایت دستورالعمل‌های بهداشتی شامل واکسن زدن، رعایت فاصله‌گذاری اجتماعی و زدن واکسن در سه دوز است. خاتمی تصریح کرد: همه بدانیم که این مسئله حق‌الناس است؛ کسی که ماسک نمی‌زند، فکر نکند شجاع است! این حق‌الناس است که در اجتماعات ماسک نزنیم و دیگران را آلوده کنیم. وی خطاب به مردم تاکید کرد: این مدت باقیمانده را رعایت کنیم تا به زودی خبر خوش ریشه‌کنی این ویروس را بشنویم. * فاجعه انسانی در یمن/ مجامع جهانی به تنها چیزی که فکر نمی‌کنند، حقوق بشر است امام جمعه موقت تهران در ادامه، به وضعیت کشور یمن اشاره کرد و اظهار داشت: در یمن فاجعه انسانی در حال وقوع است و ائتلاف عبری عربی مدام یمن را می‌زنند و اخیرا 60 نفر از زنان و کودکان به شهادت رسیدند و صدها نفر مجروح شدند و اینترنتشان را هم قطع کردند تا فریاد مظلومیت یمن به جهان مخابره نشود. خاتمی تصریح کرد: آنچه مایه تاسف است، این است که سازمان‌‌های حقوق بشری و سازمان همکاری اسلامی خفقان گرفته‌اند و در برابر این‌همه آدم‌کشی و مظلوم‌کشی حرف نمی‌زنند. وی ادامه داد: انصارالله را که از خودش دفاع می‌کند، محکوم کرده‌اند و ظالمان و متجاوزان را محکوم نمی‌کنند؛ این است حقوق بشر شما؟! امام جمعه موقت پایتخت تاکید کرد: بشریت باید به فکر مجامع حقوق بشری دیگری باشد؛ مجامع فعلی به تنها چیزی که فکر نمی‌کنند، حقوق بشر است. خاتمی خاطرنشان کرد: آنچه مایه افتخار است، مقاومت این مردم است؛‌ عربستان می‌خواست دو هفته‌ای یمن را بگیرد،‌ اما نزدیک 8 سال است که با مقاومت دشمن را عقب زده‌اند و این ملت شایسته تکریم و احترام است. وی همچنین به راهپیمایی امروز نمازگزاران پس از اقامه نماز اشاره کرد و گفت: راهپیمایی امروز شما راهپیمایی همدلی و حرکت خداپسند و دشمن‌ستیز است. * لزوم شکران نعمت انقلاب/ تمام تحریم‌ها باید لغو شود امام جمعه موقت تهران، همچنین با اشاره به چهل و سومین سالگرد پیروزی انقلاب اسلامی اظهار داشت: دهه فجر از مصادیق ایام‌الله است؛ یعنی روزهایی که خداوند نعمت ویژه‌ای به مردم داده است و جز با عنایت خداوند، این انقلاب پیروز نمی‌شد. خاتمی افزود: تمام دنیا اعم از آمریکا و شوروی و اروپایی‌ها پشت سر شاه بودند،‌ اما مرگ بر شاه گفتن‌های شما مردم باعث شد که شاه برود. وی تاکید کرد: شکر نعمت انقلاب، حضور همیشگی مردم در صحنه است؛ در دفاع مقدس، کار اصلی را شما مردم انجام دادند و حضور در تمام انتخابات‌های گذشته و راهپیمایی‌ها هم مصداق این شکران نعمت بوده است. خطیب نماز جمعه تهران اظهار داشت: مهمتر از این‌ها، تداوم انقلاب است؛ رهبر انقلاب اخیرا در دیدار تصویری با مردم قم، بر مسئله غیرت دینی تاکید کردند. عده‌ای القاء می‌کنند که این به معنای خشونت و بی‌تدبیری است، در حالی که غیرت دینی تبلور عقلانیت و خردورزی است و در بزنگاه‌ها انقلاب را نجات داده است. خاتمی ادامه داد: رهبر انقلاب همچنین فرمودند دشمن به دنبال حساسیت‌زدایی از مردم و متدینین است؛‌ از جمله به دنبال زدن حکومت دینی هستند و می‌گویند سکولاریزم چیز بدی نیست. همچنین، تسلیم نشدن در برابر دشمن را که از اصول انقلاب است، زیر سوال می‌برند. وی به مذاکرات لغو تحریم‌ها هم اشاره کرد و گفت: آمریکا در پی غارتگری است، نه مذاکره؛ آمریکا خواب و خیال غارتگری قبل از انقلاب را دارد و این خواب هرگز تعبیر نشده و نخواهد شد. امام جمعه موقت تهران افزود: آمریکا در طول این 43 سال هرچه توانست بر علیه این انقلاب توطئه کرد و اگر هم توطئه‌ای نکرده، چون نتوانسته، نه اینکه نخواسته است. خاتیم تصریح کرد: آنها مدام بر تحریم‌ها افزوده‌اند، خط رهبری در این حوزه روشن است؛ باید تمام تحریم‌ها اعم از هسته‌ای و حقوق بشری و ... به طور کامل و دائم لغو شود. * درباره سفر پرفایده رئیس جمهور به روسیه، بی‌مهری شد خطیب نماز جمعه تهران همچنین به سفر اخیر رئیس جمهور به روسیه اشاره کرد و اظهار داشت: سفر رئیس جمهور به روسیه از سفرهای کلیدی است؛ اما درباره این سفر پرفایده بی‌مهری شد. 17 یا 18 هدف در این سفر داشتند که به تمام آنها رسیدند. خاتمی گفت: قانون اساسی می‌گوید با تمام دنیا می‌توانیم بر اساس منافع متقابل ارتباط داشته باشیم و با رژیم صهیونیستی هیچ گاه ارتباط نخواهیم داشت و با آمریکا هم تا زمانی که آدم نشده، رابطه نخواهیم داشت. کسانی که می‌گویند ما با دنیا رابطه نداریم، گویا تمام دنیا را آمریکا می‌دانند! وی خاطرنشان کرد: اولویت سیاست خارجی ما همسایگان هستند؛ ما 15 همسایه با ظرفیت‌های فراوان داریم که می‌توانیم با ارتباط قانونی و عادلانه، مشکلاتمان را حل کنیم. خاتمی تصریح کرد: اینکه می‌گویند رئیس جمهورمان را به درستی تحویل نگرفتند، حرف درستی نیست؛ مجلس دوما در این ایام تعطیل بود، اما به گفته مسئولان آن، پای سخنرانی آیت‌الله رئیسی در دوما بیش از 400 نفر آمدند و دائما ایشان را تشویق کردند و در عرصه‌های دیگر هم احترام ایشان را نگه داشتند. امام جمعه موقت تهران گفت: آفرین بر این رئیس جمهور مردمی، بانشاط و انقلابی که از کرملین به کرمان می‌رود و به مناطق محروم و سیل‌زده سرکشی می‌کند. انتهای پیام/\n",
      "\n",
      "\n",
      "\n",
      "/\\/\\/\\/\\/\\/\\/\\/\\/\\/\\/\\/\\/\\/\\/\\/\\/\\/\\/\\/\\/\\/\\/\\/\\/\\/\\/\\/\\/\\/\\/\\/\\/\\/\\/\\/\\/\\/\\/\\/\\/\\/\\/\\/\\/\\/\\/\\/\\/\\/\\\n",
      "/\\/\\/\\/\\/\\/\\/\\/\\/\\/\\/\\/\\/\\/\\/\\/\\/\\/\\/\\/\\/\\/\\/\\/\\/\\/\\/\\/\\/\\/\\/\\/\\/\\/\\/\\/\\/\\/\\/\\/\\/\\/\\/\\/\\/\\/\\/\\/\\/\\/\\\n",
      "Rank: 9\n",
      "docID: 7491\n",
      "Title: مسائل اقتصادی کشور را معطل نتیجه مذاکرات نمی‌‌کنیم\n",
      "URL: https://www.farsnews.ir/news/14001203000383/مسائل-اقتصادی-کشور-را-معطل-نتیجه-مذاکرات-نمی‌‌کنیم\n",
      "\n",
      "جبار کوچکی‌نژاد نماینده مردم رشت در مجلس شورای اسلامی در گفت‌وگو با خبرنگار پارلمانی خبرگزاری فارس، گفت: تجربه مذاکرات در سال‌های قبل با اروپا و آمریکا و به طور کل تجربه سال‌ها و دهه‌های قبل به ما نشان داده که غربی‌ها و به ویژه آمریکا قابل اعتماد نیستند. وی افزود: ما با توجه به این تجربه نباید حل مشکلات معیشتی و مسائل اقتصادی کشور را‌‌‌‌‌‌‌‌ به مذاکره با این کشورها منوط کنیم، آن هم در شرایطی که می‌دانیم اگر توافقی هم باشد آمریکایی‌ها عهدشکن هستند. عضو کمیسیون برنامه، بودجه و محاسبات مجلس اظهار داشت: ما باید با تکیه بر توان داخلی و ایجاد ثبات و رشد اقتصادی در کشور از این طریق در مسیر خنثی‌سازی تحریم‌ها گام برداریم و با قوی‌ شدن خودمان زمینه را‌‌‌‌‌‌‌‌ برای بی‌اثر کردن تحریم‌ها فراهم کنیم. کوچکی‌نژاد خاطرنشان کرد: رفع تحریم‌ها برای ما می‌تواند گشایش ایجاد کند، اما اولا رفع تحریم‌ها در اختیار ما نیست بلکه در اختیار دشمن ماست و طبیعتا ما نباید ادامه مسیر رشد و پیشرفت کشورمان را‌‌‌‌‌‌‌‌ منوط به رفع تحریم‌ها کنیم. وی افزود: ما باید بدانیم که آمریکا به عنوان یک دشمن همواره در صدد ضربه زدن به کشور، نظام و ملت ماست و طبیعتا بنایش برای آزادسازی تحریم‌ها و ایجاد گشایش اقتصادی در کشور ما نخواهد بود. انتهای پیام/‌‌‌‌‌‌‌‌‌‌‌‌‌‌‌‌‌‌‌‌\n",
      "\n",
      "\n",
      "\n",
      "/\\/\\/\\/\\/\\/\\/\\/\\/\\/\\/\\/\\/\\/\\/\\/\\/\\/\\/\\/\\/\\/\\/\\/\\/\\/\\/\\/\\/\\/\\/\\/\\/\\/\\/\\/\\/\\/\\/\\/\\/\\/\\/\\/\\/\\/\\/\\/\\/\\/\\\n",
      "/\\/\\/\\/\\/\\/\\/\\/\\/\\/\\/\\/\\/\\/\\/\\/\\/\\/\\/\\/\\/\\/\\/\\/\\/\\/\\/\\/\\/\\/\\/\\/\\/\\/\\/\\/\\/\\/\\/\\/\\/\\/\\/\\/\\/\\/\\/\\/\\/\\/\\\n",
      "Rank: 7\n",
      "docID: 9772\n",
      "Title: غربی‌ها حقوق زنان را دستاویز مداخله در امور داخلی کشورها کرده‌اند/ تحقیر زن در غرب\n",
      "URL: https://www.farsnews.ir/news/14000924000307/غربی‌ها-حقوق-زنان-را-دستاویز-مداخله-در-امور-داخلی-کشورها-کرده‌اند-\n",
      "\n",
      "مرضیه افشارنیا فعال دانشجویی در گفت‌وگو با خبرنگار تشکل‌های دانشگاهی خبرگزاری فارس، با اشاره به بیانات رهبر انقلاب درباره تحقیر زن در غرب گفت: خشونت علیه زنان در همه جای جهان مذموم انگاشته و همگان در پیشگیری و مقابله با آن مسئولیت دارند، اما غرب و در راس آن آمریکا با رویکردی ریاکارانه و نادیده انگاشتن نقض‌های گسترده حقوق زنان، انگشت اتهام خود را پیوسته به سمت دیگر کشورها نشانه گرفته و آن را به دستاویزی برای مداخله در امور داخلی آن ها مبدل ساخته است.  دبیرکل مجمع اسلامی دانشجویان واحد فلاورجان ادامه داد: ایالات متحده آمریکا در دهه‌های گذشته همواره داعیه‌دار دفاع از مبانی و اصول حقوق بشر بوده و بر همین مبنا و به نام حقوق بشر در سایر کشورها اظهارات مداخله جویانه داشته است. وی افزود: بدیهی است که دولتمردان این کشور موضع‌گیری در خصوص وضعیت حقوق بشر در جهان را بر مبنای ترجیحات و منافع سیاسی انجام می‌دهند و همین رویه موجبات استفاده ابزاری آمریکا از موضوع حقوق بشر را در سطح بین‌المللی و وضع تحریم‌های اقتصادی و تحمیل فشارهای سیاسی علیه کشورهای مستقل را فراهم ساخته است. درحالیکه در داخل آمریکا نیز شاهد نقض مکرر حقوق حقه بشر و حقوق زنان هستیم. افشارنیا یادآور شد: با توجه به این واقعیات است که مقام معظم رهبری نیز همواره بر تلاش برای افشای ماهیت ضد حقوق بشری دولت آمریکا تأکید داشته‌اند و نامگذاری هفته حقوق بشر آمریکایی نیز در همین راستا است تا بدین ترتیب عدم صداقت و صلاحیت آمریکا در پیگیری مسائل حقوق بشری به تصویر کشیده شود. وی تاکید کرد: نگاه اسلام به زن با نگاهی که غرب به زن دارد بسیار متفاوت است، اسلام برای زن جایگاه والایی قائل است و میان زن و مرد از لحاظ ارزش‌های انسانی در اسلام تفاوتی نیست، و رهبر انقلاب در تبیین این موضوع می‌فرمایند: « نگاه اسلام این است که زن و مرد از لحاظ ارزشهای انسانی برابرند:« إِنَّ المُسلِمینَ وَالمُسلِماتِ وَالمُؤمِنینَ وَالمُؤمِناتِ وَالقانِتینَ وَالقانِتاتِ وَالصّادِقینَ وَالصّادِقاتِ وَالصّابِرینَ وَالصّابِراتِ وَالخاشِعینَ وَالخاشِعاتِ وَالمُتَصَدِّقینَ وَالمُتَصَدِّقاتِ ...﴿احزاب:۳۵﴾» انتهای پیام/\n",
      "\n",
      "\n",
      "\n",
      "/\\/\\/\\/\\/\\/\\/\\/\\/\\/\\/\\/\\/\\/\\/\\/\\/\\/\\/\\/\\/\\/\\/\\/\\/\\/\\/\\/\\/\\/\\/\\/\\/\\/\\/\\/\\/\\/\\/\\/\\/\\/\\/\\/\\/\\/\\/\\/\\/\\/\\\n"
     ]
    },
    {
     "data": {
      "text/plain": [
       "<__main__.Query at 0x1d4a7503700>"
      ]
     },
     "execution_count": 39,
     "metadata": {},
     "output_type": "execute_result"
    }
   ],
   "source": [
    "Query('تحریم‌های آمریکا ! ایران')"
   ]
  },
  {
   "cell_type": "markdown",
   "id": "dac41c65",
   "metadata": {},
   "source": [
    "- [ ] A query with a phrase operator (such as \"کنگره ضدتروریست\", it is expected that there will be documents containing the phrase کنگره ضدتروریست in the retrieved results; in other words, the location of the words is important in this case.)"
   ]
  },
  {
   "cell_type": "code",
   "execution_count": 40,
   "id": "f40573d9",
   "metadata": {},
   "outputs": [
    {
     "name": "stdout",
     "output_type": "stream",
     "text": [
      "/\\/\\/\\/\\/\\/\\/\\/\\/\\/\\/\\/\\/\\/\\/\\/\\/\\/\\/\\/\\/\\/\\/\\/\\/\\/\\/\\/\\/\\/\\/\\/\\/\\/\\/\\/\\/\\/\\/\\/\\/\\/\\/\\/\\/\\/\\/\\/\\/\\/\\\n",
      "Rank: 1\n",
      "docID: 6929\n",
      "Title: توضیحات یک منبع آگاه درباره وقفه مذاکرات وین\n",
      "URL: https://www.farsnews.ir/news/14001222000450/توضیحات-یک-منبع-آگاه-درباره-وقفه-مذاکرات-وین\n",
      "\n",
      "به گزارش خبرنگار سیاسی خبرگزاری فارس، به نظر می‌رسد مذاکرات وین به روزهای آخر خود نزدیک شده است و براساس اعلام برخی منابع تا رسیدن به توافق راه زیادی باقی نمانده و تنها نیاز است آمریکا به آنچه در برجام برای برداشتن تحریم‌ها وعده داده  عمل کند و تضمین معتبری هم برای انجام این تعهدات داده شود. براساس اعلام مسئولان سیاست خارجه در کنار دریافت تضمین‌ معتبر، برداشتن همه تحریم‌ها از نکات و مطالبات اصلی ایران در مذاکرات است. اما به نظر می‌رسد آمریکا در مقابل عمل به این تعهد برجامی مقاومت می‌کند. * تحریم‌های آمریکا علیه ایران آمریکا پس از تسخیر لانه‌ جاسوسی آمریکا در تهران، «کارتر» در تاریخ 8 نوامبر 1979م. با استناد به قانون‌ «کنترل صدور تسلیحات نظامی»، کشتی حامل‌ لوازم یدکی نظامی متعلق به ایران را توقیف کرد. ارزش این لوازم 300 میلیون دلار بود. با اوج‌گیری کشمکش‌های سیاسی بر سر مسئله‌ تصرف سفارت، دولت موقت، اعلام کرد تمام دارایی‌های‌ خود را از بانک‌های آمریکا خارج خواهد کرد. کارتر با لحاظ این احتمال، در کشور شرایط اضطراری اعلام کرد و با استناد به قانون شرایط اضطراری اقتصاد بین‌الملل (IEEPA) و قانون‌ شرایط اضطراری ملی (NEA)، با صدور دستور ویژه‌ی شماره‌ی (12170)، تمام دارایی‌های ایران در آمریکا را به تصرف خود درآورد.   مجموع پس‌اندازها و اوراق بهادار بلوکه شده‌ی ایران بالغ بر 12 میلیارد دلار بود. حدود 1.4میلیارد دلار در بانک «فدرال رزرو» آمریکا، 5.6میلیارد دلار در شعب مختلف بانک‌های این کشور‌ در خارج از آمریکا، 2 میلیارد دلار در سایر بانک‌های آمریکا و حدود 2 میلیارد دلار در اختیار شهروندان و مؤسسه‌های خصوصی ایالات متحده بود. همچنین 1.6میلیون اونس طلا به حساب بانک‌ مرکزی ایران در بانک «فدرال رزرو» نگاه داشته‌ می‌شد. در تاریخ 7 آوریل 1980م. کارتر با صدور دستور ویژه‌ شماره‌ (12205)، فروش و عرضه‌ هرگونه کالا و خدمات، به‌جز مواد غذایی و دارویی، به ایران را ممنوع کرد. براساس دستور ویژه‌ی (12211) به تاریخ 17 آوریل 1980م.، وارد نمودن هرگونه کالا از ایران‌ نیز ممنوع شد. این دستورات هم با استناد به‌ قانون (IEEPA) صادر شد. پس از پایان داستان‌ گروگان‌گیری در روزهای پایانی ریاست‌جمهوری‌ کارتر، وی با صدور 10 دستور ویژه، تمام‌ تحریم‌ها برضد ایران را لغو کرد، اما دولت بعدی‌ (ریگان) در عمل فقط ممنوعیت مربوط به‌ صادرات و واردات را اجرا نمود و به بهانه‌های‌ مختلف، از آزاد کردن اموال ایران طفره رفت. آمریکا از سال 1983م. تحریمی یک جانبه موسوم به عملیات «استانج» را برضد ایران آغاز کرد.   در این راستا ایالات متحده با 20کشور درباره‌ی ارسال نکردن سلاح به ایران وارد مذاکره شد تا آن‌ها را مجاب کند که سلاح به ایران نفروشند. این تحریم در شرایط درگیری ایران در جنگ تحمیلی با هدف حمایت از عراق بعثی در برابر ایران اسلامی بود.    در ادامه‌ تحریم‌های اعمال شده از سوی آمریکا، بار دیگر در سال 1984م. آمریکا صادرات برخی از مواد شیمیایی را به ایران ممنوع کرد. ممنوعیت برخی از مواد شیمیایی بعد از ماجرای ایران-کنترا در سال 1987م. به 150 نوع کالا که دارای کاربرد نظامی نیز بودند، گسترش یافت. همچنین در تاریخ 6 نوامبر سال‌ 1987م. نمایندگان کنگره در واکنش به خریدهای‌ نفت اداره‌ی انرژی آمریکا از ایران، لایحه‌ای به‌ مجلس برده و با تصویب آن واردات نفت از ایران‌ را ممنوع کردند.   ریگان که نمی‌خواست کمتر از کنگره ضدتروریست جلوه کند، 3هفته بعد با صدور دستور ویژه‌ی (12613) ورود هرگونه کالا و خدمات از ایران را ممنوع کرد. وی برای صدور این دستور به بند 505 «قانون همکاری‌های‌ بین‌المللی امنیتی و توسعه»، مصوب سال‌ 1985م. استناد کرد. در واقع زمانی که ایران درگیر جنگ تحمیلی بود، ایالات متحده به تعریف سیاست‌های تحریمی پرداخت که بتواند بر نتیجه‌ی جنگ ایران و عراق تأثیری شگرف بگذارد و رقیب نوپای اسلامی خود را در جنگی نابرابر از میدان به در کند. اما پایان جنگ، تافته‌ی بافته‌ی آمریکا را ریش ریش کرد. * پایان جنگ، تداوم تحریم با پذیرش قطعنامه‌ی (598) توسط ایران، جنگ تحمیلی، رسمی و فیزیکی برضد جمهوری اسلامی پایان یافت، اما حربه‌ی نرم، جایگزین حربه‌ی سخت جنگ شد. به موازات تحریم‌های قبلی، سیاست اعمال فشار و تحریم برضد ایران تداوم یافت. با آغاز ریاست جمهوری «بیل کلینتون» در سال 1992م. روابط ایران و آمریکا وارد مرحله‌ی تازه‌ای شد. استراتژی جدید آمریکا درباره‌ی ایران و عراق «سیاست مهاردوگانه» بود.   براساس این سیاست، آمریکا در نخستین گام، محدودیت‌هایی برای خرید نظامی ایران، ممنوعیت کمک و تخصیص اعتبار، کنترل صادرات و واردات، جلوگیری از اعطای وام از سوی بانک جهانی و صندوق بین‌المللی پول و ادامه‌ی توقیف اموال ایران اعمال کرد. کلینتون در اسفند ماه 1373 فرمان اجرایی شماره‌ی (12957) مبنی بر ممنوعیت برخی معاملات مربوط به توسعه‌ی منابع نفتی ایران را امضا نمود.   بدین ترتیب شرکت‌های آمریکایی از سرمایه‌گذاری در بخش نفت و گاز ایران منع شدند. رئیس جمهور آمریکا بار دیگر در اردیبهشت 1374 طی فرمان شماره‌ی (12959) تحریم‌های جدیدی را برضد ایران اعمال کرد. بر این اساس شرکت‌های آمریکایی از خرید نفت از ایران منع شدند. در این دوران آمریکا سیاست‌های ضد ایرانی خود را ادامه داد به گونه‌ای که در مرداد 1375 قانون مجازات‌ها برضد ایران و لیبی در کنگره تصویب شد.   طبق این قانون که به «داماتو» معروف شد، شرکت‌های غیرآمریکایی که در بخش نفت و گاز لیبی و ایران سرمایه‌گذاری کنند، مجازات خواهند شد. بنابراین علاوه بر شرکت‌های آمریکایی، تمامی شرکت‌های خارجی دیگر از سرمایه‌گذاری بیش از 20 میلیون دلار در ایران منع شدند. * 11 سپتامبر، موج جدید تحریمها همچنان در دوره‌های بعدی نیز تحریم‌ها برضد ایران توسط رؤسای جمهور آمریکا تمدید می‌شد. با این حال به دنبال رویداد 11 سپتامبر 2001م. «جورج بوش»، رئیس‌جمهور وقت آمریکا قانونی را تصویب کرد که اجازه‌ی بلوکه‌ی اموال و دارایی‌های اشخاص حقوقی و حقیقی حامی تروریسم را ارائه می‌کرد. چندی بعد شماری از اشخاص حقیقی و حقوقی در ایران نیز در فهرست تحریم‌ها قرار گرفتند. به طوری که برخی بانک‌ها مانند بانک سپه و ملی، مقاطعه‌کاران در صنعت دفاعی و شرکت‌های سپاه پاسداران به همراه مقام‌های سپاه و نیروی قدس در فهرست تحریم‌ها قرار گرفتند. در راستای سیاست‌های آمریکا در ژوئن 2008م. اتحادیه‌ی اروپا دارایی بیش از 40 شخص حقیقی و حقوقی که با بانک ملی ایران همکاری داشتند را مسدود کرد. ژاپن و اتحادیه‌ی اروپا همچنین محدودیت‌هایی را در جهت اعطای وام به ایران اعمال کردند. همچنین در جولای 2010م.، «اوباما» تحریم شرکت‌های داخلی و خارجی که به ایران بنزین می‌فروشند یا به ارتقای ظرفیت پالایشگاهی جمهوری اسلامی کمک می‌کنند را تصویب کرد.  * تحریم‌های هسته‌ای پس از 11 سپتامبر و موج جدیدی از تحریم‌ها برضد ایران، ترسیم چهره‌ی «ایران هسته‌ای» در صدر تبلیغات منفی از جمهوری اسلامی قرار گرفت. به دنبال این امر کشورهای غربی در صدد اعمال تحریم‌های گوناگون اقتصادی و تکنولوژیکی برضد ایران برآمدند و با طرح فعالیت‌های هسته‌ای ایران در شورای امنیت به مخاصمه با این کشور پرداختند. در این راستا ایالات متحده پس از 11 سپتامبر 2001م.، جمهوری اسلامی ایران را کشوری در پی «دستیابی به سلاح‌های کشتار جمعی و بر هم زننده‌ی صلح و ثبات بین‌المللی» معرفی کرد و تمام تلاش خود را جهت ناکامی ایران در اجرای فعالیت‌های هسته‌ای و ارجاع پرونده‌ی ایران به شورای امنیت به کار گرفت. قطعنامه‌ی (1737) که در 23 دسامبر 2006م. به تصویب اعضای شورای امنیت رسید، در عمل ایران را به فصل7 و ماده‌ی 41 منشور ملل متحد کشاند. این قطعنامه دارایی‌های برخی مؤسسه‌ها و افراد مرتبط با برنامه‌های هسته‌ای ایران در خارج از کشور را مسدود نمود. همچنین در این قطعنامه ذکر شده بود که در صورت بی‌اعتنایی مجدد ایران به قطعنامه‌ی یاد شده و متوقف نشدن فعالیت‌های هسته‌ای در مدت زمان مقرر (60 روزه) از سوی شورای امنیت، تهران با تحریم‌های سخت‌تری مواجه خواهد شد.  اگر چه قطعنامه‌ی یاد شده لحنی تند داشت و ضرب‌الاجلی 2 ماهه برای ایران تعیین کرده بود، با این حال جمهوری اسلامی ایران ضمن رد و غیرعادلانه خواندن قطعنامه و انتقاد از برخورد دوگانه‌ی شورای امنیت، مصرانه بر ادامه‌ی فعالیت‌های صلح‌آمیز خود جهت دستیابی به فن‌آوری هسته‌ای پای فشرد. بدین ترتیب پس از پایان مهلت 2ماهه، شورای امنیت و اعتنا نکردن ایران به قطعنامه‌ی یاد شده، قطعنامه‌ی سوم شورای امنیت پس از حدود یک ماه رایزنی در 24 مارس 2007م. به تصویب رسید.   قطعنامه‌ی (1747) ضمن مسدود نمودن دارائی‌های 28 فرد و نهاد ایرانی مرتبط با برنامه‌های هسته‌ای ایران و جلوگیری از صادرات تسلیحاتی ایران، تحریم‌های تنبیهی جدیدی را نیز برضد تهران وضع کرد و یک بار دیگر از ایران خواست که طی 60 روز آینده فعالیت‌های هسته‌ای خود را به حالت تعلیق درآورد. در تیرماه 1387 چهار گروه صنعتی ایران شامل مجموعه‌ی صنایع شهید ستاری، هفت تیر، گروه صنایع مهمات و متالورژی و صنایع شیمی پارچین مشمول تحریم‌های آمریکا شدند. وزارت خزانه‌داری ایالات متحده در آذر 1389 اعلام کرد که شرکت‌ها و بانک‌های نفت و گاز پارس، بیمه‌ی معلم، بانک مهر، بانک انصار، شرکت کشتیرانی لاینر ترانسپورت کیش و بنیاد تعاون سپاه را به فهرست سیاه تحریمی خود می‌افزاید. در بهمن 1389 (اوایل سال 2011م.)، وزارت خزانه‌داری آمریکا، تحریم‌های جدیدی را برضد بانک رفاه ایران تحمیل کرد.افزون بر این‌ها، قانون تحریم همه ‌جانبه‌ی ایران در سال 1389 به تصویب کنگره‌ی این کشور رسید. این تحریم‌ها رئیس‌جمهور آمریکا را قادر می‌سازد تا شرکت‌های خارجی که به ایران بنزین و دیگر فرآورده‌های نفتی پالایش شده را صادر می‌کنند، مجازات کند. * تحریم‌های اروپا برضد ایران همراهی اروپا با غرب در اعمال فشار بر جمهوری اسلامی در سال‌های اخیر قابل توجه است. به موازات تحریم‌های تعریف شده‌ی آمریکا برضد ایران، اروپا نیز از این دور عقب نمانده است. دولت انگلیس در ژوئن 2008م. اعلام کرد که در ادامه‌ی سیاست تحریم برضد ایران، دارایی‌های بزرگ‌ترین بانک ایران، یعنی بانک ملی را ضبط و تحریم می‌کند. بانک «بارکلیز» یکی از بزرگ‌ترین بانک‌های انگلستان، حساب‌های ایرانیان از جمله بانک صادرات و بانک ملی ایران را مسدود کرده است. اوایل سال 2008م. برخی از دانشگاه‌های هلند، بر طبق بخشنامه‌های وزارتخانه‌های کشوری، از پذیرش دانشجویان ایرانی به دلیل آنچه مسائل مربوط به فن‌آوری هسته‌ای خواندند؛ ممانعت کردند.   همچنین بانک‌های«لامبرت بروکسل» بلژیک و بانک «دویچ» آلمان معاملات ارزی با ایران را در سال 2008م. قطع کردند. در آوریل 2008م.، سوئیس دارایی‌های 12 شرکت ایرانی را به بهانه‌ی دستورهای تحریمی شورای امنیت سازمان ملل برضد ایران، ضبط و مصادره نمود. اتحادیه‌ی اروپا 180 شرکت تجاری و شخص ایرانی را مشمول تحریم‌های جدید بخش ترابری و انرژی کرد. شرکت‌هایی در این خصوص به فهرست تحریم‌شدگان پرونده‌ی اتمی ایران پیوستند که با شرکت‌های کشتیرانی و سپاه پاسداران انقلاب اسلامی ایران ارتباط دارند. آخرین و جدیدترین تحریم نیز، ممنوعیت خرید نفت ایران است که از اواخر بهار 1391 اعمال شده است. بر این اساس کشورهای اروپایی از خرید نفت ایران ممنوع شدند و دیگر کشورها را نیز برای کاستن از خرید نفت ایران، تحت فشار قرار می‌دهند. بدین ترتیب آمریکا و متحدانش در طول 33 سال گذشته، بارها با انواع تحریم‌ها تلاش کرده‌اند تا جمهوری اسلامی ایران را از دستیابی به اهداف سیاسی خود بازداشته و در راستای اهداف سیاسی خود آن را به راه آورده و به تغییر رابطه با غرب وادارند.  همانطور که گفته شد تحریم به مسائل هسته ای محدود نمی شود و امری باسابقه است و از ابتدای انقلاب وجود داشته است.  بنابراین همان‌طوری که مقام معظم رهبری نیز بارها تأکید فرموده‌اند، وضع تحریم علیه جمهوری اسلامی بیش از آنکه به مسائل هسته‌ای ارتباط پیدا کند، به تخاصم استکبار جهانی با انقلاب اسلامی بازمی‌گردد. حضرت آیت‌الله خامنه ای سرافرازی، روحیه استقلال طلبی، عدم تسلیم ملت ایران و اسلام خواهی را عمده دلیل مخالفت و دشمنی غربی ها با ملت ایران عنوان نمودند. * مقاومت غرب و آمریکا برای عمل به تعهدات خود لغو تحریم‌های ظالمانه آمریکا و غرب علیه ایران، از مطالبات اصلی و مهم مردم و تیم مذاکره کننده در مذاکرات وین است، اما به نظر می‌رسد آمریکا و غرب تلاش دارند بدون لغو این تحریم‌ها به توافق دست یابند.  یک منبع آگاه در باره این موضوع  و همچنین درباره وقفه ایجاد شده در مذاکرات وین به خبرنگار فارس گفت: غرب و امریکا همچنان در مقابل برداشتن همه تحریم‌ها مقاومت می‌کنند و با خواسته ایران در این باره تا این زمان موافقت نکرده اند. وی افزود: طرف مقابل در مذاکرات هسته‌ای درگذشته با برداشتن تعدادی از تحریم ها موافقت کرده، اما برخی از تحریم‌های اصلی همچنان باقی است. انتهای پیام/91\n",
      "\n",
      "\n",
      "\n",
      "/\\/\\/\\/\\/\\/\\/\\/\\/\\/\\/\\/\\/\\/\\/\\/\\/\\/\\/\\/\\/\\/\\/\\/\\/\\/\\/\\/\\/\\/\\/\\/\\/\\/\\/\\/\\/\\/\\/\\/\\/\\/\\/\\/\\/\\/\\/\\/\\/\\/\\\n"
     ]
    },
    {
     "data": {
      "text/plain": [
       "<__main__.Query at 0x1d4b44cbe80>"
      ]
     },
     "execution_count": 40,
     "metadata": {},
     "output_type": "execute_result"
    }
   ],
   "source": [
    "Query('\"کنگره ضدتروریست\"')"
   ]
  },
  {
   "cell_type": "markdown",
   "id": "996ab113",
   "metadata": {},
   "source": [
    "- [ ] A complex query (like 'تحریم هسته‌ای\" آمریکا ! ایران\"', it is expected that there will be documents that include the word تحریم هسته‌ای and the word آمریکا but not the word ایران in the retrieved results.)"
   ]
  },
  {
   "cell_type": "code",
   "execution_count": 41,
   "id": "6ee124fa",
   "metadata": {},
   "outputs": [
    {
     "name": "stdout",
     "output_type": "stream",
     "text": [
      "There isn't any doc related to this query\n"
     ]
    },
    {
     "data": {
      "text/plain": [
       "<__main__.Query at 0x1d4a74fbc10>"
      ]
     },
     "execution_count": 41,
     "metadata": {},
     "output_type": "execute_result"
    }
   ],
   "source": [
    "Query('\"تحریم هسته‌ای\" آمریکا گزارش ! ایران')"
   ]
  },
  {
   "cell_type": "markdown",
   "id": "9deeb818",
   "metadata": {},
   "source": [
    "- [ ] A query of rare words (such as 'اورشلیم ! صهیونیست', the expected output of this part is similar to part B, with the difference that the words used in the query are rare words.)"
   ]
  },
  {
   "cell_type": "code",
   "execution_count": 42,
   "id": "13c834a7",
   "metadata": {},
   "outputs": [
    {
     "name": "stdout",
     "output_type": "stream",
     "text": [
      "There isn't any doc related to this query\n"
     ]
    },
    {
     "data": {
      "text/plain": [
       "<__main__.Query at 0x1d4a74df100>"
      ]
     },
     "execution_count": 42,
     "metadata": {},
     "output_type": "execute_result"
    }
   ],
   "source": [
    "Query('اورشلیم ! صهیونیست')"
   ]
  }
 ],
 "metadata": {
  "kernelspec": {
   "display_name": "Python 3",
   "language": "python",
   "name": "python3"
  },
  "language_info": {
   "codemirror_mode": {
    "name": "ipython",
    "version": 3
   },
   "file_extension": ".py",
   "mimetype": "text/x-python",
   "name": "python",
   "nbconvert_exporter": "python",
   "pygments_lexer": "ipython3",
   "version": "3.9.12"
  }
 },
 "nbformat": 4,
 "nbformat_minor": 5
}
