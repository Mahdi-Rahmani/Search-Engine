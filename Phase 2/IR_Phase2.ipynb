{
 "cells": [
  {
   "cell_type": "markdown",
   "id": "1bcd7ca3",
   "metadata": {},
   "source": [
    "<div class=\"alert alert-block alert-success\">\n",
    "    <h1 align=\"center\">Information Retrival Systems</h1>\n",
    "    <h2 align=\"center\">Simple search engine project</h2>\n",
    "    <h3 align=\"center\">Phase 2</h3>\n",
    "</div>"
   ]
  },
  {
   "cell_type": "markdown",
   "id": "0c09ea9a",
   "metadata": {},
   "source": [
    "## Loading Libraries"
   ]
  },
  {
   "cell_type": "code",
   "execution_count": 18,
   "id": "55010e2e",
   "metadata": {},
   "outputs": [],
   "source": [
    "from parsivar import Normalizer, Tokenizer, FindStems\n",
    "from hazm import stopwords_list\n",
    "import pandas as pd\n",
    "import pickle\n",
    "import math"
   ]
  },
  {
   "cell_type": "markdown",
   "id": "b74d284e",
   "metadata": {},
   "source": [
    "## Loading raw and processed Data\n",
    "- loading the json file as a dataframe and also transpose it\n",
    "- loading preprocessed content\n",
    "- loading inverted index\n",
    "- create dictionary according to inverted index"
   ]
  },
  {
   "cell_type": "code",
   "execution_count": 16,
   "id": "5e54cddb",
   "metadata": {},
   "outputs": [],
   "source": [
    "df = pd.read_json('IR_data_news_12k.json')\n",
    "df = df.transpose()"
   ]
  },
  {
   "cell_type": "code",
   "execution_count": 6,
   "id": "f15e5418",
   "metadata": {},
   "outputs": [],
   "source": [
    "def load_file(filename):\n",
    "    my_file = None\n",
    "    with open(filename, 'rb') as inp:\n",
    "        my_file = pickle.load(inp)\n",
    "    return my_file"
   ]
  },
  {
   "cell_type": "code",
   "execution_count": 7,
   "id": "23dc3f20",
   "metadata": {},
   "outputs": [],
   "source": [
    "preprocessed_content = load_file('./Processed data/preprocessed_content.pkl')"
   ]
  },
  {
   "cell_type": "code",
   "execution_count": 8,
   "id": "fcaf3cf7",
   "metadata": {},
   "outputs": [],
   "source": [
    "inverted_index = load_file('./Processed data/inverted_index.pkl')"
   ]
  },
  {
   "cell_type": "code",
   "execution_count": 9,
   "id": "ab213f70",
   "metadata": {},
   "outputs": [],
   "source": [
    "dictionary = list(inverted_index.keys())"
   ]
  },
  {
   "cell_type": "markdown",
   "id": "9532c558",
   "metadata": {},
   "source": [
    "# Step1)\n",
    "## Modeling documents in vector space\n",
    "- Here we should define a function that calculate tf_idf score. The formula explained below:\n",
    "$$tfidf(t, d, D) = tf(t, d) \\times idf(t, D) = \\ (1 + log(f_{t, d})) \\times \\log(\\frac{N}{n_t})$$    "
   ]
  },
  {
   "cell_type": "code",
   "execution_count": 10,
   "id": "efbbb798",
   "metadata": {},
   "outputs": [],
   "source": [
    "def tfidf(term, doc, doc_collection, total_number_of_docs):\n",
    "    # idf is a constant value for each token and it doesnt depend on query\n",
    "    N = total_number_of_docs\n",
    "    nt = doc_collection[term]['doc_frequency']\n",
    "    idf = math.log10(N / nt)\n",
    "    \n",
    "    # now we should compute number of term in that doc\n",
    "    term_count = doc.count(term)\n",
    "    if term_count == 0:\n",
    "        tf = 0\n",
    "    else:\n",
    "        tf = 1+math.log10(term_count)\n",
    "    \n",
    "    return  tf*idf"
   ]
  },
  {
   "cell_type": "code",
   "execution_count": 19,
   "id": "547a143b",
   "metadata": {},
   "outputs": [
    {
     "name": "stdout",
     "output_type": "stream",
     "text": [
      "0.007249774608743844\n"
     ]
    }
   ],
   "source": [
    "print(tfidf('خبرگزاری',df.iloc[3]['content'], inverted_index , len(df)))"
   ]
  },
  {
   "cell_type": "code",
   "execution_count": null,
   "id": "df7b8ffe",
   "metadata": {},
   "outputs": [],
   "source": []
  }
 ],
 "metadata": {
  "kernelspec": {
   "display_name": "Python 3",
   "language": "python",
   "name": "python3"
  },
  "language_info": {
   "codemirror_mode": {
    "name": "ipython",
    "version": 3
   },
   "file_extension": ".py",
   "mimetype": "text/x-python",
   "name": "python",
   "nbconvert_exporter": "python",
   "pygments_lexer": "ipython3",
   "version": "3.9.12"
  }
 },
 "nbformat": 4,
 "nbformat_minor": 5
}
